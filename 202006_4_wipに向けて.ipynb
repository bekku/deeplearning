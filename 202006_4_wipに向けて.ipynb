{
  "nbformat": 4,
  "nbformat_minor": 0,
  "metadata": {
    "colab": {
      "name": "202006-4-wipに向けて.ipynb",
      "provenance": [],
      "collapsed_sections": [],
      "authorship_tag": "ABX9TyPczBQ+fRBkZqu1NpNoUZSH",
      "include_colab_link": true
    },
    "kernelspec": {
      "name": "python3",
      "display_name": "Python 3"
    },
    "accelerator": "GPU"
  },
  "cells": [
    {
      "cell_type": "markdown",
      "metadata": {
        "id": "view-in-github",
        "colab_type": "text"
      },
      "source": [
        "<a href=\"https://colab.research.google.com/github/bekku/deeplearning/blob/master/202006_4_wip%E3%81%AB%E5%90%91%E3%81%91%E3%81%A6.ipynb\" target=\"_parent\"><img src=\"https://colab.research.google.com/assets/colab-badge.svg\" alt=\"Open In Colab\"/></a>"
      ]
    },
    {
      "cell_type": "code",
      "metadata": {
        "id": "7xfH4pVxedm_",
        "colab_type": "code",
        "colab": {
          "base_uri": "https://localhost:8080/",
          "height": 51
        },
        "outputId": "d60006f5-7690-4a7f-ee3e-82bc304442c7"
      },
      "source": [
        "import torch\n",
        "import torch.nn.functional as f\n",
        "from torch.utils.data import DataLoader\n",
        "from torchvision import datasets, transforms\n",
        "import matplotlib.pyplot as plt\n",
        "from tqdm import tqdm\n",
        "import numpy as np\n",
        "import time\n",
        "\n",
        "from google.colab import drive #インポート\n",
        "drive.mount('/content/gdrive') #GoogleDriveのマウント\n",
        "\n",
        "torch.cuda.is_available()"
      ],
      "execution_count": null,
      "outputs": [
        {
          "output_type": "stream",
          "text": [
            "Drive already mounted at /content/gdrive; to attempt to forcibly remount, call drive.mount(\"/content/gdrive\", force_remount=True).\n"
          ],
          "name": "stdout"
        },
        {
          "output_type": "execute_result",
          "data": {
            "text/plain": [
              "True"
            ]
          },
          "metadata": {
            "tags": []
          },
          "execution_count": 1
        }
      ]
    },
    {
      "cell_type": "code",
      "metadata": {
        "id": "i3c_Pe5GEEMt",
        "colab_type": "code",
        "colab": {}
      },
      "source": [
        "def load_cifar10(batch=128):\n",
        "    train_loader = DataLoader(\n",
        "        datasets.CIFAR10('./data',\n",
        "                         train=True,\n",
        "                         download=True,\n",
        "                         transform=transforms.Compose([\n",
        "                             transforms.ToTensor(),\n",
        "                             transforms.Normalize(\n",
        "                                [0.5, 0.5, 0.5],  # RGB 平均\n",
        "                                [0.5, 0.5, 0.5]   # RGB 標準偏差\n",
        "                                )\n",
        "                         ])),\n",
        "        batch_size=batch,\n",
        "        shuffle=True\n",
        "    )\n",
        "\n",
        "    test_loader = DataLoader(\n",
        "        datasets.CIFAR10('./data',\n",
        "                         train=False,\n",
        "                         download=True,\n",
        "                         transform=transforms.Compose([\n",
        "                             transforms.ToTensor(),\n",
        "                             transforms.Normalize(\n",
        "                                 [0.5, 0.5, 0.5],  # RGB 平均\n",
        "                                 [0.5, 0.5, 0.5]  # RGB 標準偏差\n",
        "                             )\n",
        "                         ])),\n",
        "        batch_size=batch,\n",
        "    )\n",
        "\n",
        "    return {'train': train_loader, 'test': test_loader}"
      ],
      "execution_count": null,
      "outputs": []
    },
    {
      "cell_type": "markdown",
      "metadata": {
        "id": "YSuojR8LefpG",
        "colab_type": "text"
      },
      "source": [
        "# **与えられたリストからNNモデルの生成関数**\n",
        "\n",
        "### 問題\n",
        "\n",
        "あるN + 1 個の要素を持つ数列 A が与えられる。高橋くんは、与えられた数列の情報から隠れ層が N 個となるNNモデルを作成したい。数列のA1は、N である。\n",
        "また、Aiは各NNモデルの隠れ層iのノード数となる。\n",
        "それを満たすNNモデルを生成せよ。\n",
        "NNの入力層のノード数は3×32×32であり、出力層のノード数は10である。\n",
        "\n",
        "### 制約\n",
        "\n",
        "1 <= N <= INF\n",
        "\n",
        "### 入力\n",
        "\n",
        "[ N , A1 , A2 , , , , , AN ]"
      ]
    },
    {
      "cell_type": "code",
      "metadata": {
        "id": "WNd48_RBeq1j",
        "colab_type": "code",
        "colab": {}
      },
      "source": [
        "class CreateNet1(torch.nn.Module):\n",
        "    def __init__(self, NN_model_list):\n",
        "        super(CreateNet, self).__init__()\n",
        "\n",
        "        for i in range(NN_model_list[0]):\n",
        "            if i==0:\n",
        "                self._modules[\"fc\"+str(i+1)]= torch.nn.Linear(3 * 32 * 32, NN_model_list[1])\n",
        "                #入力層\n",
        "            else:\n",
        "                self._modules[\"fc\"+str(i+1)]= torch.nn.Linear(NN_model_list[i], NN_model_list[i+1])\n",
        "                #出力層 fcリストの個数は、常にNN_model_list[0]+1である。\n",
        "        self._modules[\"fc\"+str(i+2)]= torch.nn.Linear(NN_model_list[-1], 10)\n",
        "\n",
        "    def forward(self, x):\n",
        "        for i in range(len(self._modules)-1):\n",
        "            x = f.relu(self._modules[\"fc\"+str(i+1)](x))\n",
        "        x = self._modules[\"fc\"+str(len(self._modules))](x)\n",
        "        return f.log_softmax(x, dim=1)\n"
      ],
      "execution_count": null,
      "outputs": []
    },
    {
      "cell_type": "markdown",
      "metadata": {
        "id": "nt0u4rkTHLUe",
        "colab_type": "text"
      },
      "source": [
        "# **与えられたリストからNNモデルの生成関数2**\n",
        "\n",
        "### 問題\n",
        "\n",
        "ある N 個の要素を持つ数列 A が与えられる。高橋くんは、与えられた数列の情報から、NNモデルを作成したい。\n",
        "Aiは各NNモデルの隠れ層 i のノード数となる。隠れ層 i のノード数が0となる場合、その層 i は層とみなさないものとして生成する。\n",
        "上記を満たす、NNモデルを生成せよ。\n",
        "NNの入力層のノード数は3×32×32であり、出力層のノード数は10である。\n",
        "\n",
        "### 制約\n",
        "\n",
        "1 <= N <= INF\n",
        "\n",
        "### 入力\n",
        "\n",
        "[ A1 , A2 , , , , , AN ]"
      ]
    },
    {
      "cell_type": "code",
      "metadata": {
        "id": "mH9coJsmI3ei",
        "colab_type": "code",
        "colab": {}
      },
      "source": [
        "class CreateNet(torch.nn.Module):\n",
        "    def __init__(self, NN_model_list):\n",
        "        super(CreateNet, self).__init__()\n",
        "\n",
        "        self.NN_model_list_2=[]\n",
        "        for i in range(len(NN_model_list)):\n",
        "            if NN_model_list[i]!=0:\n",
        "                self.NN_model_list_2.append(NN_model_list[i])\n",
        "\n",
        "        NN_model_list=[len(self.NN_model_list_2)]+self.NN_model_list_2\n",
        "\n",
        "        for i in range(len(NN_model_list)-1):\n",
        "            if i==0:\n",
        "                self._modules[\"fc\"+str(i+1)]= torch.nn.Linear(3 * 32 * 32, NN_model_list[1])\n",
        "                #入力層\n",
        "            else:\n",
        "                self._modules[\"fc\"+str(i+1)]= torch.nn.Linear(NN_model_list[i], NN_model_list[i+1])\n",
        "                #出力層 fcリストの個数は、常にNN_model_list[0]+1である。\n",
        "        self._modules[\"fc\"+str(i+2)]= torch.nn.Linear(NN_model_list[-1], 10)\n",
        "\n",
        "    def forward(self, x):\n",
        "        for i in range(len(self._modules)-1):\n",
        "            x = f.relu(self._modules[\"fc\"+str(i+1)](x))\n",
        "        x = self._modules[\"fc\"+str(len(self._modules))](x)\n",
        "        return f.log_softmax(x, dim=1)\n"
      ],
      "execution_count": null,
      "outputs": []
    },
    {
      "cell_type": "code",
      "metadata": {
        "id": "WH4cDtXSs8r2",
        "colab_type": "code",
        "colab": {
          "base_uri": "https://localhost:8080/",
          "height": 102
        },
        "outputId": "50fac5ab-b30a-46ad-c9c8-28b3c4872ea3"
      },
      "source": [
        "#実際に作られました\n",
        "\n",
        "NN_model_list=[3,1024,1024,256]\n",
        "# print(*CreateNet(NN_model_list).parameters())\n",
        "# print(vars(CreateNet(NN_model_list))\n",
        "# ValueError: optimizer got an empty parameter list!の対策として、paraの確認。\n",
        "# 下のvarsによって、クラスの変数を列挙して、モデルのパラに重要なorderdictが_modulesに入ることになる。\n",
        "\n",
        "NN_model_list=[1024,256]\n",
        "print(CreateNet(NN_model_list))\n",
        "# NN_model_list=[1,1024]\n",
        "# print(CreateNet(NN_model_list))"
      ],
      "execution_count": null,
      "outputs": [
        {
          "output_type": "stream",
          "text": [
            "CreateNet(\n",
            "  (fc1): Linear(in_features=3072, out_features=1024, bias=True)\n",
            "  (fc2): Linear(in_features=1024, out_features=256, bias=True)\n",
            "  (fc3): Linear(in_features=256, out_features=10, bias=True)\n",
            ")\n"
          ],
          "name": "stdout"
        }
      ]
    },
    {
      "cell_type": "markdown",
      "metadata": {
        "id": "4JHujYwqXcWY",
        "colab_type": "text"
      },
      "source": [
        "生成モデルを動かしてみた。"
      ]
    },
    {
      "cell_type": "code",
      "metadata": {
        "id": "nC-iqeQ89dD4",
        "colab_type": "code",
        "colab": {
          "base_uri": "https://localhost:8080/",
          "height": 1000
        },
        "outputId": "055d74a3-a5eb-44cf-e5da-0062e4d08dfc"
      },
      "source": [
        "from torchsummary import summary\n",
        "NN_model_list=[1024,1024,256]\n",
        "\n",
        "if __name__ == '__main__':\n",
        "    epoch = 50\n",
        "    history = {\n",
        "        'train_loss': [],\n",
        "        'test_loss': [],\n",
        "        'test_acc': [],\n",
        "    }\n",
        "\n",
        "    net: torch.nn.Module = CreateNet(NN_model_list)\n",
        "    loaders = load_cifar10()\n",
        "\n",
        "    optimizer = torch.optim.Adam(net.parameters(), lr=0.001)\n",
        "    device = torch.device('cuda:0' if torch.cuda.is_available() else 'cpu')\n",
        "    net.to(device)\n",
        "\n",
        "    for e in range(epoch):\n",
        "\n",
        "        \"\"\" Training Part\"\"\"\n",
        "        loss = None\n",
        "        # 学習開始 (再開)\n",
        "        net.train(True)  \n",
        "        for i, (data, target) in enumerate(loaders['train']):\n",
        "            data = data.to(device)  # to GPU?\n",
        "            target = target.to(device)\n",
        "            data = data.view(-1, 32 * 32 * 3)\n",
        "            optimizer.zero_grad()\n",
        "            output = net(data)\n",
        "            loss = f.nll_loss(output, target)\n",
        "            loss.backward()\n",
        "            optimizer.step()\n",
        "\n",
        "            if i % 90 == 0:\n",
        "                print('Training log: {} epoch ({} / 50000 train. data). Loss: {}'.format(e+1,\n",
        "                                                                                         (i+1)*128,\n",
        "                                                                                         loss.item())\n",
        "                      )\n",
        "        history['train_loss'].append(loss)\n",
        "        \n",
        "        \"\"\" Test Part \"\"\"\n",
        "        # 学習のストップ\n",
        "        net.eval()\n",
        "        test_loss = 0\n",
        "        correct = 0\n",
        "\n",
        "        with torch.no_grad():\n",
        "            for data, target in loaders['test']:\n",
        "                data = data.to(device)  # to GPU?\n",
        "                target = target.to(device)\n",
        "                data = data.view(-1, 32 * 32 * 3)\n",
        "                output = net(data)\n",
        "                test_loss += f.nll_loss(output, target, reduction='sum').item()                \n",
        "                pred = output.argmax(dim=1, keepdim=True)\n",
        "                \n",
        "                correct += pred.eq(target.view_as(pred)).sum().item()\n",
        "                #eqっていうのは、同じ値だとTrueをとる。\n",
        "\n",
        "        test_loss /= 10000\n",
        "\n",
        "        print('Test loss (avg): {}, Accuracy: {}'.format(test_loss,\n",
        "                                                         correct / 10000))\n",
        "\n",
        "        history['test_loss'].append(test_loss)\n",
        "        history['test_acc'].append(correct / 10000)\n",
        "        \n",
        "    #====== 保存 =======\n",
        "    path = \"/content/gdrive/My Drive/コード/202006-4周目/rundom_model_weight.pth\" # 保存先pathの設定\n",
        "    torch.save(net.state_dict(), path) # 保存\n",
        "\n",
        "    # 結果の出力と描画\n",
        "    print(history)\n",
        "    plt.figure()\n",
        "    plt.plot(range(1, epoch+1), history['train_loss'], label='train_loss')\n",
        "    plt.plot(range(1, epoch+1), history['test_loss'], label='test_loss')\n",
        "    plt.xlabel('epoch')\n",
        "    plt.legend()\n",
        "    plt.savefig('loss.png')\n",
        "\n",
        "    plt.figure()\n",
        "    plt.plot(range(1, epoch+1), history['test_acc'])\n",
        "    plt.title('test accuracy')\n",
        "    plt.xlabel('epoch')\n",
        "    plt.savefig('test_acc.png')"
      ],
      "execution_count": null,
      "outputs": [
        {
          "output_type": "stream",
          "text": [
            "Test loss (avg): 2.092606781387329, Accuracy: 0.5381\n",
            "Training log: 14 epoch (128 / 50000 train. data). Loss: 0.3713621199131012\n",
            "Training log: 14 epoch (11648 / 50000 train. data). Loss: 0.4288032650947571\n",
            "Training log: 14 epoch (23168 / 50000 train. data). Loss: 0.3333142101764679\n",
            "Training log: 14 epoch (34688 / 50000 train. data). Loss: 0.4205192029476166\n",
            "Training log: 14 epoch (46208 / 50000 train. data). Loss: 0.44838231801986694\n",
            "Test loss (avg): 2.286080798912048, Accuracy: 0.5422\n",
            "Training log: 15 epoch (128 / 50000 train. data). Loss: 0.2954057455062866\n",
            "Training log: 15 epoch (11648 / 50000 train. data). Loss: 0.44230884313583374\n",
            "Training log: 15 epoch (23168 / 50000 train. data). Loss: 0.3482576608657837\n",
            "Training log: 15 epoch (34688 / 50000 train. data). Loss: 0.28801873326301575\n",
            "Training log: 15 epoch (46208 / 50000 train. data). Loss: 0.35611245036125183\n",
            "Test loss (avg): 2.4215006090164186, Accuracy: 0.5476\n",
            "Training log: 16 epoch (128 / 50000 train. data). Loss: 0.37874576449394226\n",
            "Training log: 16 epoch (11648 / 50000 train. data). Loss: 0.2446729987859726\n",
            "Training log: 16 epoch (23168 / 50000 train. data). Loss: 0.23813970386981964\n",
            "Training log: 16 epoch (34688 / 50000 train. data). Loss: 0.50467848777771\n",
            "Training log: 16 epoch (46208 / 50000 train. data). Loss: 0.3265891671180725\n",
            "Test loss (avg): 2.429877875328064, Accuracy: 0.5459\n",
            "Training log: 17 epoch (128 / 50000 train. data). Loss: 0.20982259511947632\n",
            "Training log: 17 epoch (11648 / 50000 train. data). Loss: 0.27234312891960144\n",
            "Training log: 17 epoch (23168 / 50000 train. data). Loss: 0.21536663174629211\n",
            "Training log: 17 epoch (34688 / 50000 train. data). Loss: 0.23268760740756989\n",
            "Training log: 17 epoch (46208 / 50000 train. data). Loss: 0.28155168890953064\n",
            "Test loss (avg): 2.6122455781936647, Accuracy: 0.5361\n",
            "Training log: 18 epoch (128 / 50000 train. data). Loss: 0.24239899218082428\n",
            "Training log: 18 epoch (11648 / 50000 train. data). Loss: 0.23177288472652435\n",
            "Training log: 18 epoch (23168 / 50000 train. data). Loss: 0.21645277738571167\n",
            "Training log: 18 epoch (34688 / 50000 train. data). Loss: 0.26920318603515625\n",
            "Training log: 18 epoch (46208 / 50000 train. data). Loss: 0.20576895773410797\n",
            "Test loss (avg): 2.7359454410552977, Accuracy: 0.5436\n",
            "Training log: 19 epoch (128 / 50000 train. data). Loss: 0.15785109996795654\n",
            "Training log: 19 epoch (11648 / 50000 train. data). Loss: 0.2291010022163391\n",
            "Training log: 19 epoch (23168 / 50000 train. data). Loss: 0.4238847494125366\n",
            "Training log: 19 epoch (34688 / 50000 train. data). Loss: 0.34553611278533936\n",
            "Training log: 19 epoch (46208 / 50000 train. data). Loss: 0.25444498658180237\n",
            "Test loss (avg): 2.7595738267898557, Accuracy: 0.5349\n",
            "Training log: 20 epoch (128 / 50000 train. data). Loss: 0.20793339610099792\n",
            "Training log: 20 epoch (11648 / 50000 train. data). Loss: 0.22336483001708984\n",
            "Training log: 20 epoch (23168 / 50000 train. data). Loss: 0.24309618771076202\n",
            "Training log: 20 epoch (34688 / 50000 train. data). Loss: 0.23339375853538513\n",
            "Training log: 20 epoch (46208 / 50000 train. data). Loss: 0.2936706840991974\n",
            "Test loss (avg): 2.9823394927978515, Accuracy: 0.536\n",
            "Training log: 21 epoch (128 / 50000 train. data). Loss: 0.11278045922517776\n",
            "Training log: 21 epoch (11648 / 50000 train. data). Loss: 0.24571052193641663\n",
            "Training log: 21 epoch (23168 / 50000 train. data). Loss: 0.3760930001735687\n",
            "Training log: 21 epoch (34688 / 50000 train. data). Loss: 0.19898879528045654\n",
            "Training log: 21 epoch (46208 / 50000 train. data). Loss: 0.3232291042804718\n",
            "Test loss (avg): 3.074152738189697, Accuracy: 0.5456\n",
            "Training log: 22 epoch (128 / 50000 train. data). Loss: 0.12960048019886017\n",
            "Training log: 22 epoch (11648 / 50000 train. data). Loss: 0.15636327862739563\n",
            "Training log: 22 epoch (23168 / 50000 train. data). Loss: 0.14188627898693085\n",
            "Training log: 22 epoch (34688 / 50000 train. data). Loss: 0.15933340787887573\n",
            "Training log: 22 epoch (46208 / 50000 train. data). Loss: 0.28088241815567017\n",
            "Test loss (avg): 3.139233204650879, Accuracy: 0.5302\n",
            "Training log: 23 epoch (128 / 50000 train. data). Loss: 0.16907532513141632\n",
            "Training log: 23 epoch (11648 / 50000 train. data). Loss: 0.21985888481140137\n",
            "Training log: 23 epoch (23168 / 50000 train. data). Loss: 0.2137550711631775\n",
            "Training log: 23 epoch (34688 / 50000 train. data). Loss: 0.31722524762153625\n",
            "Training log: 23 epoch (46208 / 50000 train. data). Loss: 0.19761177897453308\n",
            "Test loss (avg): 3.13887873916626, Accuracy: 0.5325\n",
            "Training log: 24 epoch (128 / 50000 train. data). Loss: 0.1666574478149414\n",
            "Training log: 24 epoch (11648 / 50000 train. data). Loss: 0.08560725301504135\n",
            "Training log: 24 epoch (23168 / 50000 train. data). Loss: 0.16570153832435608\n",
            "Training log: 24 epoch (34688 / 50000 train. data). Loss: 0.2775697410106659\n",
            "Training log: 24 epoch (46208 / 50000 train. data). Loss: 0.23402464389801025\n",
            "Test loss (avg): 3.3322239723205564, Accuracy: 0.5341\n",
            "Training log: 25 epoch (128 / 50000 train. data). Loss: 0.15168996155261993\n",
            "Training log: 25 epoch (11648 / 50000 train. data). Loss: 0.09004546701908112\n",
            "Training log: 25 epoch (23168 / 50000 train. data). Loss: 0.0876753181219101\n",
            "Training log: 25 epoch (34688 / 50000 train. data). Loss: 0.14007163047790527\n",
            "Training log: 25 epoch (46208 / 50000 train. data). Loss: 0.22637756168842316\n",
            "Test loss (avg): 3.3534742946624756, Accuracy: 0.5429\n",
            "Training log: 26 epoch (128 / 50000 train. data). Loss: 0.18794061243534088\n",
            "Training log: 26 epoch (11648 / 50000 train. data). Loss: 0.17627577483654022\n",
            "Training log: 26 epoch (23168 / 50000 train. data). Loss: 0.2683817148208618\n",
            "Training log: 26 epoch (34688 / 50000 train. data). Loss: 0.10476768761873245\n",
            "Training log: 26 epoch (46208 / 50000 train. data). Loss: 0.18175403773784637\n",
            "Test loss (avg): 3.5655616119384765, Accuracy: 0.5265\n",
            "Training log: 27 epoch (128 / 50000 train. data). Loss: 0.2134193778038025\n",
            "Training log: 27 epoch (11648 / 50000 train. data). Loss: 0.20006784796714783\n",
            "Training log: 27 epoch (23168 / 50000 train. data). Loss: 0.2253299355506897\n",
            "Training log: 27 epoch (34688 / 50000 train. data). Loss: 0.12742175161838531\n",
            "Training log: 27 epoch (46208 / 50000 train. data). Loss: 0.2653504014015198\n",
            "Test loss (avg): 3.351565789794922, Accuracy: 0.5406\n",
            "Training log: 28 epoch (128 / 50000 train. data). Loss: 0.14137211441993713\n",
            "Training log: 28 epoch (11648 / 50000 train. data). Loss: 0.2288152575492859\n",
            "Training log: 28 epoch (23168 / 50000 train. data). Loss: 0.17979469895362854\n",
            "Training log: 28 epoch (34688 / 50000 train. data). Loss: 0.20217524468898773\n",
            "Training log: 28 epoch (46208 / 50000 train. data). Loss: 0.10110848397016525\n",
            "Test loss (avg): 3.580752637672424, Accuracy: 0.5394\n",
            "Training log: 29 epoch (128 / 50000 train. data). Loss: 0.0560401976108551\n",
            "Training log: 29 epoch (11648 / 50000 train. data). Loss: 0.1100146621465683\n",
            "Training log: 29 epoch (23168 / 50000 train. data). Loss: 0.2932690680027008\n",
            "Training log: 29 epoch (34688 / 50000 train. data). Loss: 0.22252190113067627\n",
            "Training log: 29 epoch (46208 / 50000 train. data). Loss: 0.1813448965549469\n",
            "Test loss (avg): 3.628742039871216, Accuracy: 0.5317\n",
            "Training log: 30 epoch (128 / 50000 train. data). Loss: 0.16719669103622437\n",
            "Training log: 30 epoch (11648 / 50000 train. data). Loss: 0.1587844341993332\n",
            "Training log: 30 epoch (23168 / 50000 train. data). Loss: 0.10937515646219254\n",
            "Training log: 30 epoch (34688 / 50000 train. data). Loss: 0.11518913507461548\n",
            "Training log: 30 epoch (46208 / 50000 train. data). Loss: 0.2207283079624176\n",
            "Test loss (avg): 3.4704596687316895, Accuracy: 0.5406\n",
            "Training log: 31 epoch (128 / 50000 train. data). Loss: 0.06506650894880295\n",
            "Training log: 31 epoch (11648 / 50000 train. data). Loss: 0.09818917512893677\n",
            "Training log: 31 epoch (23168 / 50000 train. data). Loss: 0.1950744092464447\n",
            "Training log: 31 epoch (34688 / 50000 train. data). Loss: 0.11297859251499176\n",
            "Training log: 31 epoch (46208 / 50000 train. data). Loss: 0.32484450936317444\n",
            "Test loss (avg): 3.7318563465118406, Accuracy: 0.5368\n",
            "Training log: 32 epoch (128 / 50000 train. data). Loss: 0.11077277362346649\n",
            "Training log: 32 epoch (11648 / 50000 train. data). Loss: 0.056149132549762726\n",
            "Training log: 32 epoch (23168 / 50000 train. data). Loss: 0.07056938111782074\n",
            "Training log: 32 epoch (34688 / 50000 train. data). Loss: 0.18578849732875824\n",
            "Training log: 32 epoch (46208 / 50000 train. data). Loss: 0.16256210207939148\n",
            "Test loss (avg): 3.910696332168579, Accuracy: 0.5334\n",
            "Training log: 33 epoch (128 / 50000 train. data). Loss: 0.055410727858543396\n",
            "Training log: 33 epoch (11648 / 50000 train. data). Loss: 0.17327745258808136\n",
            "Training log: 33 epoch (23168 / 50000 train. data). Loss: 0.2726259231567383\n",
            "Training log: 33 epoch (34688 / 50000 train. data). Loss: 0.15399852395057678\n",
            "Training log: 33 epoch (46208 / 50000 train. data). Loss: 0.13254062831401825\n",
            "Test loss (avg): 3.8051370903015136, Accuracy: 0.5375\n",
            "Training log: 34 epoch (128 / 50000 train. data). Loss: 0.08551102876663208\n",
            "Training log: 34 epoch (11648 / 50000 train. data). Loss: 0.22141894698143005\n",
            "Training log: 34 epoch (23168 / 50000 train. data). Loss: 0.27689093351364136\n",
            "Training log: 34 epoch (34688 / 50000 train. data). Loss: 0.1907486617565155\n",
            "Training log: 34 epoch (46208 / 50000 train. data). Loss: 0.16855502128601074\n",
            "Test loss (avg): 3.8719496768951416, Accuracy: 0.5349\n",
            "Training log: 35 epoch (128 / 50000 train. data). Loss: 0.10721393674612045\n",
            "Training log: 35 epoch (11648 / 50000 train. data). Loss: 0.16087353229522705\n",
            "Training log: 35 epoch (23168 / 50000 train. data). Loss: 0.15952542424201965\n",
            "Training log: 35 epoch (34688 / 50000 train. data). Loss: 0.11008525639772415\n",
            "Training log: 35 epoch (46208 / 50000 train. data). Loss: 0.20084279775619507\n",
            "Test loss (avg): 3.9385450996398927, Accuracy: 0.537\n",
            "Training log: 36 epoch (128 / 50000 train. data). Loss: 0.12794412672519684\n",
            "Training log: 36 epoch (11648 / 50000 train. data). Loss: 0.09336347877979279\n",
            "Training log: 36 epoch (23168 / 50000 train. data). Loss: 0.1547902226448059\n",
            "Training log: 36 epoch (34688 / 50000 train. data). Loss: 0.1816284954547882\n",
            "Training log: 36 epoch (46208 / 50000 train. data). Loss: 0.21004030108451843\n",
            "Test loss (avg): 3.9562332550048827, Accuracy: 0.5344\n",
            "Training log: 37 epoch (128 / 50000 train. data). Loss: 0.1749165803194046\n",
            "Training log: 37 epoch (11648 / 50000 train. data). Loss: 0.3026908040046692\n",
            "Training log: 37 epoch (23168 / 50000 train. data). Loss: 0.11543536186218262\n",
            "Training log: 37 epoch (34688 / 50000 train. data). Loss: 0.05734436213970184\n",
            "Training log: 37 epoch (46208 / 50000 train. data). Loss: 0.13837511837482452\n",
            "Test loss (avg): 4.045353894042969, Accuracy: 0.5343\n",
            "Training log: 38 epoch (128 / 50000 train. data). Loss: 0.11699815839529037\n",
            "Training log: 38 epoch (11648 / 50000 train. data). Loss: 0.21789276599884033\n",
            "Training log: 38 epoch (23168 / 50000 train. data). Loss: 0.09581641852855682\n",
            "Training log: 38 epoch (34688 / 50000 train. data). Loss: 0.22413749992847443\n",
            "Training log: 38 epoch (46208 / 50000 train. data). Loss: 0.11392854154109955\n",
            "Test loss (avg): 4.013922204589844, Accuracy: 0.5345\n",
            "Training log: 39 epoch (128 / 50000 train. data). Loss: 0.09793100506067276\n",
            "Training log: 39 epoch (11648 / 50000 train. data). Loss: 0.15895184874534607\n",
            "Training log: 39 epoch (23168 / 50000 train. data). Loss: 0.07987462729215622\n",
            "Training log: 39 epoch (34688 / 50000 train. data). Loss: 0.13514631986618042\n",
            "Training log: 39 epoch (46208 / 50000 train. data). Loss: 0.29893794655799866\n",
            "Test loss (avg): 4.163716810226441, Accuracy: 0.5296\n",
            "Training log: 40 epoch (128 / 50000 train. data). Loss: 0.1018991470336914\n",
            "Training log: 40 epoch (11648 / 50000 train. data). Loss: 0.12590596079826355\n",
            "Training log: 40 epoch (23168 / 50000 train. data). Loss: 0.16609303653240204\n",
            "Training log: 40 epoch (34688 / 50000 train. data). Loss: 0.11738234758377075\n",
            "Training log: 40 epoch (46208 / 50000 train. data). Loss: 0.16110247373580933\n",
            "Test loss (avg): 4.354582915878296, Accuracy: 0.5307\n",
            "Training log: 41 epoch (128 / 50000 train. data). Loss: 0.14674066007137299\n",
            "Training log: 41 epoch (11648 / 50000 train. data). Loss: 0.07303935289382935\n",
            "Training log: 41 epoch (23168 / 50000 train. data). Loss: 0.19878661632537842\n",
            "Training log: 41 epoch (34688 / 50000 train. data). Loss: 0.14618873596191406\n",
            "Training log: 41 epoch (46208 / 50000 train. data). Loss: 0.028541959822177887\n",
            "Test loss (avg): 4.34970744934082, Accuracy: 0.5293\n",
            "Training log: 42 epoch (128 / 50000 train. data). Loss: 0.18659023940563202\n",
            "Training log: 42 epoch (11648 / 50000 train. data). Loss: 0.15861603617668152\n",
            "Training log: 42 epoch (23168 / 50000 train. data). Loss: 0.20221389830112457\n",
            "Training log: 42 epoch (34688 / 50000 train. data). Loss: 0.131775364279747\n",
            "Training log: 42 epoch (46208 / 50000 train. data). Loss: 0.13891121745109558\n",
            "Test loss (avg): 3.9683526180267332, Accuracy: 0.5394\n",
            "Training log: 43 epoch (128 / 50000 train. data). Loss: 0.10892926156520844\n",
            "Training log: 43 epoch (11648 / 50000 train. data). Loss: 0.029682183638215065\n",
            "Training log: 43 epoch (23168 / 50000 train. data). Loss: 0.20715448260307312\n",
            "Training log: 43 epoch (34688 / 50000 train. data). Loss: 0.0869603380560875\n",
            "Training log: 43 epoch (46208 / 50000 train. data). Loss: 0.053130391985177994\n",
            "Test loss (avg): 4.632858513641358, Accuracy: 0.5308\n",
            "Training log: 44 epoch (128 / 50000 train. data). Loss: 0.09762546420097351\n",
            "Training log: 44 epoch (11648 / 50000 train. data). Loss: 0.11487721651792526\n",
            "Training log: 44 epoch (23168 / 50000 train. data). Loss: 0.19080904126167297\n",
            "Training log: 44 epoch (34688 / 50000 train. data). Loss: 0.07996413111686707\n",
            "Training log: 44 epoch (46208 / 50000 train. data). Loss: 0.25347626209259033\n",
            "Test loss (avg): 4.272635402297974, Accuracy: 0.5417\n",
            "Training log: 45 epoch (128 / 50000 train. data). Loss: 0.048378389328718185\n",
            "Training log: 45 epoch (11648 / 50000 train. data). Loss: 0.15258324146270752\n",
            "Training log: 45 epoch (23168 / 50000 train. data). Loss: 0.09507113695144653\n",
            "Training log: 45 epoch (34688 / 50000 train. data). Loss: 0.14305554330348969\n",
            "Training log: 45 epoch (46208 / 50000 train. data). Loss: 0.25486767292022705\n",
            "Test loss (avg): 4.497604322052002, Accuracy: 0.5425\n",
            "Training log: 46 epoch (128 / 50000 train. data). Loss: 0.1332693099975586\n",
            "Training log: 46 epoch (11648 / 50000 train. data). Loss: 0.1689324676990509\n",
            "Training log: 46 epoch (23168 / 50000 train. data). Loss: 0.0768488198518753\n",
            "Training log: 46 epoch (34688 / 50000 train. data). Loss: 0.32290998101234436\n",
            "Training log: 46 epoch (46208 / 50000 train. data). Loss: 0.20173999667167664\n",
            "Test loss (avg): 4.321445668792725, Accuracy: 0.5359\n",
            "Training log: 47 epoch (128 / 50000 train. data). Loss: 0.12511949241161346\n",
            "Training log: 47 epoch (11648 / 50000 train. data). Loss: 0.15999053418636322\n",
            "Training log: 47 epoch (23168 / 50000 train. data). Loss: 0.040561825037002563\n",
            "Training log: 47 epoch (34688 / 50000 train. data). Loss: 0.12469419091939926\n",
            "Training log: 47 epoch (46208 / 50000 train. data). Loss: 0.0747607871890068\n",
            "Test loss (avg): 4.381919246673584, Accuracy: 0.5426\n",
            "Training log: 48 epoch (128 / 50000 train. data). Loss: 0.10362526774406433\n",
            "Training log: 48 epoch (11648 / 50000 train. data). Loss: 0.03293227776885033\n",
            "Training log: 48 epoch (23168 / 50000 train. data). Loss: 0.01383696123957634\n",
            "Training log: 48 epoch (34688 / 50000 train. data). Loss: 0.19130803644657135\n",
            "Training log: 48 epoch (46208 / 50000 train. data). Loss: 0.13219669461250305\n",
            "Test loss (avg): 4.640002810668945, Accuracy: 0.5377\n",
            "Training log: 49 epoch (128 / 50000 train. data). Loss: 0.15450210869312286\n",
            "Training log: 49 epoch (11648 / 50000 train. data). Loss: 0.1970493644475937\n",
            "Training log: 49 epoch (23168 / 50000 train. data). Loss: 0.13362663984298706\n",
            "Training log: 49 epoch (34688 / 50000 train. data). Loss: 0.1364935338497162\n",
            "Training log: 49 epoch (46208 / 50000 train. data). Loss: 0.11587278544902802\n",
            "Test loss (avg): 4.4261677734375, Accuracy: 0.5318\n",
            "Training log: 50 epoch (128 / 50000 train. data). Loss: 0.18560586869716644\n",
            "Training log: 50 epoch (11648 / 50000 train. data). Loss: 0.16609153151512146\n",
            "Training log: 50 epoch (23168 / 50000 train. data). Loss: 0.07471992820501328\n",
            "Training log: 50 epoch (34688 / 50000 train. data). Loss: 0.05980420112609863\n",
            "Training log: 50 epoch (46208 / 50000 train. data). Loss: 0.29974281787872314\n",
            "Test loss (avg): 4.39025238494873, Accuracy: 0.5346\n",
            "{'train_loss': [tensor(1.4197, device='cuda:0', grad_fn=<NllLossBackward>), tensor(1.4904, device='cuda:0', grad_fn=<NllLossBackward>), tensor(1.3990, device='cuda:0', grad_fn=<NllLossBackward>), tensor(1.3821, device='cuda:0', grad_fn=<NllLossBackward>), tensor(1.1677, device='cuda:0', grad_fn=<NllLossBackward>), tensor(1.0001, device='cuda:0', grad_fn=<NllLossBackward>), tensor(1.1049, device='cuda:0', grad_fn=<NllLossBackward>), tensor(0.8280, device='cuda:0', grad_fn=<NllLossBackward>), tensor(0.8576, device='cuda:0', grad_fn=<NllLossBackward>), tensor(0.8151, device='cuda:0', grad_fn=<NllLossBackward>), tensor(0.5850, device='cuda:0', grad_fn=<NllLossBackward>), tensor(0.7116, device='cuda:0', grad_fn=<NllLossBackward>), tensor(0.4530, device='cuda:0', grad_fn=<NllLossBackward>), tensor(0.3443, device='cuda:0', grad_fn=<NllLossBackward>), tensor(0.6228, device='cuda:0', grad_fn=<NllLossBackward>), tensor(0.3425, device='cuda:0', grad_fn=<NllLossBackward>), tensor(0.3994, device='cuda:0', grad_fn=<NllLossBackward>), tensor(0.2965, device='cuda:0', grad_fn=<NllLossBackward>), tensor(0.1708, device='cuda:0', grad_fn=<NllLossBackward>), tensor(0.2055, device='cuda:0', grad_fn=<NllLossBackward>), tensor(0.4049, device='cuda:0', grad_fn=<NllLossBackward>), tensor(0.2089, device='cuda:0', grad_fn=<NllLossBackward>), tensor(0.3088, device='cuda:0', grad_fn=<NllLossBackward>), tensor(0.1704, device='cuda:0', grad_fn=<NllLossBackward>), tensor(0.1288, device='cuda:0', grad_fn=<NllLossBackward>), tensor(0.1274, device='cuda:0', grad_fn=<NllLossBackward>), tensor(0.1936, device='cuda:0', grad_fn=<NllLossBackward>), tensor(0.2081, device='cuda:0', grad_fn=<NllLossBackward>), tensor(0.0911, device='cuda:0', grad_fn=<NllLossBackward>), tensor(0.0406, device='cuda:0', grad_fn=<NllLossBackward>), tensor(0.4360, device='cuda:0', grad_fn=<NllLossBackward>), tensor(0.3337, device='cuda:0', grad_fn=<NllLossBackward>), tensor(0.1075, device='cuda:0', grad_fn=<NllLossBackward>), tensor(0.1800, device='cuda:0', grad_fn=<NllLossBackward>), tensor(0.2040, device='cuda:0', grad_fn=<NllLossBackward>), tensor(0.2537, device='cuda:0', grad_fn=<NllLossBackward>), tensor(0.1654, device='cuda:0', grad_fn=<NllLossBackward>), tensor(0.1969, device='cuda:0', grad_fn=<NllLossBackward>), tensor(0.1775, device='cuda:0', grad_fn=<NllLossBackward>), tensor(0.1767, device='cuda:0', grad_fn=<NllLossBackward>), tensor(0.1113, device='cuda:0', grad_fn=<NllLossBackward>), tensor(0.1356, device='cuda:0', grad_fn=<NllLossBackward>), tensor(0.2505, device='cuda:0', grad_fn=<NllLossBackward>), tensor(0.1149, device='cuda:0', grad_fn=<NllLossBackward>), tensor(0.0934, device='cuda:0', grad_fn=<NllLossBackward>), tensor(0.3935, device='cuda:0', grad_fn=<NllLossBackward>), tensor(0.0634, device='cuda:0', grad_fn=<NllLossBackward>), tensor(0.1130, device='cuda:0', grad_fn=<NllLossBackward>), tensor(0.1445, device='cuda:0', grad_fn=<NllLossBackward>), tensor(0.1204, device='cuda:0', grad_fn=<NllLossBackward>)], 'test_loss': [1.4803662763595582, 1.4109193841934204, 1.3796393844604493, 1.3685577928543091, 1.3638931283950806, 1.3709284183502197, 1.4246143672943115, 1.4621472118377685, 1.5738771648406982, 1.6472884728431703, 1.8166895797729492, 1.931661344909668, 2.092606781387329, 2.286080798912048, 2.4215006090164186, 2.429877875328064, 2.6122455781936647, 2.7359454410552977, 2.7595738267898557, 2.9823394927978515, 3.074152738189697, 3.139233204650879, 3.13887873916626, 3.3322239723205564, 3.3534742946624756, 3.5655616119384765, 3.351565789794922, 3.580752637672424, 3.628742039871216, 3.4704596687316895, 3.7318563465118406, 3.910696332168579, 3.8051370903015136, 3.8719496768951416, 3.9385450996398927, 3.9562332550048827, 4.045353894042969, 4.013922204589844, 4.163716810226441, 4.354582915878296, 4.34970744934082, 3.9683526180267332, 4.632858513641358, 4.272635402297974, 4.497604322052002, 4.321445668792725, 4.381919246673584, 4.640002810668945, 4.4261677734375, 4.39025238494873], 'test_acc': [0.4797, 0.5076, 0.5169, 0.5267, 0.5369, 0.5486, 0.5436, 0.5487, 0.5436, 0.5407, 0.5441, 0.5455, 0.5381, 0.5422, 0.5476, 0.5459, 0.5361, 0.5436, 0.5349, 0.536, 0.5456, 0.5302, 0.5325, 0.5341, 0.5429, 0.5265, 0.5406, 0.5394, 0.5317, 0.5406, 0.5368, 0.5334, 0.5375, 0.5349, 0.537, 0.5344, 0.5343, 0.5345, 0.5296, 0.5307, 0.5293, 0.5394, 0.5308, 0.5417, 0.5425, 0.5359, 0.5426, 0.5377, 0.5318, 0.5346]}\n"
          ],
          "name": "stdout"
        },
        {
          "output_type": "display_data",
          "data": {
            "image/png": "[encoded data removed]",
            "text/plain": [
              "<Figure size 432x288 with 1 Axes>"
            ]
          },
          "metadata": {
            "tags": [],
            "needs_background": "light"
          }
        },
        {
          "output_type": "display_data",
          "data": {
            "image/png": "[encoded data removed]",
            "text/plain": [
              "<Figure size 432x288 with 1 Axes>"
            ]
          },
          "metadata": {
            "tags": [],
            "needs_background": "light"
          }
        }
      ]
    },
    {
      "cell_type": "code",
      "metadata": {
        "id": "x7ZM9W-G-ISz",
        "colab_type": "code",
        "colab": {
          "base_uri": "https://localhost:8080/",
          "height": 34
        },
        "outputId": "6b62ca05-0f47-4406-f436-80688a9df048"
      },
      "source": [
        "NNnet: CreateNet = CreateNet(NN_model_list)\n",
        "    \n",
        "# 保存したモデルのパラメータ\n",
        "param = torch.load('/content/gdrive/My Drive/コード/202006-4周目/rundom_model_weight.pth')\n",
        "\n",
        "# 保存したモデルにパラメータを当てはめる\n",
        "NNnet.load_state_dict(param)"
      ],
      "execution_count": null,
      "outputs": [
        {
          "output_type": "execute_result",
          "data": {
            "text/plain": [
              "<All keys matched successfully>"
            ]
          },
          "metadata": {
            "tags": []
          },
          "execution_count": 7
        }
      ]
    },
    {
      "cell_type": "markdown",
      "metadata": {
        "id": "AkEI5sSaeftj",
        "colab_type": "text"
      },
      "source": [
        "# **正規化評価関数作成**\n",
        "\n",
        "引数を速度とaccuracyを取ります。\n",
        "\n",
        "速度の最小と最大も欲しい。(最小=0,最大=元モデル)\n",
        "\n",
        "精度の最小と最大も欲しい。(最小=0,最大=1 or 元モデル精度)\n",
        "\n",
        "**問題：精度0を許すと速度が振り切れるってのがあるから、改善の余地**\n",
        "\n",
        "速度は速いほど0.5に近づき、精度は高いほど0.5に近づく。\n",
        "\n",
        "合計で1.0が最高のパフォーマンス。ちなありえない。"
      ]
    },
    {
      "cell_type": "code",
      "metadata": {
        "id": "Ro7MWbvdlpZo",
        "colab_type": "code",
        "colab": {}
      },
      "source": [
        "def speed_acc_normalization(spe_max,spe_min,spe,acc_max,acc_min,acc):\n",
        "    if spe_min<=spe<=spe_max:\n",
        "        speed_normalization = ((spe_max-spe+1) - spe_min) / ( (spe_max - spe_min) * 2 )\n",
        "    else:\n",
        "        speed_normalization=0\n",
        "    if acc_min<=acc<=acc_max:\n",
        "      accuracy_normalization = (acc - acc_min) / ( (acc_max - acc_min) * 2 )\n",
        "    else:\n",
        "        accuracy_normalization=0\n",
        "\n",
        "    print(speed_normalization)\n",
        "    print(accuracy_normalization)\n",
        "\n",
        "    return speed_normalization + accuracy_normalization"
      ],
      "execution_count": null,
      "outputs": []
    },
    {
      "cell_type": "code",
      "metadata": {
        "id": "uugXvjjFm7FP",
        "colab_type": "code",
        "colab": {}
      },
      "source": [
        "import time\n",
        "loader = load_cifar10()\n",
        "t1 = time.time()\n",
        "\n",
        "\n",
        "correct = 0\n",
        "with torch.no_grad():\n",
        "    for images, labels in loader['test']:\n",
        "        data = images.view(-1, 32 * 32 * 3)\n",
        "        outputs = NNnet(data)\n",
        "        _, predicted = torch.max(outputs.data, 1)\n",
        "        #torch.max(a, axis) (axis=0:col, axis=1:row)ごとに最大値を取ってくれている。\n",
        "        correct += (predicted == labels).sum().item()\n",
        "\n",
        "acc = float(correct / 10000)\n",
        "print(acc)\n",
        "\n",
        "\n",
        "t2 = time.time()\n",
        "elapsed_time = t2-t1\n",
        "print(f\"経過時間：{elapsed_time}\")\n",
        "\n",
        "print(speed_acc_normalization(5,0,elapsed_time,1,0,acc))\n"
      ],
      "execution_count": null,
      "outputs": []
    },
    {
      "cell_type": "markdown",
      "metadata": {
        "id": "27dyhdxJid8W",
        "colab_type": "text"
      },
      "source": [
        "## **教師モデルと温度付きソフトマックス**"
      ]
    },
    {
      "cell_type": "code",
      "metadata": {
        "id": "POESyPKCW56q",
        "colab_type": "code",
        "colab": {
          "base_uri": "https://localhost:8080/",
          "height": 122
        },
        "outputId": "f8c3a954-26c3-462b-af9c-2f03063467dd"
      },
      "source": [
        "#教師モデル\n",
        "#####ドロップアウトを除いた推論用モデル#######\n",
        "#ここで温度を変更して、softターゲットとする。\n",
        "\n",
        "\n",
        "class T_CNN(torch.nn.Module):\n",
        "    def __init__(self):\n",
        "        super(T_CNN, self).__init__()\n",
        "\n",
        "        self.conv1 = torch.nn.Conv2d(3, 32, 3, 1, 0)\n",
        "        self.conv2 = torch.nn.Conv2d(32, 32, 3)\n",
        "        self.conv3 = torch.nn.Conv2d(32, 64, 3)\n",
        "        self.conv4 = torch.nn.Conv2d(64, 64, 3)\n",
        "        \n",
        "        self.dropout1 = torch.nn.Dropout2d(p=0.25)\n",
        "        self.dropout2 = torch.nn.Dropout2d(p=0.5)\n",
        "\n",
        "        self.pool = torch.nn.MaxPool2d(2, 2)\n",
        "\n",
        "        self.fc1 = torch.nn.Linear(64 * 5 * 5, 512) \n",
        "        self.fc2 = torch.nn.Linear(512, 10)\n",
        "\n",
        "    def forward(self, x, T):\n",
        "        x = f.relu(self.conv1(x))\n",
        "        x = f.relu(self.conv2(x))\n",
        "        x = self.pool(x)\n",
        "        \n",
        "        x = f.relu(self.conv3(x))\n",
        "        x = f.relu(self.conv4(x))\n",
        "        x = self.pool(x)\n",
        "        x = x.view(-1, 64 * 5 * 5)\n",
        "        x = f.relu(self.fc1(x))\n",
        "        x = self.fc2(x)\n",
        "        x = x/T\n",
        "\n",
        "        return f.softmax(x)\n",
        "\n",
        "class MyNet(torch.nn.Module):\n",
        "    def __init__(self):\n",
        "        super(MyNet, self).__init__()\n",
        "        self.fc1 = torch.nn.Linear(32 * 32 * 3, 1024)\n",
        "        self.fc2 = torch.nn.Linear(1024, 10)\n",
        "\n",
        "    def forward(self, x, T):\n",
        "        x = f.relu(self.fc1(x))\n",
        "        x = self.fc2(x)\n",
        "        x = x/T\n",
        "        return f.log_softmax(x)\n",
        "# 教師モデルと生徒モデルのcross_entropyの損失関数の定義\n",
        "class T_S_Closs_entropy(torch.nn.Module):\n",
        "    def __init__(self):\n",
        "        super(T_S_Closs_entropy, self).__init__()\n",
        "\n",
        "    def forward(self, p, q):\n",
        "        #pが教師モデル、qが生徒モデルの出力値(既に対数化してます)です。\n",
        "        # c = torch.max(q)\n",
        "        loss = p*q\n",
        "        loss = torch.sum(loss)\n",
        "        loss*=-1\n",
        "        return loss\n",
        "\n",
        "Tnet: T_CNN = T_CNN()\n",
        "param = torch.load('/content/gdrive/My Drive/コード/teacher_model_weight.pth')\n",
        "Tnet.load_state_dict(param)\n",
        "loader = load_cifar10()\n",
        "device = torch.device('cuda:0' if torch.cuda.is_available() else 'cpu')\n",
        "Tnet.to(device)\n",
        "t1 = time.time()\n",
        "correct = 0\n",
        "with torch.no_grad():\n",
        "    for images, labels in loader['test']:\n",
        "        images = images.to(device) \n",
        "        labels = labels.to(device)\n",
        "        outputs = Tnet(images,1)\n",
        "        _, predicted = torch.max(outputs.data, 1)\n",
        "        correct += (predicted == labels).sum().item()\n",
        "a_max = float(correct / 10000)\n",
        "print(a_max)\n",
        "t2 = time.time()\n",
        "s_max = t2-t1\n",
        "print(f\"経過時間：{s_max}\")"
      ],
      "execution_count": null,
      "outputs": [
        {
          "output_type": "stream",
          "text": [
            "Files already downloaded and verified\n",
            "Files already downloaded and verified\n"
          ],
          "name": "stdout"
        },
        {
          "output_type": "stream",
          "text": [
            "/usr/local/lib/python3.6/dist-packages/ipykernel_launcher.py:36: UserWarning: Implicit dimension choice for softmax has been deprecated. Change the call to include dim=X as an argument.\n"
          ],
          "name": "stderr"
        },
        {
          "output_type": "stream",
          "text": [
            "0.7364\n",
            "経過時間：2.9531991481781006\n"
          ],
          "name": "stdout"
        }
      ]
    },
    {
      "cell_type": "markdown",
      "metadata": {
        "id": "rc0MDh4LMGtX",
        "colab_type": "text"
      },
      "source": [
        "## **最終的に遺伝的探索を行うための評価関数**"
      ]
    },
    {
      "cell_type": "code",
      "metadata": {
        "id": "hX2ZHcLfiBD6",
        "colab_type": "code",
        "colab": {
          "base_uri": "https://localhost:8080/",
          "height": 34
        },
        "outputId": "dd5a29c9-7cca-4f61-b1c2-cbb1e2bc04d5"
      },
      "source": [
        "# 温度付きモデル生成関数\n",
        "class CreateNet(torch.nn.Module):\n",
        "    def __init__(self, NN_model_list):\n",
        "        super(CreateNet, self).__init__()\n",
        "\n",
        "        self.NN_model_list_2=[]\n",
        "        for i in range(len(NN_model_list)):\n",
        "            if NN_model_list[i]!=0:\n",
        "                self.NN_model_list_2.append(NN_model_list[i])\n",
        "\n",
        "        NN_model_list=[len(self.NN_model_list_2)]+self.NN_model_list_2\n",
        "\n",
        "        for i in range(len(NN_model_list)-1):\n",
        "            if i==0:\n",
        "                self._modules[\"fc\"+str(i+1)]= torch.nn.Linear(3 * 32 * 32, NN_model_list[1])\n",
        "                #入力層\n",
        "            else:\n",
        "                self._modules[\"fc\"+str(i+1)]= torch.nn.Linear(NN_model_list[i], NN_model_list[i+1])\n",
        "                #出力層 fcリストの個数は、常にNN_model_list[0]+1である。\n",
        "        self._modules[\"fc\"+str(i+2)]= torch.nn.Linear(NN_model_list[-1], 10)\n",
        "\n",
        "    def forward(self, x, T):\n",
        "        for i in range(len(self._modules)-1):\n",
        "            x = f.relu(self._modules[\"fc\"+str(i+1)](x))\n",
        "        x = self._modules[\"fc\"+str(len(self._modules))](x)\n",
        "        x = x/T\n",
        "        return f.log_softmax(x)\n",
        "\n",
        "# 速度と精度の評価関数これが最大化されたい。\n",
        "def speed_acc_normalization(spe_max,spe_min,spe,acc_max,acc_min,acc):\n",
        "    if spe_min<=spe<=spe_max:\n",
        "        speed_normalization = ((spe_max-spe+1) - spe_min) / ( (spe_max - spe_min) * 2 )\n",
        "    else:\n",
        "        speed_normalization=0\n",
        "    if acc_min<=acc<=acc_max:\n",
        "      accuracy_normalization = (acc - acc_min) / ( (acc_max - acc_min) * 2 )\n",
        "    else:\n",
        "        accuracy_normalization=0\n",
        "    print(\"----------------\")\n",
        "    print(\"速度:{} ,精度:{}\".format(spe,acc))\n",
        "    print(\"速度評価値:{} ,精度評価値:{}\".format(speed_normalization,accuracy_normalization))\n",
        "    print(\"評価指標:{}\".format(speed_normalization + accuracy_normalization))\n",
        "    print(\"----------------\")\n",
        "\n",
        "    return speed_normalization + accuracy_normalization\n",
        "\n",
        "\n",
        "\n",
        "#　遺伝的評価関数、引数 : gane=層ごとの引数-リスト、temp = 温度、スピード最大、精度最大。\n",
        "def evaluater(gane,temp,s_max,a_max=1.0):\n",
        "    Tnet: T_CNN = T_CNN()\n",
        "    # 保存したモデルのパラメータ\n",
        "    param = torch.load('/content/gdrive/My Drive/コード/teacher_model_weight.pth')\n",
        "    # 保存したモデルにパラメータを当てはめる\n",
        "    Tnet.load_state_dict(param)\n",
        "\n",
        "    temp=temp\n",
        "    # 学習回数\n",
        "    epoch = 50\n",
        "    net: torch.nn.Module = CreateNet(gane)\n",
        "    loaders = load_cifar10()\n",
        "\n",
        "    criterion = T_S_Closs_entropy()\n",
        "\n",
        "    optimizer = torch.optim.Adam(params=net.parameters(), lr=0.001)\n",
        "    device = torch.device('cuda:0' if torch.cuda.is_available() else 'cpu')\n",
        "    net.to(device)\n",
        "    Tnet.to(device)\n",
        "\n",
        "    for e in range(1,epoch+1):\n",
        "        \"\"\"　学習　開始\"\"\"\n",
        "        loss = None\n",
        "        net.train()\n",
        "        for data, target in loaders['train']:\n",
        "                \n",
        "            data = data.to(device)\n",
        "            target = target.to(device)\n",
        "\n",
        "            max_model_outputs = Tnet(data,temp)\n",
        "            data = data.view(-1, 32 * 32 * 3)\n",
        "            output = net(data,temp)\n",
        "\n",
        "            optimizer.zero_grad()\n",
        "            loss = criterion(max_model_outputs,output)\n",
        "\n",
        "            loss.backward()\n",
        "            optimizer.step()\n",
        "        if e%10==0:\n",
        "            print('temp: {} ,Training log: {} ,Loss: {}'.format(temp,e,loss.item()))\n",
        "\n",
        "    \"\"\"  学習したモデルの速度と精度の評価をする。(推論)\"\"\"\n",
        "    net.eval()\n",
        "    correct = 0\n",
        "    t1 = time.time()\n",
        "    with torch.no_grad():\n",
        "        for images, labels in loaders['test']:\n",
        "            images = images.to(device) \n",
        "            labels = labels.to(device)\n",
        "            data = images.view(-1, 32 * 32 * 3)\n",
        "            outputs = net(data,1)\n",
        "            _, predicted = torch.max(outputs.data, 1)\n",
        "            #torch.max(a, axis) (axis=0:col, axis=1:row)ごとに最大値を取ってくれている。\n",
        "            correct += (predicted == labels).sum().item()\n",
        "\n",
        "    acc = float(correct / 10000)\n",
        "    t2 = time.time()\n",
        "    elapsed_time = t2-t1\n",
        "\n",
        "    return speed_acc_normalization(s_max,0,elapsed_time,a_max,0,acc)\n",
        "print(\"出力\")"
      ],
      "execution_count": null,
      "outputs": [
        {
          "output_type": "stream",
          "text": [
            "出力\n"
          ],
          "name": "stdout"
        }
      ]
    },
    {
      "cell_type": "code",
      "metadata": {
        "id": "v6Y5BhFKMcsF",
        "colab_type": "code",
        "colab": {
          "base_uri": "https://localhost:8080/",
          "height": 241
        },
        "outputId": "43787190-2244-4203-c567-8e5db43bb579"
      },
      "source": [
        "eva_t = time.time()\n",
        "print(evaluater([1024,512] ,10 ,s_max ,a_max))\n",
        "eva_t2 = time.time()\n",
        "print(\"モデル1つ当たりの学習時間:{}\".format(eva_t2 -eva_t))"
      ],
      "execution_count": null,
      "outputs": [
        {
          "output_type": "stream",
          "text": [
            "Files already downloaded and verified\n",
            "Files already downloaded and verified\n"
          ],
          "name": "stdout"
        },
        {
          "output_type": "stream",
          "text": [
            "/usr/local/lib/python3.6/dist-packages/ipykernel_launcher.py:36: UserWarning: Implicit dimension choice for softmax has been deprecated. Change the call to include dim=X as an argument.\n",
            "/usr/local/lib/python3.6/dist-packages/ipykernel_launcher.py:27: UserWarning: Implicit dimension choice for log_softmax has been deprecated. Change the call to include dim=X as an argument.\n"
          ],
          "name": "stderr"
        },
        {
          "output_type": "stream",
          "text": [
            "temp: 10 ,Training log: 10 ,Loss: 178.7676544189453\n",
            "temp: 10 ,Training log: 20 ,Loss: 179.7474365234375\n",
            "temp: 10 ,Training log: 30 ,Loss: 179.8099365234375\n",
            "temp: 10 ,Training log: 40 ,Loss: 178.8997802734375\n",
            "temp: 10 ,Training log: 50 ,Loss: 178.4928741455078\n",
            "速度:2.6592020988464355 ,精度:0.5799\n",
            "速度評価値:0.2190839466633943 ,精度評価値:0.39373981531776203\n",
            "モデル1つ当たりの学習時間:744.362138748169\n"
          ],
          "name": "stdout"
        }
      ]
    },
    {
      "cell_type": "code",
      "metadata": {
        "id": "lSLiPy1AoYRG",
        "colab_type": "code",
        "colab": {
          "base_uri": "https://localhost:8080/",
          "height": 785
        },
        "outputId": "027c3eed-a75f-4f04-a1b6-a127bbaa5dac"
      },
      "source": [
        "eva_t = time.time()\n",
        "evaluater([1024] ,10 ,s_max ,a_max)\n",
        "eva_t2 = time.time()\n",
        "print(\"学習時間:{}\".format(eva_t2 -eva_t))\n",
        "\n",
        "eva_t = time.time()\n",
        "evaluater([1024,512] ,10 ,s_max ,a_max)\n",
        "eva_t2 = time.time()\n",
        "print(\"学習時間:{}\".format(eva_t2 -eva_t))\n",
        "\n",
        "eva_t = time.time()\n",
        "evaluater([2048,1024,512] ,10 ,s_max ,a_max)\n",
        "eva_t2 = time.time()\n",
        "print(\"学習時間:{}\".format(eva_t2 -eva_t))"
      ],
      "execution_count": null,
      "outputs": [
        {
          "output_type": "stream",
          "text": [
            "Files already downloaded and verified\n",
            "Files already downloaded and verified\n"
          ],
          "name": "stdout"
        },
        {
          "output_type": "stream",
          "text": [
            "/usr/local/lib/python3.6/dist-packages/ipykernel_launcher.py:36: UserWarning: Implicit dimension choice for softmax has been deprecated. Change the call to include dim=X as an argument.\n",
            "/usr/local/lib/python3.6/dist-packages/ipykernel_launcher.py:27: UserWarning: Implicit dimension choice for log_softmax has been deprecated. Change the call to include dim=X as an argument.\n"
          ],
          "name": "stderr"
        },
        {
          "output_type": "stream",
          "text": [
            "temp: 10 ,Training log: 10 ,Loss: 180.3373565673828\n",
            "temp: 10 ,Training log: 20 ,Loss: 179.5028839111328\n",
            "temp: 10 ,Training log: 30 ,Loss: 178.09298706054688\n",
            "temp: 10 ,Training log: 40 ,Loss: 178.81155395507812\n",
            "temp: 10 ,Training log: 50 ,Loss: 179.34249877929688\n",
            "----------------\n",
            "速度:2.6391704082489014 ,精度:0.5488\n",
            "速度評価値:0.22247547049779137 ,精度評価値:0.37262357414448666\n",
            "評価指標:0.595099044642278\n",
            "----------------\n",
            "0.595099044642278\n",
            "学習時間:730.113119840622\n",
            "Files already downloaded and verified\n",
            "Files already downloaded and verified\n",
            "temp: 10 ,Training log: 10 ,Loss: 179.1807098388672\n",
            "temp: 10 ,Training log: 20 ,Loss: 178.33551025390625\n",
            "temp: 10 ,Training log: 30 ,Loss: 177.39285278320312\n",
            "temp: 10 ,Training log: 40 ,Loss: 179.2025146484375\n",
            "temp: 10 ,Training log: 50 ,Loss: 177.89041137695312\n",
            "----------------\n",
            "速度:2.5444624423980713 ,精度:0.5726\n",
            "速度評価値:0.23851027903910793 ,精度評価値:0.38878326996197715\n",
            "評価指標:0.6272935490010851\n",
            "----------------\n",
            "0.6272935490010851\n",
            "学習時間:737.5025703907013\n",
            "Files already downloaded and verified\n",
            "Files already downloaded and verified\n",
            "temp: 10 ,Training log: 10 ,Loss: 178.07513427734375\n",
            "temp: 10 ,Training log: 20 ,Loss: 177.98178100585938\n",
            "temp: 10 ,Training log: 30 ,Loss: 178.70164489746094\n",
            "temp: 10 ,Training log: 40 ,Loss: 178.46636962890625\n",
            "temp: 10 ,Training log: 50 ,Loss: 178.3575897216797\n",
            "----------------\n",
            "速度:2.7454848289489746 ,精度:0.5874\n",
            "速度評価値:0.20447559724751274 ,精度評価値:0.39883215643671915\n",
            "評価指標:0.603307753684232\n",
            "----------------\n",
            "0.603307753684232\n",
            "学習時間:749.9553279876709\n"
          ],
          "name": "stdout"
        }
      ]
    },
    {
      "cell_type": "code",
      "metadata": {
        "id": "K4MTe7WIosCT",
        "colab_type": "code",
        "colab": {}
      },
      "source": [
        ""
      ],
      "execution_count": null,
      "outputs": []
    }
  ]
}