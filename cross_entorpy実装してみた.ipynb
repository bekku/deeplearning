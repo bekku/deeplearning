{
  "nbformat": 4,
  "nbformat_minor": 0,
  "metadata": {
    "colab": {
      "provenance": [],
      "authorship_tag": "ABX9TyM84behAiHayKdso5xrtNUx"
    },
    "kernelspec": {
      "name": "python3",
      "display_name": "Python 3"
    },
    "language_info": {
      "name": "python"
    }
  },
  "cells": [
    {
      "cell_type": "code",
      "execution_count": 2,
      "metadata": {
        "colab": {
          "base_uri": "https://localhost:8080/"
        },
        "id": "M1fnjPMV_nF5",
        "outputId": "49feea79-221a-47b2-832d-92440f1d185f"
      },
      "outputs": [
        {
          "output_type": "stream",
          "name": "stdout",
          "text": [
            "input_num: tensor([[-0.2367,  1.8109,  0.1966, -0.7150,  0.1041],\n",
            "        [ 0.8893, -0.4212, -0.5279,  0.9281,  0.8614],\n",
            "        [-0.5856,  1.4157, -1.9983, -0.7397, -1.1917],\n",
            "        [ 0.0635, -1.3966,  0.4813, -1.2866,  0.1643],\n",
            "        [ 0.4827,  0.4881, -1.8173,  1.0127,  1.3802],\n",
            "        [ 0.0903,  0.7811,  0.0891,  0.1531, -0.2344],\n",
            "        [ 0.0868, -1.5610, -0.5121, -0.9283,  0.3164],\n",
            "        [-1.5710,  0.7773, -0.3958, -0.0242,  0.3614],\n",
            "        [-0.1430, -0.5851,  0.4152, -0.8107,  0.2639],\n",
            "        [-0.4899, -1.7114, -1.1157, -1.1978,  0.8847]], requires_grad=True)\n",
            "target: tensor([2, 3, 4, 1, 4, 2, 4, 0, 4, 0])\n",
            "output: tensor(1.9149, grad_fn=<NllLossBackward0>)\n"
          ]
        }
      ],
      "source": [
        "import torch\n",
        "import torch.nn as nn\n",
        "torch.manual_seed(40) #再現性を保つためseed固定\n",
        "loss = nn.CrossEntropyLoss()\n",
        "input_num = torch.randn(10, 5, requires_grad=True)\n",
        "target = torch.empty(10, dtype=torch.long).random_(5)\n",
        "print('input_num:',input_num)\n",
        "print('target:',target)\n",
        "output = loss(input_num, target)\n",
        "print('output:',output)"
      ]
    },
    {
      "cell_type": "code",
      "source": [
        "input_num_exp = torch.exp(input_num)\n",
        "input_num_exp_sum = torch.sum(input_num_exp, 1)\n",
        "input_num_exp_sum_log = torch.log(input_num_exp_sum)\n",
        "input_num_exp_sum_log"
      ],
      "metadata": {
        "colab": {
          "base_uri": "https://localhost:8080/"
        },
        "id": "1l1Heihf_ssm",
        "outputId": "c149759e-eead-430b-a31d-23621153641f"
      },
      "execution_count": 3,
      "outputs": [
        {
          "output_type": "execute_result",
          "data": {
            "text/plain": [
              "tensor([2.2743, 2.1489, 1.7215, 1.4784, 2.3166, 1.8450, 1.2994, 1.6989, 1.5444,\n",
              "        1.3468], grad_fn=<LogBackward0>)"
            ]
          },
          "metadata": {},
          "execution_count": 3
        }
      ]
    },
    {
      "cell_type": "code",
      "source": [
        "target_onehot_mul = torch.mul(input_num, torch.nn.functional.one_hot(target, num_classes=5))\n",
        "target_onehot_mul_sum = torch.sum(target_onehot_mul,1)\n",
        "target_onehot_mul_sum"
      ],
      "metadata": {
        "colab": {
          "base_uri": "https://localhost:8080/"
        },
        "id": "tJeDP_jc_vHf",
        "outputId": "4b910130-7925-48be-843d-b231291a0d51"
      },
      "execution_count": 4,
      "outputs": [
        {
          "output_type": "execute_result",
          "data": {
            "text/plain": [
              "tensor([ 0.1966,  0.9281, -1.1917, -1.3966,  1.3802,  0.0891,  0.3164, -1.5710,\n",
              "         0.2639, -0.4899], grad_fn=<SumBackward1>)"
            ]
          },
          "metadata": {},
          "execution_count": 4
        }
      ]
    },
    {
      "cell_type": "code",
      "source": [
        "torch.sum(target_onehot_mul_sum - input_num_exp_sum_log, 0)/input_num.size(0)"
      ],
      "metadata": {
        "colab": {
          "base_uri": "https://localhost:8080/"
        },
        "id": "WZhycn0u_wkK",
        "outputId": "8d75b185-eded-430c-b5e4-74003e7e9ad0"
      },
      "execution_count": 7,
      "outputs": [
        {
          "output_type": "execute_result",
          "data": {
            "text/plain": [
              "tensor(-1.9149, grad_fn=<DivBackward0>)"
            ]
          },
          "metadata": {},
          "execution_count": 7
        }
      ]
    },
    {
      "cell_type": "code",
      "source": [
        "def MyCrossEntropyLoss(input_num, target):\n",
        "  input_num_exp = torch.exp(input_num)\n",
        "  input_num_exp_sum = torch.sum(input_num_exp, 1)\n",
        "  input_num_exp_sum_log = torch.log(input_num_exp_sum)\n",
        "\n",
        "  target_onehot_mul = torch.mul(input_num, torch.nn.functional.one_hot(target, num_classes=5))\n",
        "  target_onehot_mul_sum = torch.sum(target_onehot_mul,1)\n",
        "\n",
        "  return torch.sum(target_onehot_mul_sum - input_num_exp_sum_log, 0)/input_num.size(0)"
      ],
      "metadata": {
        "id": "CVzEiQTx_1fG"
      },
      "execution_count": 9,
      "outputs": []
    },
    {
      "cell_type": "code",
      "source": [
        "MyCrossEntropyLoss(input_num, target)"
      ],
      "metadata": {
        "colab": {
          "base_uri": "https://localhost:8080/"
        },
        "id": "4OW60I6sAGLN",
        "outputId": "de450982-02a6-4214-e347-b91a06f6b9d2"
      },
      "execution_count": 10,
      "outputs": [
        {
          "output_type": "execute_result",
          "data": {
            "text/plain": [
              "tensor(-1.9149, grad_fn=<DivBackward0>)"
            ]
          },
          "metadata": {},
          "execution_count": 10
        }
      ]
    },
    {
      "cell_type": "code",
      "source": [],
      "metadata": {
        "id": "F3yNkgs9ALaL"
      },
      "execution_count": null,
      "outputs": []
    }
  ]
}