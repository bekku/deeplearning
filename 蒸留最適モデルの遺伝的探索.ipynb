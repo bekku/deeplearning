{
  "nbformat": 4,
  "nbformat_minor": 0,
  "metadata": {
    "colab": {
      "name": "蒸留最適モデルの遺伝的探索.ipynb",
      "provenance": [],
      "collapsed_sections": [],
      "authorship_tag": "ABX9TyPXAaFmkjNUpQM8QmTsQCm9",
      "include_colab_link": true
    },
    "kernelspec": {
      "name": "python3",
      "display_name": "Python 3"
    },
    "accelerator": "GPU",
    "widgets": {
      "application/vnd.jupyter.widget-state+json": {
        "50fac6ca153b4d04874c53fa49ac76ce": {
          "model_module": "@jupyter-widgets/controls",
          "model_name": "HBoxModel",
          "state": {
            "_view_name": "HBoxView",
            "_dom_classes": [],
            "_model_name": "HBoxModel",
            "_view_module": "@jupyter-widgets/controls",
            "_model_module_version": "1.5.0",
            "_view_count": null,
            "_view_module_version": "1.5.0",
            "box_style": "",
            "layout": "IPY_MODEL_14f08875a8504f3da2e4861b860cc6d1",
            "_model_module": "@jupyter-widgets/controls",
            "children": [
              "IPY_MODEL_f9dee69490b045bf81f9fe692873c1b7",
              "IPY_MODEL_bec54426ee984a38b54613386b363faf"
            ]
          }
        },
        "14f08875a8504f3da2e4861b860cc6d1": {
          "model_module": "@jupyter-widgets/base",
          "model_name": "LayoutModel",
          "state": {
            "_view_name": "LayoutView",
            "grid_template_rows": null,
            "right": null,
            "justify_content": null,
            "_view_module": "@jupyter-widgets/base",
            "overflow": null,
            "_model_module_version": "1.2.0",
            "_view_count": null,
            "flex_flow": null,
            "width": null,
            "min_width": null,
            "border": null,
            "align_items": null,
            "bottom": null,
            "_model_module": "@jupyter-widgets/base",
            "top": null,
            "grid_column": null,
            "overflow_y": null,
            "overflow_x": null,
            "grid_auto_flow": null,
            "grid_area": null,
            "grid_template_columns": null,
            "flex": null,
            "_model_name": "LayoutModel",
            "justify_items": null,
            "grid_row": null,
            "max_height": null,
            "align_content": null,
            "visibility": null,
            "align_self": null,
            "height": null,
            "min_height": null,
            "padding": null,
            "grid_auto_rows": null,
            "grid_gap": null,
            "max_width": null,
            "order": null,
            "_view_module_version": "1.2.0",
            "grid_template_areas": null,
            "object_position": null,
            "object_fit": null,
            "grid_auto_columns": null,
            "margin": null,
            "display": null,
            "left": null
          }
        },
        "f9dee69490b045bf81f9fe692873c1b7": {
          "model_module": "@jupyter-widgets/controls",
          "model_name": "FloatProgressModel",
          "state": {
            "_view_name": "ProgressView",
            "style": "IPY_MODEL_1226575015894fecb51463e5928da980",
            "_dom_classes": [],
            "description": "",
            "_model_name": "FloatProgressModel",
            "bar_style": "info",
            "max": 1,
            "_view_module": "@jupyter-widgets/controls",
            "_model_module_version": "1.5.0",
            "value": 1,
            "_view_count": null,
            "_view_module_version": "1.5.0",
            "orientation": "horizontal",
            "min": 0,
            "description_tooltip": null,
            "_model_module": "@jupyter-widgets/controls",
            "layout": "IPY_MODEL_468dc77c59cb4f30be3da9942b67e452"
          }
        },
        "bec54426ee984a38b54613386b363faf": {
          "model_module": "@jupyter-widgets/controls",
          "model_name": "HTMLModel",
          "state": {
            "_view_name": "HTMLView",
            "style": "IPY_MODEL_238e802dab5844f1989bb7216b176392",
            "_dom_classes": [],
            "description": "",
            "_model_name": "HTMLModel",
            "placeholder": "​",
            "_view_module": "@jupyter-widgets/controls",
            "_model_module_version": "1.5.0",
            "value": " 170500096/? [00:30&lt;00:00, 17505717.63it/s]",
            "_view_count": null,
            "_view_module_version": "1.5.0",
            "description_tooltip": null,
            "_model_module": "@jupyter-widgets/controls",
            "layout": "IPY_MODEL_d16bc67e3e9340628cf68b699006f487"
          }
        },
        "1226575015894fecb51463e5928da980": {
          "model_module": "@jupyter-widgets/controls",
          "model_name": "ProgressStyleModel",
          "state": {
            "_view_name": "StyleView",
            "_model_name": "ProgressStyleModel",
            "description_width": "initial",
            "_view_module": "@jupyter-widgets/base",
            "_model_module_version": "1.5.0",
            "_view_count": null,
            "_view_module_version": "1.2.0",
            "bar_color": null,
            "_model_module": "@jupyter-widgets/controls"
          }
        },
        "468dc77c59cb4f30be3da9942b67e452": {
          "model_module": "@jupyter-widgets/base",
          "model_name": "LayoutModel",
          "state": {
            "_view_name": "LayoutView",
            "grid_template_rows": null,
            "right": null,
            "justify_content": null,
            "_view_module": "@jupyter-widgets/base",
            "overflow": null,
            "_model_module_version": "1.2.0",
            "_view_count": null,
            "flex_flow": null,
            "width": null,
            "min_width": null,
            "border": null,
            "align_items": null,
            "bottom": null,
            "_model_module": "@jupyter-widgets/base",
            "top": null,
            "grid_column": null,
            "overflow_y": null,
            "overflow_x": null,
            "grid_auto_flow": null,
            "grid_area": null,
            "grid_template_columns": null,
            "flex": null,
            "_model_name": "LayoutModel",
            "justify_items": null,
            "grid_row": null,
            "max_height": null,
            "align_content": null,
            "visibility": null,
            "align_self": null,
            "height": null,
            "min_height": null,
            "padding": null,
            "grid_auto_rows": null,
            "grid_gap": null,
            "max_width": null,
            "order": null,
            "_view_module_version": "1.2.0",
            "grid_template_areas": null,
            "object_position": null,
            "object_fit": null,
            "grid_auto_columns": null,
            "margin": null,
            "display": null,
            "left": null
          }
        },
        "238e802dab5844f1989bb7216b176392": {
          "model_module": "@jupyter-widgets/controls",
          "model_name": "DescriptionStyleModel",
          "state": {
            "_view_name": "StyleView",
            "_model_name": "DescriptionStyleModel",
            "description_width": "",
            "_view_module": "@jupyter-widgets/base",
            "_model_module_version": "1.5.0",
            "_view_count": null,
            "_view_module_version": "1.2.0",
            "_model_module": "@jupyter-widgets/controls"
          }
        },
        "d16bc67e3e9340628cf68b699006f487": {
          "model_module": "@jupyter-widgets/base",
          "model_name": "LayoutModel",
          "state": {
            "_view_name": "LayoutView",
            "grid_template_rows": null,
            "right": null,
            "justify_content": null,
            "_view_module": "@jupyter-widgets/base",
            "overflow": null,
            "_model_module_version": "1.2.0",
            "_view_count": null,
            "flex_flow": null,
            "width": null,
            "min_width": null,
            "border": null,
            "align_items": null,
            "bottom": null,
            "_model_module": "@jupyter-widgets/base",
            "top": null,
            "grid_column": null,
            "overflow_y": null,
            "overflow_x": null,
            "grid_auto_flow": null,
            "grid_area": null,
            "grid_template_columns": null,
            "flex": null,
            "_model_name": "LayoutModel",
            "justify_items": null,
            "grid_row": null,
            "max_height": null,
            "align_content": null,
            "visibility": null,
            "align_self": null,
            "height": null,
            "min_height": null,
            "padding": null,
            "grid_auto_rows": null,
            "grid_gap": null,
            "max_width": null,
            "order": null,
            "_view_module_version": "1.2.0",
            "grid_template_areas": null,
            "object_position": null,
            "object_fit": null,
            "grid_auto_columns": null,
            "margin": null,
            "display": null,
            "left": null
          }
        }
      }
    }
  },
  "cells": [
    {
      "cell_type": "markdown",
      "metadata": {
        "id": "view-in-github",
        "colab_type": "text"
      },
      "source": [
        "<a href=\"https://colab.research.google.com/github/bekku/deeplearning/blob/master/%E8%92%B8%E7%95%99%E6%9C%80%E9%81%A9%E3%83%A2%E3%83%87%E3%83%AB%E3%81%AE%E9%81%BA%E4%BC%9D%E7%9A%84%E6%8E%A2%E7%B4%A2.ipynb\" target=\"_parent\"><img src=\"https://colab.research.google.com/assets/colab-badge.svg\" alt=\"Open In Colab\"/></a>"
      ]
    },
    {
      "cell_type": "code",
      "metadata": {
        "id": "Fseevf9gv--o",
        "colab_type": "code",
        "colab": {
          "base_uri": "https://localhost:8080/",
          "height": 139
        },
        "outputId": "c2512fea-696e-4160-c18c-5a0b3131ccdd"
      },
      "source": [
        "import torch\n",
        "import torch.nn.functional as f\n",
        "from torch.utils.data import DataLoader\n",
        "from torchvision import datasets, transforms\n",
        "import matplotlib.pyplot as plt\n",
        "from tqdm import tqdm\n",
        "import numpy as np\n",
        "import time\n",
        "\n",
        "from google.colab import drive #インポート\n",
        "drive.mount('/content/gdrive') #GoogleDriveのマウント\n",
        "\n",
        "torch.cuda.is_available()"
      ],
      "execution_count": null,
      "outputs": [
        {
          "output_type": "stream",
          "text": [
            "Go to this URL in a browser: https://accounts.google.com/o/oauth2/auth?client_id=947318989803-6bn6qk8qdgf4n4g3pfee6491hc0brc4i.apps.googleusercontent.com&redirect_uri=urn%3aietf%3awg%3aoauth%3a2.0%3aoob&response_type=code&scope=email%20https%3a%2f%2fwww.googleapis.com%2fauth%2fdocs.test%20https%3a%2f%2fwww.googleapis.com%2fauth%2fdrive%20https%3a%2f%2fwww.googleapis.com%2fauth%2fdrive.photos.readonly%20https%3a%2f%2fwww.googleapis.com%2fauth%2fpeopleapi.readonly\n",
            "\n",
            "Enter your authorization code:\n",
            "··········\n",
            "Mounted at /content/gdrive\n"
          ],
          "name": "stdout"
        },
        {
          "output_type": "execute_result",
          "data": {
            "text/plain": [
              "True"
            ]
          },
          "metadata": {
            "tags": []
          },
          "execution_count": 1
        }
      ]
    },
    {
      "cell_type": "code",
      "metadata": {
        "id": "GfU-ZnWkAimt",
        "colab_type": "code",
        "colab": {
          "base_uri": "https://localhost:8080/",
          "height": 139
        },
        "outputId": "7b9d9ce3-6106-4e31-fedf-8d8cbe190dea"
      },
      "source": [
        "!pip install deap"
      ],
      "execution_count": null,
      "outputs": [
        {
          "output_type": "stream",
          "text": [
            "Collecting deap\n",
            "\u001b[?25l  Downloading https://files.pythonhosted.org/packages/0a/eb/2bd0a32e3ce757fb26264765abbaedd6d4d3640d90219a513aeabd08ee2b/deap-1.3.1-cp36-cp36m-manylinux2010_x86_64.whl (157kB)\n",
            "\r\u001b[K     |██                              | 10kB 16.3MB/s eta 0:00:01\r\u001b[K     |████▏                           | 20kB 1.6MB/s eta 0:00:01\r\u001b[K     |██████▎                         | 30kB 2.1MB/s eta 0:00:01\r\u001b[K     |████████▍                       | 40kB 1.6MB/s eta 0:00:01\r\u001b[K     |██████████▍                     | 51kB 1.9MB/s eta 0:00:01\r\u001b[K     |████████████▌                   | 61kB 2.2MB/s eta 0:00:01\r\u001b[K     |██████████████▋                 | 71kB 2.4MB/s eta 0:00:01\r\u001b[K     |████████████████▊               | 81kB 2.6MB/s eta 0:00:01\r\u001b[K     |██████████████████▊             | 92kB 2.8MB/s eta 0:00:01\r\u001b[K     |████████████████████▉           | 102kB 2.7MB/s eta 0:00:01\r\u001b[K     |███████████████████████         | 112kB 2.7MB/s eta 0:00:01\r\u001b[K     |█████████████████████████       | 122kB 2.7MB/s eta 0:00:01\r\u001b[K     |███████████████████████████▏    | 133kB 2.7MB/s eta 0:00:01\r\u001b[K     |█████████████████████████████▏  | 143kB 2.7MB/s eta 0:00:01\r\u001b[K     |███████████████████████████████▎| 153kB 2.7MB/s eta 0:00:01\r\u001b[K     |████████████████████████████████| 163kB 2.7MB/s \n",
            "\u001b[?25hRequirement already satisfied: numpy in /usr/local/lib/python3.6/dist-packages (from deap) (1.18.5)\n",
            "Installing collected packages: deap\n",
            "Successfully installed deap-1.3.1\n"
          ],
          "name": "stdout"
        }
      ]
    },
    {
      "cell_type": "code",
      "metadata": {
        "id": "NiQH0hxPxmDx",
        "colab_type": "code",
        "colab": {}
      },
      "source": [
        "def load_cifar10(batch=128):\n",
        "    train_loader = DataLoader(\n",
        "        datasets.CIFAR10('./data',\n",
        "                         train=True,\n",
        "                         download=True,\n",
        "                         transform=transforms.Compose([\n",
        "                             transforms.ToTensor(),\n",
        "                             transforms.Normalize(\n",
        "                                [0.5, 0.5, 0.5],  # RGB 平均\n",
        "                                [0.5, 0.5, 0.5]   # RGB 標準偏差\n",
        "                                )\n",
        "                         ])),\n",
        "        batch_size=batch,\n",
        "        shuffle=True\n",
        "    )\n",
        "\n",
        "    test_loader = DataLoader(\n",
        "        datasets.CIFAR10('./data',\n",
        "                         train=False,\n",
        "                         download=True,\n",
        "                         transform=transforms.Compose([\n",
        "                             transforms.ToTensor(),\n",
        "                             transforms.Normalize(\n",
        "                                 [0.5, 0.5, 0.5],  # RGB 平均\n",
        "                                 [0.5, 0.5, 0.5]  # RGB 標準偏差\n",
        "                             )\n",
        "                         ])),\n",
        "        batch_size=batch,\n",
        "    )\n",
        "\n",
        "    return {'train': train_loader, 'test': test_loader}"
      ],
      "execution_count": null,
      "outputs": []
    },
    {
      "cell_type": "markdown",
      "metadata": {
        "id": "ILusRvDfxQRy",
        "colab_type": "text"
      },
      "source": [
        "# **教師モデルの設定**"
      ]
    },
    {
      "cell_type": "code",
      "metadata": {
        "id": "VXC7NYB9xPjV",
        "colab_type": "code",
        "colab": {
          "base_uri": "https://localhost:8080/",
          "height": 171,
          "referenced_widgets": [
            "50fac6ca153b4d04874c53fa49ac76ce",
            "14f08875a8504f3da2e4861b860cc6d1",
            "f9dee69490b045bf81f9fe692873c1b7",
            "bec54426ee984a38b54613386b363faf",
            "1226575015894fecb51463e5928da980",
            "468dc77c59cb4f30be3da9942b67e452",
            "238e802dab5844f1989bb7216b176392",
            "d16bc67e3e9340628cf68b699006f487"
          ]
        },
        "outputId": "4f26423f-8965-4137-be13-6751d9e499e9"
      },
      "source": [
        "#教師モデル\n",
        "#####ドロップアウトを除いた推論用モデル#######\n",
        "#ここで温度を変更して、softターゲットとする。\n",
        "\n",
        "\n",
        "class T_CNN(torch.nn.Module):\n",
        "    def __init__(self):\n",
        "        super(T_CNN, self).__init__()\n",
        "\n",
        "        self.conv1 = torch.nn.Conv2d(3, 32, 3, 1, 0)\n",
        "        self.conv2 = torch.nn.Conv2d(32, 32, 3)\n",
        "        self.conv3 = torch.nn.Conv2d(32, 64, 3)\n",
        "        self.conv4 = torch.nn.Conv2d(64, 64, 3)\n",
        "        \n",
        "        self.dropout1 = torch.nn.Dropout2d(p=0.25)\n",
        "        self.dropout2 = torch.nn.Dropout2d(p=0.5)\n",
        "\n",
        "        self.pool = torch.nn.MaxPool2d(2, 2)\n",
        "\n",
        "        self.fc1 = torch.nn.Linear(64 * 5 * 5, 512) \n",
        "        self.fc2 = torch.nn.Linear(512, 10)\n",
        "\n",
        "    def forward(self, x, T):\n",
        "        x = f.relu(self.conv1(x))\n",
        "        x = f.relu(self.conv2(x))\n",
        "        x = self.pool(x)\n",
        "        \n",
        "        x = f.relu(self.conv3(x))\n",
        "        x = f.relu(self.conv4(x))\n",
        "        x = self.pool(x)\n",
        "        x = x.view(-1, 64 * 5 * 5)\n",
        "        x = f.relu(self.fc1(x))\n",
        "        x = self.fc2(x)\n",
        "        x = x/T\n",
        "\n",
        "        return f.softmax(x)\n",
        "\n",
        "class MyNet(torch.nn.Module):\n",
        "    def __init__(self):\n",
        "        super(MyNet, self).__init__()\n",
        "        self.fc1 = torch.nn.Linear(32 * 32 * 3, 1024)\n",
        "        self.fc2 = torch.nn.Linear(1024, 10)\n",
        "\n",
        "    def forward(self, x, T):\n",
        "        x = f.relu(self.fc1(x))\n",
        "        x = self.fc2(x)\n",
        "        x = x/T\n",
        "        return f.log_softmax(x)\n",
        "# 教師モデルと生徒モデルのcross_entropyの損失関数の定義\n",
        "class T_S_Closs_entropy(torch.nn.Module):\n",
        "    def __init__(self):\n",
        "        super(T_S_Closs_entropy, self).__init__()\n",
        "\n",
        "    def forward(self, p, q):\n",
        "        #pが教師モデル、qが生徒モデルの出力値(既に対数化してます)です。\n",
        "        # c = torch.max(q)\n",
        "        loss = p*q\n",
        "        loss = torch.sum(loss)\n",
        "        loss*=-1\n",
        "        return loss\n",
        "\n",
        "Tnet: T_CNN = T_CNN()\n",
        "param = torch.load('/content/gdrive/My Drive/コード/teacher_model_weight.pth')\n",
        "Tnet.load_state_dict(param)\n",
        "loader = load_cifar10()\n",
        "device = torch.device('cuda:0' if torch.cuda.is_available() else 'cpu')\n",
        "Tnet.to(device)\n",
        "s_max=0\n",
        "for i in range(10):\n",
        "    t1 = time.time()\n",
        "    correct = 0\n",
        "    with torch.no_grad():\n",
        "        for images, labels in loader['test']:\n",
        "            images = images.to(device) \n",
        "            labels = labels.to(device)\n",
        "            outputs = Tnet(images,1)\n",
        "            _, predicted = torch.max(outputs.data, 1)\n",
        "            correct += (predicted == labels).sum().item()\n",
        "    t2 = time.time()\n",
        "    s_max += t2-t1\n",
        "a_max = float(correct / 10000)\n",
        "print(a_max)\n",
        "t2 = time.time()\n",
        "s_max /= 10\n",
        "print(f\"経過時間：{s_max}\")"
      ],
      "execution_count": null,
      "outputs": [
        {
          "output_type": "stream",
          "text": [
            "Downloading https://www.cs.toronto.edu/~kriz/cifar-10-python.tar.gz to ./data/cifar-10-python.tar.gz\n"
          ],
          "name": "stdout"
        },
        {
          "output_type": "display_data",
          "data": {
            "application/vnd.jupyter.widget-view+json": {
              "model_id": "50fac6ca153b4d04874c53fa49ac76ce",
              "version_minor": 0,
              "version_major": 2
            },
            "text/plain": [
              "HBox(children=(FloatProgress(value=1.0, bar_style='info', max=1.0), HTML(value='')))"
            ]
          },
          "metadata": {
            "tags": []
          }
        },
        {
          "output_type": "stream",
          "text": [
            "Extracting ./data/cifar-10-python.tar.gz to ./data\n",
            "Files already downloaded and verified\n"
          ],
          "name": "stdout"
        },
        {
          "output_type": "stream",
          "text": [
            "/usr/local/lib/python3.6/dist-packages/ipykernel_launcher.py:36: UserWarning: Implicit dimension choice for softmax has been deprecated. Change the call to include dim=X as an argument.\n"
          ],
          "name": "stderr"
        },
        {
          "output_type": "stream",
          "text": [
            "0.7364\n",
            "経過時間：3.0206634283065794\n"
          ],
          "name": "stdout"
        }
      ]
    },
    {
      "cell_type": "markdown",
      "metadata": {
        "id": "SKZe6qUzxZWj",
        "colab_type": "text"
      },
      "source": [
        "# **評価関数 evaluater の定義**\n"
      ]
    },
    {
      "cell_type": "code",
      "metadata": {
        "id": "1cGfLsrJxZ_w",
        "colab_type": "code",
        "colab": {
          "base_uri": "https://localhost:8080/",
          "height": 68
        },
        "outputId": "d6b61fd0-0d74-41fd-807f-1d8acdd06b41"
      },
      "source": [
        "# 温度付きモデル生成関数\n",
        "class CreateNet(torch.nn.Module):\n",
        "    def __init__(self, NN_model_list):\n",
        "        super(CreateNet, self).__init__()\n",
        "\n",
        "        self.NN_model_list_2=[]\n",
        "        for i in range(len(NN_model_list)):\n",
        "            if NN_model_list[i]!=0:\n",
        "                self.NN_model_list_2.append(NN_model_list[i])\n",
        "\n",
        "        NN_model_list=[len(self.NN_model_list_2)]+self.NN_model_list_2\n",
        "\n",
        "        # 隠れ層0の時エラー処理用 if。\n",
        "        if NN_model_list[0] > 0:\n",
        "            for i in range(len(NN_model_list)-1):\n",
        "                if i==0:\n",
        "                   self._modules[\"fc\"+str(i+1)]= torch.nn.Linear(3 * 32 * 32, NN_model_list[1])\n",
        "                   #入力層\n",
        "                else:\n",
        "                    self._modules[\"fc\"+str(i+1)]= torch.nn.Linear(NN_model_list[i], NN_model_list[i+1])\n",
        "                   #出力層 fcリストの個数は、常にNN_model_list[0]+1である。\n",
        "            self._modules[\"fc\"+str(i+2)]= torch.nn.Linear(NN_model_list[-1], 10)\n",
        "\n",
        "        else:\n",
        "            self._modules[\"fc\"+str(1)]= torch.nn.Linear(3 * 32 * 32, 10)\n",
        "\n",
        "    def forward(self, x, T):\n",
        "        for i in range(len(self._modules)-1):\n",
        "            x = f.relu(self._modules[\"fc\"+str(i+1)](x))\n",
        "        x = self._modules[\"fc\"+str(len(self._modules))](x)\n",
        "        x = x/T\n",
        "        return f.log_softmax(x)\n",
        "\n",
        "# 速度と精度の評価関数、これが最大化されたい。\n",
        "def speed_acc_normalization(spe_max,spe_min,spe,acc_max,acc_min,acc):\n",
        "    if spe_min<=spe<=spe_max:\n",
        "        speed_normalization = ((spe_max-spe+1) - spe_min) / ( (spe_max - spe_min) * 2 )\n",
        "    else:\n",
        "        speed_normalization=0\n",
        "    if acc_min<=acc<=acc_max:\n",
        "      accuracy_normalization = (acc - acc_min) / ( (acc_max - acc_min) * 2 )\n",
        "    else:\n",
        "        accuracy_normalization=0\n",
        "    print(\"----------------\")\n",
        "    print(\"速度:{} ,精度:{}\".format(spe,acc))\n",
        "    print(\"速度評価値:{} ,精度評価値:{}\".format(speed_normalization,accuracy_normalization))\n",
        "    print(\"評価指標:{}\".format(speed_normalization + accuracy_normalization))\n",
        "    print(\"----------------\")\n",
        "\n",
        "    return speed_normalization + accuracy_normalization\n",
        "\n",
        "\n",
        "loaders = load_cifar10()\n",
        "device = torch.device('cuda:0' if torch.cuda.is_available() else 'cpu')\n",
        "Tnet: T_CNN = T_CNN()\n",
        "param = torch.load('/content/gdrive/My Drive/コード/teacher_model_weight.pth')\n",
        "Tnet.load_state_dict(param)\n",
        "Tnet.to(device)\n",
        "criterion = T_S_Closs_entropy()\n",
        "\n",
        "#　遺伝的評価関数、引数 : gane=層ごとの2の条数-リスト、temp = 温度、スピード最大、精度最大。\n",
        "def evaluater(gane):\n",
        "    # 入力された乗数から、本当のモデルのノード数とする。\n",
        "    model_gane=[]\n",
        "    for i in gane:\n",
        "      if i==0:\n",
        "          model_gane.append(0)\n",
        "      else:\n",
        "          model_gane.append(2**i)\n",
        "\n",
        "    #温度設定\n",
        "    temp=20\n",
        "\n",
        "    # 学習回数\n",
        "    epoch = 30\n",
        "    net: torch.nn.Module = CreateNet(model_gane)\n",
        "    net.to(device)\n",
        "\n",
        "    optimizer = torch.optim.Adam(params=net.parameters(), lr=0.001)\n",
        "\n",
        "    for e in range(1,epoch+1):\n",
        "        \"\"\"　学習　開始\"\"\"\n",
        "        loss = None\n",
        "        net.train()\n",
        "        for data, target in loaders['train']:\n",
        "                \n",
        "            data = data.to(device)\n",
        "            target = target.to(device)\n",
        "\n",
        "            max_model_outputs = Tnet(data,temp)\n",
        "            data = data.view(-1, 32 * 32 * 3)\n",
        "            output = net(data,temp)\n",
        "\n",
        "            optimizer.zero_grad()\n",
        "            loss = criterion(max_model_outputs,output)\n",
        "\n",
        "            loss.backward()\n",
        "            optimizer.step()\n",
        "        if e%10==0:\n",
        "            print('temp: {} ,Training log: {} ,Loss: {}'.format(temp,e,loss.item()))\n",
        "\n",
        "    \"\"\"  学習したモデルの速度と精度の評価をする。(推論)\"\"\"\n",
        "    net.eval()\n",
        "    correct = 0\n",
        "    t1 = time.time()\n",
        "    with torch.no_grad():\n",
        "        for images, labels in loaders['test']:\n",
        "            images = images.to(device) \n",
        "            labels = labels.to(device)\n",
        "            data = images.view(-1, 32 * 32 * 3)\n",
        "            #　蒸留モデルは、推論時は温度を1に戻します。\n",
        "            outputs = net(data,1)\n",
        "            _, predicted = torch.max(outputs.data, 1)\n",
        "            #torch.max(a, axis) (axis=0:col, axis=1:row)ごとに最大値を取ってくれている。\n",
        "            correct += (predicted == labels).sum().item()\n",
        "\n",
        "    acc = float(correct / 10000)\n",
        "    t2 = time.time()\n",
        "    elapsed_time = t2-t1\n",
        "\n",
        "    # accとelapsedは、教師モデルの出力を受け取るようにしておきましょう。\n",
        "    return (speed_acc_normalization(s_max,0,elapsed_time,a_max,0,acc),)\n",
        "print(\"出力\")"
      ],
      "execution_count": null,
      "outputs": [
        {
          "output_type": "stream",
          "text": [
            "Files already downloaded and verified\n",
            "Files already downloaded and verified\n",
            "出力\n"
          ],
          "name": "stdout"
        }
      ]
    },
    {
      "cell_type": "code",
      "metadata": {
        "id": "tnahmB73zdhX",
        "colab_type": "code",
        "colab": {
          "base_uri": "https://localhost:8080/",
          "height": 326
        },
        "outputId": "b6e10ae2-e928-4aab-9cad-7fb37d5a21c1"
      },
      "source": [
        "print(evaluater([0,0,10]))\n",
        "print(evaluater([0]))\n",
        "from deap import base, creator, tools\n",
        "from deap.benchmarks import ackley\n",
        "print(ackley([5,5]))"
      ],
      "execution_count": null,
      "outputs": [
        {
          "output_type": "stream",
          "text": [
            "/usr/local/lib/python3.6/dist-packages/ipykernel_launcher.py:36: UserWarning: Implicit dimension choice for softmax has been deprecated. Change the call to include dim=X as an argument.\n",
            "/usr/local/lib/python3.6/dist-packages/ipykernel_launcher.py:32: UserWarning: Implicit dimension choice for log_softmax has been deprecated. Change the call to include dim=X as an argument.\n"
          ],
          "name": "stderr"
        },
        {
          "output_type": "stream",
          "text": [
            "temp: 10 ,Training log: 10 ,Loss: 179.6783447265625\n",
            "----------------\n",
            "速度:2.5068113803863525 ,精度:0.5331\n",
            "速度評価値:0.2640374041051057 ,精度評価値:0.36196360673546984\n",
            "評価指標:0.6260010108405756\n",
            "----------------\n",
            "(0.6260010108405756,)\n",
            "temp: 10 ,Training log: 10 ,Loss: 181.74058532714844\n",
            "----------------\n",
            "速度:2.55118465423584 ,精度:0.3774\n",
            "速度評価値:0.2570886691657695 ,精度評価値:0.2562466051059207\n",
            "評価指標:0.5133352742716901\n",
            "----------------\n",
            "(0.5133352742716901,)\n",
            "(12.642411176571153,)\n"
          ],
          "name": "stdout"
        }
      ]
    },
    {
      "cell_type": "code",
      "metadata": {
        "id": "cFKpMzaxAOlD",
        "colab_type": "code",
        "colab": {
          "base_uri": "https://localhost:8080/",
          "height": 429
        },
        "outputId": "84eaf71e-769e-4b97-c36c-6b07076420d0"
      },
      "source": [
        "import random\n",
        "from deap import base, creator, tools\n",
        "\n",
        "\n",
        "# 適応度クラスの作成\n",
        "# 最大化したい場合1.0\n",
        "# 最小化したい場合-1.0\n",
        "creator.create(\"FitnessMax\", base.Fitness, weights=(1.0,))\n",
        "\n",
        "# 個体クラスの作成\n",
        "creator.create(\"Individual\", list, fitness=creator.FitnessMax)\n",
        "\n",
        "# Toolboxの作成\n",
        "toolbox = base.Toolbox()\n",
        "\n",
        "# 遺伝子を生成する関数\"attr_gene\"を登録\n",
        "# 0~10000の値をランダムに生成する。\n",
        "toolbox.register(\"attr_gene\", random.randrange, 0, 14)\n",
        "\n",
        "# 個体を生成する関数”individual\"を登録\n",
        "# initRepeat(creator.Individual,遺伝子生成関数, N)\n",
        "# N回遺伝子生成関数を実行し、creator.Individualに格納して返す関数\n",
        "toolbox.register(\"individual\", tools.initRepeat, creator.Individual,\n",
        "                 toolbox.attr_gene, 8)\n",
        "\n",
        "# 世代(個体集団)を生成する関数\"population\"を登録\n",
        "# 個体生成したものを集めて、世代化\n",
        "toolbox.register(\"population\", tools.initRepeat, list, toolbox.individual)\n",
        "\n",
        "# 評価関数\"evaluate\"を登録\n",
        "toolbox.register(\"evaluate\", evaluater)\n",
        "\n",
        "# 交叉を行う関数\"mate\"を登録\n",
        "toolbox.register(\"mate\", tools.cxTwoPoint)\n",
        "\n",
        "# 変異を行う関数\"mutate\"を登録\n",
        "toolbox.register(\"mutate\", tools.mutShuffleIndexes, indpb=0.05)\n",
        "# toolbox.register(\"mutate\", tools.mutFlipBit, indpb=0.05)\n",
        "# toolbox.register(\"mutate\", tools.mutGaussian, mu=[\n",
        "#                  0.0, 0.0], sigma=[200.0, 200.0], indpb=0.2)\n",
        "\n",
        "# 個体選択法\"select\"を登録\n",
        "toolbox.register(\"select\", tools.selTournament, tournsize=3)\n",
        "\n",
        "\n",
        "def main():\n",
        "\n",
        "    random.seed(1)\n",
        "\n",
        "    # GAパラメータ\n",
        "    N_GEN = 20      # 繰り返し世代数\n",
        "    POP_SIZE = 10  # 集団内の個体数\n",
        "    CX_PB = 0.5      # 交叉確率\n",
        "    MUT_PB = 0.2     # 変異確率\n",
        "\n",
        "    # 個体集団の生成\n",
        "    pop = toolbox.population(n=POP_SIZE)\n",
        "    print(\"遺伝的探索開始\")\n",
        "    print(pop)\n",
        "\n",
        "    # 個体集団の適応度の評価\n",
        "    fitnesses = list(map(toolbox.evaluate, pop))\n",
        "    for ind, fit in zip(pop, fitnesses):\n",
        "        ind.fitness.values = fit\n",
        "    print(\"  Evaluated %i individuals\" % len(pop))\n",
        "    # 適応度の抽出\n",
        "    fits = [ind.fitness.values[0] for ind in pop]\n",
        "\n",
        "    print(\"-----------------------\")\n",
        "    # 進化ループ開始\n",
        "    g = 0\n",
        "    while g < N_GEN:\n",
        "\n",
        "        g = g + 1\n",
        "        print(\"-- Generation %i --\" % g)\n",
        "\n",
        "        # 次世代個体の選択・複製\n",
        "        offspring = toolbox.select(pop, len(pop))\n",
        "        offspring = list(map(toolbox.clone, offspring))\n",
        "        print(0,offspring)\n",
        "\n",
        "        # 交叉\n",
        "        for child1, child2 in zip(offspring[::2], offspring[1::2]):\n",
        "\n",
        "            # 交叉させる個体を選択\n",
        "            if random.random() < CX_PB:\n",
        "                toolbox.mate(child1, child2)\n",
        "\n",
        "                # 交叉させた個体は適応度を削除する\n",
        "                del child1.fitness.values\n",
        "                del child2.fitness.values\n",
        "\n",
        "        # 変異\n",
        "        for mutant in offspring:\n",
        "\n",
        "            # 変異させる個体を選択\n",
        "            if random.random() < MUT_PB:\n",
        "                toolbox.mutate(mutant)\n",
        "\n",
        "                # 変異させた個体は適応度を削除する\n",
        "                del mutant.fitness.values\n",
        "\n",
        "        # 適応度を削除した個体について適応度の再評価を行う\n",
        "        invalid_ind = [ind for ind in offspring if not ind.fitness.valid]\n",
        "        print(invalid_ind)\n",
        "        fitnesses = map(toolbox.evaluate, invalid_ind)\n",
        "\n",
        "        for ind, fit in zip(invalid_ind, fitnesses):\n",
        "            ind.fitness.values = fit\n",
        "\n",
        "        print(\"  Evaluated %i individuals\" % len(invalid_ind))\n",
        "\n",
        "        # 個体集団を新世代個体集団で更新\n",
        "        pop[:] = offspring\n",
        "\n",
        "        # 新世代の全個体の適応度の抽出\n",
        "        fits = [ind.fitness.values[0] for ind in pop]\n",
        "\n",
        "        # 適応度の統計情報の出力\n",
        "        length = len(pop)\n",
        "        mean = sum(fits) / length\n",
        "        sum2 = sum(x*x for x in fits)\n",
        "        std = abs(sum2 / length - mean**2)**0.5\n",
        "\n",
        "        print(\"  Min %s\" % min(fits))\n",
        "        print(\"  Max %s\" % max(fits))\n",
        "        print(\"  Avg %s\" % mean)\n",
        "        print(\"  Std %s\" % std)\n",
        "\n",
        "\n",
        "    print(\"-- End of (successful) evolution --\")\n",
        "\n",
        "    # 最良個体の抽出\n",
        "    best_ind = tools.selBest(pop, 1)[0]\n",
        "    print(\"Best individual is %s, %s\" % (best_ind, best_ind.fitness.values))\n",
        "\n",
        "\n",
        "if __name__ == '__main__':\n",
        "\n",
        "    main()"
      ],
      "execution_count": null,
      "outputs": [
        {
          "output_type": "stream",
          "text": [
            "遺伝的探索開始\n",
            "[[2, 9, 13, 12, 12, 1, 4, 1], [7, 12, 7, 7, 10, 6, 12, 3], [1, 7, 0, 13, 6, 6, 9, 12], [12, 0, 11, 7, 4, 11, 12, 3], [9, 1, 5, 0, 0, 0, 10, 8], [0, 6, 10, 3, 6, 11, 0, 8], [3, 12, 7, 7, 8, 3, 5, 3], [10, 3, 12, 7, 4, 0, 6, 13], [8, 10, 1, 2, 10, 11, 13, 4], [1, 11, 5, 11, 11, 8, 6, 8]]\n"
          ],
          "name": "stdout"
        },
        {
          "output_type": "stream",
          "text": [
            "/usr/local/lib/python3.6/dist-packages/ipykernel_launcher.py:36: UserWarning: Implicit dimension choice for softmax has been deprecated. Change the call to include dim=X as an argument.\n",
            "/usr/local/lib/python3.6/dist-packages/ipykernel_launcher.py:32: UserWarning: Implicit dimension choice for log_softmax has been deprecated. Change the call to include dim=X as an argument.\n"
          ],
          "name": "stderr"
        },
        {
          "output_type": "error",
          "ename": "KeyboardInterrupt",
          "evalue": "ignored",
          "traceback": [
            "\u001b[0;31m---------------------------------------------------------------------------\u001b[0m",
            "\u001b[0;31mKeyboardInterrupt\u001b[0m                         Traceback (most recent call last)",
            "\u001b[0;32m<ipython-input-11-39ed00b05c5c>\u001b[0m in \u001b[0;36m<module>\u001b[0;34m()\u001b[0m\n\u001b[1;32m    138\u001b[0m \u001b[0;32mif\u001b[0m \u001b[0m__name__\u001b[0m \u001b[0;34m==\u001b[0m \u001b[0;34m'__main__'\u001b[0m\u001b[0;34m:\u001b[0m\u001b[0;34m\u001b[0m\u001b[0;34m\u001b[0m\u001b[0m\n\u001b[1;32m    139\u001b[0m \u001b[0;34m\u001b[0m\u001b[0m\n\u001b[0;32m--> 140\u001b[0;31m     \u001b[0mmain\u001b[0m\u001b[0;34m(\u001b[0m\u001b[0;34m)\u001b[0m\u001b[0;34m\u001b[0m\u001b[0;34m\u001b[0m\u001b[0m\n\u001b[0m",
            "\u001b[0;32m<ipython-input-11-39ed00b05c5c>\u001b[0m in \u001b[0;36mmain\u001b[0;34m()\u001b[0m\n\u001b[1;32m     60\u001b[0m \u001b[0;34m\u001b[0m\u001b[0m\n\u001b[1;32m     61\u001b[0m     \u001b[0;31m# 個体集団の適応度の評価\u001b[0m\u001b[0;34m\u001b[0m\u001b[0;34m\u001b[0m\u001b[0;34m\u001b[0m\u001b[0m\n\u001b[0;32m---> 62\u001b[0;31m     \u001b[0mfitnesses\u001b[0m \u001b[0;34m=\u001b[0m \u001b[0mlist\u001b[0m\u001b[0;34m(\u001b[0m\u001b[0mmap\u001b[0m\u001b[0;34m(\u001b[0m\u001b[0mtoolbox\u001b[0m\u001b[0;34m.\u001b[0m\u001b[0mevaluate\u001b[0m\u001b[0;34m,\u001b[0m \u001b[0mpop\u001b[0m\u001b[0;34m)\u001b[0m\u001b[0;34m)\u001b[0m\u001b[0;34m\u001b[0m\u001b[0;34m\u001b[0m\u001b[0m\n\u001b[0m\u001b[1;32m     63\u001b[0m     \u001b[0;32mfor\u001b[0m \u001b[0mind\u001b[0m\u001b[0;34m,\u001b[0m \u001b[0mfit\u001b[0m \u001b[0;32min\u001b[0m \u001b[0mzip\u001b[0m\u001b[0;34m(\u001b[0m\u001b[0mpop\u001b[0m\u001b[0;34m,\u001b[0m \u001b[0mfitnesses\u001b[0m\u001b[0;34m)\u001b[0m\u001b[0;34m:\u001b[0m\u001b[0;34m\u001b[0m\u001b[0;34m\u001b[0m\u001b[0m\n\u001b[1;32m     64\u001b[0m         \u001b[0mind\u001b[0m\u001b[0;34m.\u001b[0m\u001b[0mfitness\u001b[0m\u001b[0;34m.\u001b[0m\u001b[0mvalues\u001b[0m \u001b[0;34m=\u001b[0m \u001b[0mfit\u001b[0m\u001b[0;34m\u001b[0m\u001b[0;34m\u001b[0m\u001b[0m\n",
            "\u001b[0;32m<ipython-input-10-b0ec75695bfb>\u001b[0m in \u001b[0;36mevaluater\u001b[0;34m(gane)\u001b[0m\n\u001b[1;32m     85\u001b[0m         \u001b[0;32mfor\u001b[0m \u001b[0mdata\u001b[0m\u001b[0;34m,\u001b[0m \u001b[0mtarget\u001b[0m \u001b[0;32min\u001b[0m \u001b[0mloaders\u001b[0m\u001b[0;34m[\u001b[0m\u001b[0;34m'train'\u001b[0m\u001b[0;34m]\u001b[0m\u001b[0;34m:\u001b[0m\u001b[0;34m\u001b[0m\u001b[0;34m\u001b[0m\u001b[0m\n\u001b[1;32m     86\u001b[0m \u001b[0;34m\u001b[0m\u001b[0m\n\u001b[0;32m---> 87\u001b[0;31m             \u001b[0mdata\u001b[0m \u001b[0;34m=\u001b[0m \u001b[0mdata\u001b[0m\u001b[0;34m.\u001b[0m\u001b[0mto\u001b[0m\u001b[0;34m(\u001b[0m\u001b[0mdevice\u001b[0m\u001b[0;34m)\u001b[0m\u001b[0;34m\u001b[0m\u001b[0;34m\u001b[0m\u001b[0m\n\u001b[0m\u001b[1;32m     88\u001b[0m             \u001b[0mtarget\u001b[0m \u001b[0;34m=\u001b[0m \u001b[0mtarget\u001b[0m\u001b[0;34m.\u001b[0m\u001b[0mto\u001b[0m\u001b[0;34m(\u001b[0m\u001b[0mdevice\u001b[0m\u001b[0;34m)\u001b[0m\u001b[0;34m\u001b[0m\u001b[0;34m\u001b[0m\u001b[0m\n\u001b[1;32m     89\u001b[0m \u001b[0;34m\u001b[0m\u001b[0m\n",
            "\u001b[0;31mKeyboardInterrupt\u001b[0m: "
          ]
        }
      ]
    },
    {
      "cell_type": "code",
      "metadata": {
        "id": "DT_4EeyP_dXK",
        "colab_type": "code",
        "colab": {
          "base_uri": "https://localhost:8080/",
          "height": 666
        },
        "outputId": "bcde1078-bdca-4d84-8237-a75bde8b9520"
      },
      "source": [
        "import random\n",
        "from deap import base, creator, tools\n",
        "\n",
        "\n",
        "# 適応度クラスの作成\n",
        "# 最大化したい場合1.0\n",
        "# 最小化したい場合-1.0\n",
        "creator.create(\"FitnessMax\", base.Fitness, weights=(1.0,))\n",
        "\n",
        "# 個体クラスの作成\n",
        "creator.create(\"Individual\", list, fitness=creator.FitnessMax)\n",
        "\n",
        "# Toolboxの作成\n",
        "toolbox = base.Toolbox()\n",
        "\n",
        "# 遺伝子を生成する関数\"attr_gene\"を登録\n",
        "# 0~10000の値をランダムに生成する。\n",
        "toolbox.register(\"attr_gene\", random.randrange, 0, 14)\n",
        "\n",
        "# 個体を生成する関数”individual\"を登録\n",
        "# initRepeat(creator.Individual,遺伝子生成関数, N)\n",
        "# N回遺伝子生成関数を実行し、creator.Individualに格納して返す関数\n",
        "toolbox.register(\"individual\", tools.initRepeat, creator.Individual,\n",
        "                 toolbox.attr_gene, 5)\n",
        "\n",
        "# 世代(個体集団)を生成する関数\"population\"を登録\n",
        "# 個体生成したものを集めて、世代化\n",
        "toolbox.register(\"population\", tools.initRepeat, list, toolbox.individual)\n",
        "\n",
        "# 評価関数\"evaluate\"を登録\n",
        "toolbox.register(\"evaluate\", evaluater)\n",
        "\n",
        "# 交叉を行う関数\"mate\"を登録\n",
        "toolbox.register(\"mate\", tools.cxTwoPoint)\n",
        "\n",
        "# 変異を行う関数\"mutate\"を登録\n",
        "toolbox.register(\"mutate\", tools.mutUniformInt, low=0, up=14, indpb=0.2)\n",
        "\n",
        "# 個体選択法\"select\"を登録\n",
        "toolbox.register(\"select\", tools.selTournament, tournsize=3)\n",
        "\n",
        "\n",
        "def main():\n",
        "\n",
        "    random.seed()\n",
        "\n",
        "    # GAパラメータ\n",
        "    N_GEN = 20      # 繰り返し世代数\n",
        "    POP_SIZE = 10   # 集団内の個体数\n",
        "    CX_PB = 0.5     # 交叉確率\n",
        "    MUT_PB = 0.05    # 変異確率0.05\n",
        "\n",
        "    # 個体集団の生成\n",
        "    pop = toolbox.population(n=POP_SIZE)\n",
        "    print(\"遺伝的探索開始\")\n",
        "    pop[-1]=[10,0,0,0,0]\n",
        "    print(pop)\n",
        "\n",
        "    # 個体集団の適応度の評価\n",
        "    fitnesses = list(map(toolbox.evaluate, pop))\n",
        "    for ind, fit in zip(pop, fitnesses):\n",
        "        ind.fitness.values = fit\n",
        "    print(\"  Evaluated %i individuals\" % len(pop))\n",
        "    # 適応度の抽出\n",
        "    fits = [ind.fitness.values[0] for ind in pop]\n",
        "\n",
        "    print(\"-----------------------\")\n",
        "    # 進化ループ開始\n",
        "    g = 0\n",
        "    while g < N_GEN:\n",
        "\n",
        "        g = g + 1\n",
        "        print(\"-- Generation %i --\" % g)\n",
        "\n",
        "        # 次世代個体の選択・複製\n",
        "        offspring = toolbox.select(pop, len(pop))\n",
        "        offspring = list(map(toolbox.clone, offspring))\n",
        "        print(offspring)\n",
        "\n",
        "        # 交叉\n",
        "        for child1, child2 in zip(offspring[::2], offspring[1::2]):\n",
        "\n",
        "            # 交叉させる個体を選択\n",
        "            if random.random() < CX_PB:\n",
        "                toolbox.mate(child1, child2)\n",
        "\n",
        "                # 交叉させた個体は適応度を削除する\n",
        "                del child1.fitness.values\n",
        "                del child2.fitness.values\n",
        "\n",
        "        # 変異\n",
        "        for mutant in offspring:\n",
        "\n",
        "            # 変異させる個体を選択\n",
        "            if random.random() < MUT_PB:\n",
        "                print(\"変異前:{}\".format(mutant))\n",
        "                toolbox.mutate(mutant)\n",
        "                print(\"変異後:{}\".format(mutant))\n",
        "\n",
        "                # 変異させた個体は適応度を削除する\n",
        "                del mutant.fitness.values\n",
        "\n",
        "\n",
        "        # 適応度を削除した個体について適応度の再評価を行う\n",
        "        invalid_ind = [ind for ind in offspring if not ind.fitness.valid]\n",
        "        print(invalid_ind)\n",
        "        fitnesses = map(toolbox.evaluate, invalid_ind)\n",
        "\n",
        "        for ind, fit in zip(invalid_ind, fitnesses):\n",
        "            ind.fitness.values = fit\n",
        "\n",
        "        print(\"  Evaluated %i individuals\" % len(invalid_ind))\n",
        "\n",
        "        # 個体集団を新世代個体集団で更新\n",
        "        pop[:] = offspring\n",
        "\n",
        "        # 新世代の全個体の適応度の抽出\n",
        "        fits = [ind.fitness.values[0] for ind in pop]\n",
        "\n",
        "        # 適応度の統計情報の出力\n",
        "        length = len(pop)\n",
        "        mean = sum(fits) / length\n",
        "        sum2 = sum(x*x for x in fits)\n",
        "        std = abs(sum2 / length - mean**2)**0.5\n",
        "\n",
        "        print(\"  Min %s\" % min(fits))\n",
        "        print(\"  Max %s\" % max(fits))\n",
        "        print(\"  Avg %s\" % mean)\n",
        "        print(\"  Std %s\" % std)\n",
        "\n",
        "\n",
        "    print(\"-- End of (successful) evolution --\")\n",
        "\n",
        "    # 最良個体の抽出\n",
        "    best_ind = tools.selBest(pop, 1)[0]\n",
        "    print(\"Best individual is %s, %s\" % (best_ind, best_ind.fitness.values))\n",
        "\n",
        "\n",
        "if __name__ == '__main__':\n",
        "\n",
        "    main()"
      ],
      "execution_count": null,
      "outputs": [
        {
          "output_type": "stream",
          "text": [
            "/usr/local/lib/python3.6/dist-packages/deap/creator.py:141: RuntimeWarning: A class named 'FitnessMax' has already been created and it will be overwritten. Consider deleting previous creation of that class or rename it.\n",
            "  RuntimeWarning)\n",
            "/usr/local/lib/python3.6/dist-packages/deap/creator.py:141: RuntimeWarning: A class named 'Individual' has already been created and it will be overwritten. Consider deleting previous creation of that class or rename it.\n",
            "  RuntimeWarning)\n",
            "/usr/local/lib/python3.6/dist-packages/ipykernel_launcher.py:36: UserWarning: Implicit dimension choice for softmax has been deprecated. Change the call to include dim=X as an argument.\n",
            "/usr/local/lib/python3.6/dist-packages/ipykernel_launcher.py:32: UserWarning: Implicit dimension choice for log_softmax has been deprecated. Change the call to include dim=X as an argument.\n"
          ],
          "name": "stderr"
        },
        {
          "output_type": "stream",
          "text": [
            "遺伝的探索開始\n",
            "[[7, 4, 12, 10, 8], [13, 2, 8, 7, 7], [2, 7, 4, 2, 11], [5, 11, 3, 6, 12], [2, 13, 1, 9, 1], [11, 6, 9, 2, 3], [8, 12, 2, 1, 4], [7, 10, 10, 13, 10], [10, 1, 3, 3, 13], [10, 0, 0, 0, 0]]\n",
            "temp: 20 ,Training log: 10 ,Loss: 183.13400268554688\n",
            "temp: 20 ,Training log: 20 ,Loss: 182.81861877441406\n",
            "----------------\n",
            "速度:2.535641670227051 ,精度:0.5212\n",
            "速度評価値:0.23740016793967664 ,精度評価値:0.35388375882672457\n",
            "評価指標:0.5912839267664012\n",
            "----------------\n",
            "temp: 20 ,Training log: 10 ,Loss: 182.9959716796875\n",
            "temp: 20 ,Training log: 20 ,Loss: 183.17770385742188\n",
            "----------------\n",
            "速度:2.8575236797332764 ,精度:0.4919\n",
            "速度評価値:0.18235727396358603 ,精度評価値:0.3339896795219989\n",
            "評価指標:0.5163469534855849\n",
            "----------------\n",
            "temp: 20 ,Training log: 10 ,Loss: 183.62460327148438\n",
            "temp: 20 ,Training log: 20 ,Loss: 183.29318237304688\n",
            "----------------\n",
            "速度:2.4625673294067383 ,精度:0.3185\n",
            "速度評価値:0.24989612321321103 ,精度評価値:0.216254752851711\n",
            "評価指標:0.466150876064922\n",
            "----------------\n",
            "temp: 20 ,Training log: 10 ,Loss: 183.0638427734375\n",
            "temp: 20 ,Training log: 20 ,Loss: 183.01107788085938\n",
            "----------------\n",
            "速度:2.5564823150634766 ,精度:0.457\n",
            "速度評価値:0.23383634837149242 ,精度評価値:0.3102933188484519\n",
            "評価指標:0.5441296672199443\n",
            "----------------\n",
            "temp: 20 ,Training log: 10 ,Loss: 184.1873016357422\n"
          ],
          "name": "stdout"
        }
      ]
    },
    {
      "cell_type": "markdown",
      "metadata": {
        "id": "NFd3JYk_rVJ9",
        "colab_type": "text"
      },
      "source": [
        "# **最適モデルの評価確認**"
      ]
    },
    {
      "cell_type": "code",
      "metadata": {
        "id": "VwOV-vaqAlgs",
        "colab_type": "code",
        "colab": {
          "base_uri": "https://localhost:8080/",
          "height": 275
        },
        "outputId": "ed77d0ca-e490-4b85-9b40-8a0fc5f38d74"
      },
      "source": [
        "def evaluater(gane):\n",
        "    # 入力された乗数から、本当のモデルのノード数とする。\n",
        "    model_gane=[]\n",
        "    for i in gane:\n",
        "      if i==0:\n",
        "          model_gane.append(0)\n",
        "      else:\n",
        "          model_gane.append(2**i)\n",
        "\n",
        "    #温度設定\n",
        "    temp=10\n",
        "\n",
        "    # 学習回数\n",
        "    epoch = 50\n",
        "    net: torch.nn.Module = CreateNet(model_gane)\n",
        "    net.to(device)\n",
        "\n",
        "    optimizer = torch.optim.Adam(params=net.parameters(), lr=0.001)\n",
        "\n",
        "    for e in range(1,epoch+1):\n",
        "        \"\"\"　学習　開始\"\"\"\n",
        "        loss = None\n",
        "        net.train()\n",
        "        for data, target in loaders['train']:\n",
        "                \n",
        "            data = data.to(device)\n",
        "            target = target.to(device)\n",
        "\n",
        "            max_model_outputs = Tnet(data,temp)\n",
        "            data = data.view(-1, 32 * 32 * 3)\n",
        "            output = net(data,temp)\n",
        "\n",
        "            optimizer.zero_grad()\n",
        "            loss = criterion(max_model_outputs,output)\n",
        "\n",
        "            loss.backward()\n",
        "            optimizer.step()\n",
        "        if e%10==0:\n",
        "            print('temp: {} ,Training log: {} ,Loss: {}'.format(temp,e,loss.item()))\n",
        "\n",
        "    torch.save(net.state_dict(), 'GA_student_NN_12_8_11_3_6_11.pth')\n",
        "\n",
        "    \"\"\"  学習したモデルの速度と精度の評価をする。(推論)\"\"\"\n",
        "    net.eval()\n",
        "    elapsed_time=0\n",
        "    for i in range(10):\n",
        "        correct = 0\n",
        "        t1 = time.time()\n",
        "        with torch.no_grad():\n",
        "            for images, labels in loaders['test']:\n",
        "                images = images.to(device) \n",
        "                labels = labels.to(device)\n",
        "                data = images.view(-1, 32 * 32 * 3)\n",
        "                #　蒸留モデルは、推論時は温度を1に戻します。\n",
        "                outputs = net(data,1)\n",
        "                _, predicted = torch.max(outputs.data, 1)\n",
        "                #torch.max(a, axis) (axis=0:col, axis=1:row)ごとに最大値を取ってくれている。\n",
        "                correct += (predicted == labels).sum().item()\n",
        "\n",
        "        acc = float(correct / 10000)\n",
        "        t2 = time.time()\n",
        "        elapsed_time += t2-t1\n",
        "    elapsed_time /=10\n",
        "\n",
        "    # accとelapsedは、教師モデルの出力を受け取るようにしておきましょう。\n",
        "    return speed_acc_normalization(s_max,0,elapsed_time,a_max,0,acc)\n",
        "print(\"---最適モデル---\")\n",
        "print(evaluater([10,8]))\n"
      ],
      "execution_count": null,
      "outputs": [
        {
          "output_type": "stream",
          "text": [
            "---最適モデル---\n"
          ],
          "name": "stdout"
        },
        {
          "output_type": "stream",
          "text": [
            "/usr/local/lib/python3.6/dist-packages/ipykernel_launcher.py:36: UserWarning: Implicit dimension choice for softmax has been deprecated. Change the call to include dim=X as an argument.\n",
            "/usr/local/lib/python3.6/dist-packages/ipykernel_launcher.py:32: UserWarning: Implicit dimension choice for log_softmax has been deprecated. Change the call to include dim=X as an argument.\n"
          ],
          "name": "stderr"
        },
        {
          "output_type": "stream",
          "text": [
            "temp: 10 ,Training log: 10 ,Loss: 179.47813415527344\n",
            "temp: 10 ,Training log: 20 ,Loss: 178.94952392578125\n",
            "temp: 10 ,Training log: 30 ,Loss: 179.17417907714844\n",
            "temp: 10 ,Training log: 40 ,Loss: 178.1798858642578\n",
            "temp: 10 ,Training log: 50 ,Loss: 177.97914123535156\n",
            "----------------\n",
            "速度:2.7107788801193236 ,精度:0.583\n",
            "速度評価値:0.2527039161180319 ,精度評価値:0.39584464964693095\n",
            "評価指標:0.6485485657649628\n",
            "----------------\n",
            "0.6485485657649628\n"
          ],
          "name": "stdout"
        }
      ]
    },
    {
      "cell_type": "markdown",
      "metadata": {
        "id": "IQKqjXjqraZV",
        "colab_type": "text"
      },
      "source": [
        "# **1層モデルの評価確認（基準として）**"
      ]
    },
    {
      "cell_type": "code",
      "metadata": {
        "id": "qAPtm2BcD2Vh",
        "colab_type": "code",
        "colab": {
          "base_uri": "https://localhost:8080/",
          "height": 275
        },
        "outputId": "8c4ad1ea-8d48-400c-812b-d159219943d4"
      },
      "source": [
        "def evaluater(gane):\n",
        "    # 入力された乗数から、本当のモデルのノード数とする。\n",
        "    model_gane=[]\n",
        "    for i in gane:\n",
        "      if i==0:\n",
        "          model_gane.append(0)\n",
        "      else:\n",
        "          model_gane.append(2**i)\n",
        "\n",
        "    #温度設定\n",
        "    temp=10\n",
        "\n",
        "    # 学習回数\n",
        "    epoch = 50\n",
        "    net: torch.nn.Module = CreateNet(model_gane)\n",
        "    net.to(device)\n",
        "\n",
        "    optimizer = torch.optim.Adam(params=net.parameters(), lr=0.001)\n",
        "\n",
        "    for e in range(1,epoch+1):\n",
        "        \"\"\"　学習　開始\"\"\"\n",
        "        loss = None\n",
        "        net.train()\n",
        "        for data, target in loaders['train']:\n",
        "                \n",
        "            data = data.to(device)\n",
        "            target = target.to(device)\n",
        "\n",
        "            max_model_outputs = Tnet(data,temp)\n",
        "            data = data.view(-1, 32 * 32 * 3)\n",
        "            output = net(data,temp)\n",
        "\n",
        "            optimizer.zero_grad()\n",
        "            loss = criterion(max_model_outputs,output)\n",
        "\n",
        "            loss.backward()\n",
        "            optimizer.step()\n",
        "        if e%10==0:\n",
        "            print('temp: {} ,Training log: {} ,Loss: {}'.format(temp,e,loss.item()))\n",
        "\n",
        "    \"\"\"  学習したモデルの速度と精度の評価をする。(推論)\"\"\"\n",
        "    net.eval()\n",
        "    elapsed_time=0\n",
        "    for i in range(10):\n",
        "        correct = 0\n",
        "        t1 = time.time()\n",
        "        with torch.no_grad():\n",
        "            for images, labels in loaders['test']:\n",
        "                images = images.to(device) \n",
        "                labels = labels.to(device)\n",
        "                data = images.view(-1, 32 * 32 * 3)\n",
        "                #　蒸留モデルは、推論時は温度を1に戻します。\n",
        "                outputs = net(data,1)\n",
        "                _, predicted = torch.max(outputs.data, 1)\n",
        "                #torch.max(a, axis) (axis=0:col, axis=1:row)ごとに最大値を取ってくれている。\n",
        "                correct += (predicted == labels).sum().item()\n",
        "\n",
        "        acc = float(correct / 10000)\n",
        "        t2 = time.time()\n",
        "        elapsed_time += t2-t1\n",
        "    elapsed_time /=10\n",
        "\n",
        "    # accとelapsedは、教師モデルの出力を受け取るようにしておきましょう。\n",
        "    return speed_acc_normalization(s_max,0,elapsed_time,a_max,0,acc)\n",
        "print(\"---1024の1層モデル---\")\n",
        "print(evaluater([10]))\n"
      ],
      "execution_count": null,
      "outputs": [
        {
          "output_type": "stream",
          "text": [
            "---1024の1層モデル---\n"
          ],
          "name": "stdout"
        },
        {
          "output_type": "stream",
          "text": [
            "/usr/local/lib/python3.6/dist-packages/ipykernel_launcher.py:36: UserWarning: Implicit dimension choice for softmax has been deprecated. Change the call to include dim=X as an argument.\n",
            "/usr/local/lib/python3.6/dist-packages/ipykernel_launcher.py:32: UserWarning: Implicit dimension choice for log_softmax has been deprecated. Change the call to include dim=X as an argument.\n"
          ],
          "name": "stderr"
        },
        {
          "output_type": "stream",
          "text": [
            "temp: 10 ,Training log: 10 ,Loss: 180.44435119628906\n",
            "temp: 10 ,Training log: 20 ,Loss: 178.97694396972656\n",
            "temp: 10 ,Training log: 30 ,Loss: 178.2796630859375\n",
            "temp: 10 ,Training log: 40 ,Loss: 178.634765625\n",
            "temp: 10 ,Training log: 50 ,Loss: 178.77899169921875\n",
            "----------------\n",
            "速度:2.733385610580444 ,精度:0.5568\n",
            "速度評価値:0.24943607362980783 ,精度評価値:0.3780554046713742\n",
            "評価指標:0.627491478301182\n",
            "----------------\n",
            "0.627491478301182\n"
          ],
          "name": "stdout"
        }
      ]
    },
    {
      "cell_type": "code",
      "metadata": {
        "id": "ekJF8tEXSrX4",
        "colab_type": "code",
        "colab": {}
      },
      "source": [
        ""
      ],
      "execution_count": null,
      "outputs": []
    },
    {
      "cell_type": "code",
      "metadata": {
        "id": "UrgyADCvSF5L",
        "colab_type": "code",
        "colab": {}
      },
      "source": [
        ""
      ],
      "execution_count": null,
      "outputs": []
    },
    {
      "cell_type": "code",
      "metadata": {
        "id": "JMzBMz89T62s",
        "colab_type": "code",
        "colab": {}
      },
      "source": [
        ""
      ],
      "execution_count": null,
      "outputs": []
    }
  ]
}