{
  "nbformat": 4,
  "nbformat_minor": 0,
  "metadata": {
    "colab": {
      "name": "GPU評価確認用.ipynb",
      "provenance": [],
      "collapsed_sections": [],
      "authorship_tag": "ABX9TyO6vWOhlDWLUJcihjBv13Sj",
      "include_colab_link": true
    },
    "kernelspec": {
      "name": "python3",
      "display_name": "Python 3"
    },
    "accelerator": "GPU"
  },
  "cells": [
    {
      "cell_type": "markdown",
      "metadata": {
        "id": "view-in-github",
        "colab_type": "text"
      },
      "source": [
        "<a href=\"https://colab.research.google.com/github/bekku/deeplearning/blob/master/GPU%E8%A9%95%E4%BE%A1%E7%A2%BA%E8%AA%8D.ipynb\" target=\"_parent\"><img src=\"https://colab.research.google.com/assets/colab-badge.svg\" alt=\"Open In Colab\"/></a>"
      ]
    },
    {
      "cell_type": "code",
      "metadata": {
        "id": "s_nkE8BR5j3Y",
        "colab_type": "code",
        "colab": {
          "base_uri": "https://localhost:8080/",
          "height": 241
        },
        "outputId": "1f3b17ca-0374-4ea5-db0c-2b5088d69a17"
      },
      "source": [
        "import torch\n",
        "import torch.nn.functional as f\n",
        "import torch.nn as nn\n",
        "import torch.nn.functional as F\n",
        "from torch.utils.data import DataLoader\n",
        "from torchvision import datasets, transforms\n",
        "import matplotlib.pyplot as plt\n",
        "from tqdm import tqdm\n",
        "import numpy as np\n",
        "import time\n",
        "import random\n",
        "!pip install deap\n",
        "from deap import base, creator, tools\n",
        "\n",
        "\n",
        "from google.colab import drive #インポート\n",
        "drive.mount('/content/gdrive') #GoogleDriveのマウント\n",
        "def load_cifar10(batch=128):\n",
        "    train_loader = DataLoader(\n",
        "        datasets.CIFAR10('./data',\n",
        "                         train=True,\n",
        "                         download=True,\n",
        "                         transform=transforms.Compose([\n",
        "                             transforms.ToTensor(),\n",
        "                             transforms.Normalize(\n",
        "                                # (0.4914,0.4822,0.4465),(0.247,0.243,0.261)\n",
        "                                [0.5, 0.5, 0.5],  # RGB 平均\n",
        "                                [0.5, 0.5, 0.5]   # RGB 標準偏差\n",
        "                                )\n",
        "                         ])),\n",
        "        batch_size=batch,\n",
        "        shuffle=True\n",
        "    )\n",
        "\n",
        "    test_loader = DataLoader(\n",
        "        datasets.CIFAR10('./data',\n",
        "                         train=False,\n",
        "                         download=True,\n",
        "                         transform=transforms.Compose([\n",
        "                             transforms.ToTensor(),\n",
        "                             transforms.Normalize(\n",
        "                                # (0.4914,0.4822,0.4465),(0.247,0.243,0.261)\n",
        "                                [0.5, 0.5, 0.5],  # RGB 平均\n",
        "                                [0.5, 0.5, 0.5]   # RGB 標準偏差\n",
        "                             )\n",
        "                         ])),\n",
        "        batch_size=batch,\n",
        "    )\n",
        "\n",
        "    return {'train': train_loader, 'test': test_loader}\n",
        "\n",
        "torch.cuda.is_available()"
      ],
      "execution_count": 1,
      "outputs": [
        {
          "output_type": "stream",
          "text": [
            "Collecting deap\n",
            "\u001b[?25l  Downloading https://files.pythonhosted.org/packages/0a/eb/2bd0a32e3ce757fb26264765abbaedd6d4d3640d90219a513aeabd08ee2b/deap-1.3.1-cp36-cp36m-manylinux2010_x86_64.whl (157kB)\n",
            "\r\u001b[K     |██                              | 10kB 27.8MB/s eta 0:00:01\r\u001b[K     |████▏                           | 20kB 6.3MB/s eta 0:00:01\r\u001b[K     |██████▎                         | 30kB 7.7MB/s eta 0:00:01\r\u001b[K     |████████▍                       | 40kB 8.5MB/s eta 0:00:01\r\u001b[K     |██████████▍                     | 51kB 7.3MB/s eta 0:00:01\r\u001b[K     |████████████▌                   | 61kB 8.2MB/s eta 0:00:01\r\u001b[K     |██████████████▋                 | 71kB 8.5MB/s eta 0:00:01\r\u001b[K     |████████████████▊               | 81kB 8.8MB/s eta 0:00:01\r\u001b[K     |██████████████████▊             | 92kB 8.2MB/s eta 0:00:01\r\u001b[K     |████████████████████▉           | 102kB 8.5MB/s eta 0:00:01\r\u001b[K     |███████████████████████         | 112kB 8.5MB/s eta 0:00:01\r\u001b[K     |█████████████████████████       | 122kB 8.5MB/s eta 0:00:01\r\u001b[K     |███████████████████████████▏    | 133kB 8.5MB/s eta 0:00:01\r\u001b[K     |█████████████████████████████▏  | 143kB 8.5MB/s eta 0:00:01\r\u001b[K     |███████████████████████████████▎| 153kB 8.5MB/s eta 0:00:01\r\u001b[K     |████████████████████████████████| 163kB 8.5MB/s \n",
            "\u001b[?25hRequirement already satisfied: numpy in /usr/local/lib/python3.6/dist-packages (from deap) (1.18.5)\n",
            "Installing collected packages: deap\n",
            "Successfully installed deap-1.3.1\n",
            "Go to this URL in a browser: https://accounts.google.com/o/oauth2/auth?client_id=947318989803-6bn6qk8qdgf4n4g3pfee6491hc0brc4i.apps.googleusercontent.com&redirect_uri=urn%3aietf%3awg%3aoauth%3a2.0%3aoob&response_type=code&scope=email%20https%3a%2f%2fwww.googleapis.com%2fauth%2fdocs.test%20https%3a%2f%2fwww.googleapis.com%2fauth%2fdrive%20https%3a%2f%2fwww.googleapis.com%2fauth%2fdrive.photos.readonly%20https%3a%2f%2fwww.googleapis.com%2fauth%2fpeopleapi.readonly\n",
            "\n",
            "Enter your authorization code:\n",
            "··········\n",
            "Mounted at /content/gdrive\n"
          ],
          "name": "stdout"
        },
        {
          "output_type": "execute_result",
          "data": {
            "text/plain": [
              "True"
            ]
          },
          "metadata": {
            "tags": []
          },
          "execution_count": 1
        }
      ]
    },
    {
      "cell_type": "markdown",
      "metadata": {
        "id": "hBwRVGVU7KSb",
        "colab_type": "text"
      },
      "source": [
        "# **評価関数**"
      ]
    },
    {
      "cell_type": "code",
      "metadata": {
        "id": "99XU0ZQm7JtD",
        "colab_type": "code",
        "colab": {}
      },
      "source": [
        "def speed_acc_normalization(spe_max,spe_min,spe,acc_max,acc_min,acc):\n",
        "    if spe_min<=spe<=spe_max:\n",
        "        speed_normalization = 0.5*((spe_max-spe+1) - spe_min) / ( (spe_max - spe_min) )\n",
        "    else:\n",
        "        speed_normalization=0\n",
        "    if acc_min<=acc<=acc_max:\n",
        "      accuracy_normalization = 0.5*(acc - acc_min) / ( (acc_max - acc_min) )\n",
        "    else:\n",
        "        accuracy_normalization=0\n",
        "    print(\"--------------------------------------------------------------------------------\")\n",
        "    print(\"速度:{} ,精度:{}\".format(spe,acc))\n",
        "    print(\"速度評価値:{} ,精度評価値:{}\".format(speed_normalization,accuracy_normalization))\n",
        "    print(\"評価指標:{}\".format(speed_normalization + accuracy_normalization))\n",
        "    print(\"--------------------------------------------------------------------------------\")\n",
        "\n",
        "    return speed_normalization + accuracy_normalization"
      ],
      "execution_count": 2,
      "outputs": []
    },
    {
      "cell_type": "markdown",
      "metadata": {
        "id": "Sq3ISlKk56ig",
        "colab_type": "text"
      },
      "source": [
        "# **教師モデルVGG**"
      ]
    },
    {
      "cell_type": "code",
      "metadata": {
        "id": "EDX_bTc45o0g",
        "colab_type": "code",
        "colab": {}
      },
      "source": [
        "class VGG16(nn.Module):\n",
        "    def __init__(self): # , num_classes):\n",
        "        super(VGG16, self).__init__()\n",
        "        num_classes=10\n",
        "\n",
        "        self.block1_output = nn.Sequential (\n",
        "            nn.Conv2d(3, 64, kernel_size=3, padding=1),\n",
        "            nn.BatchNorm2d(64),\n",
        "            nn.ReLU(inplace=True),\n",
        "            nn.Conv2d(64, 64, kernel_size=3, padding=1),\n",
        "            nn.BatchNorm2d(64),\n",
        "            nn.ReLU(inplace=True),\n",
        "            nn.MaxPool2d(kernel_size=2, stride=2),\n",
        "        )\n",
        "\n",
        "        self.block2_output = nn.Sequential (\n",
        "            nn.Conv2d(64, 128, kernel_size=3, padding=1),\n",
        "            nn.BatchNorm2d(128),\n",
        "            nn.ReLU(inplace=True),\n",
        "            nn.Conv2d(128, 128, kernel_size=3, padding=1),\n",
        "            nn.BatchNorm2d(128),\n",
        "            nn.ReLU(inplace=True),\n",
        "            nn.MaxPool2d(kernel_size=2, stride=2),\n",
        "        )\n",
        "\n",
        "        self.block3_output = nn.Sequential (\n",
        "            nn.Conv2d(128, 256, kernel_size=3, padding=1),\n",
        "            nn.BatchNorm2d(256),\n",
        "            nn.ReLU(inplace=True),\n",
        "            nn.Conv2d(256, 256, kernel_size=3, padding=1),\n",
        "            nn.BatchNorm2d(256),\n",
        "            nn.ReLU(inplace=True),\n",
        "            nn.Conv2d(256, 256, kernel_size=3, padding=1),\n",
        "            nn.BatchNorm2d(256),\n",
        "            nn.ReLU(inplace=True),\n",
        "            nn.MaxPool2d(kernel_size=2, stride=2),\n",
        "        )\n",
        "\n",
        "        self.block4_output = nn.Sequential (\n",
        "            nn.Conv2d(256, 512, kernel_size=3, padding=1),\n",
        "            nn.BatchNorm2d(512),\n",
        "            nn.ReLU(inplace=True),\n",
        "            nn.Conv2d(512, 512, kernel_size=3, padding=1),\n",
        "            nn.BatchNorm2d(512),\n",
        "            nn.ReLU(inplace=True),\n",
        "            nn.Conv2d(512, 512, kernel_size=3, padding=1),\n",
        "            nn.BatchNorm2d(512),\n",
        "            nn.ReLU(inplace=True),\n",
        "            nn.MaxPool2d(kernel_size=2, stride=2),\n",
        "        )\n",
        "\n",
        "        self.block5_output = nn.Sequential (\n",
        "            nn.Conv2d(512, 512, kernel_size=3, padding=1),\n",
        "            nn.BatchNorm2d(512),\n",
        "            nn.ReLU(inplace=True),\n",
        "            nn.Conv2d(512, 512, kernel_size=3, padding=1),\n",
        "            nn.BatchNorm2d(512),\n",
        "            nn.ReLU(inplace=True),\n",
        "            nn.Conv2d(512, 512, kernel_size=3, padding=1),\n",
        "            nn.BatchNorm2d(512),\n",
        "            nn.ReLU(inplace=True),\n",
        "            nn.MaxPool2d(kernel_size=2, stride=2),\n",
        "        )\n",
        "\n",
        "        self.classifier = nn.Sequential(\n",
        "            nn.Linear(512, 512),  #512 * 7 * 7, 4096),\n",
        "            nn.ReLU(True),\n",
        "            nn.Dropout(),\n",
        "            nn.Linear(512, 32 ),  #4096, 4096),\n",
        "            nn.ReLU(True),\n",
        "            nn.Dropout(),\n",
        "            nn.Linear(32, num_classes),  #4096\n",
        "        )\n",
        "\n",
        "    def forward(self, x,T):\n",
        "        x = self.block1_output(x)\n",
        "        # print(x.size())\n",
        "        x = self.block2_output(x)\n",
        "        # print(x.size())\n",
        "        x = self.block3_output(x)\n",
        "        # print(x.size())\n",
        "        x = self.block4_output(x)\n",
        "        # print(x.size())\n",
        "        x = self.block5_output(x)\n",
        "        # print(x.size())\n",
        "        x = x.view(x.size(0), -1)\n",
        "        # print(x.size())\n",
        "        x = self.classifier(x)\n",
        "        x = x/T\n",
        "        return x"
      ],
      "execution_count": 3,
      "outputs": []
    },
    {
      "cell_type": "markdown",
      "metadata": {
        "id": "dCninoR651bV",
        "colab_type": "text"
      },
      "source": [
        "# **教師モデルの出力**"
      ]
    },
    {
      "cell_type": "code",
      "metadata": {
        "id": "0KGBrYr-5yav",
        "colab_type": "code",
        "colab": {
          "base_uri": "https://localhost:8080/",
          "height": 479
        },
        "outputId": "f097d7d5-d5fc-4305-bf86-37a788f82eb2"
      },
      "source": [
        "!nvidia-smi\n",
        "Tnet: VGG16 = VGG16()\n",
        "loader = load_cifar10()\n",
        "device = torch.device('cuda:0')\n",
        "Tnet.to(device)\n",
        "\n",
        "param = torch.load('/content/gdrive/My Drive/コード/ランダムモデルの蒸留学習/GPU評価/VGG16_weight_200ep.pth')\n",
        "Tnet.load_state_dict(param)\n",
        "\n",
        "Tnet_speed_list = []\n",
        "Tnet_accuracy_list = []\n",
        "\n",
        "Tnet_speed = 0\n",
        "correct = 0\n",
        "Tnet_accuracy = 0\n",
        "for i in range(20):\n",
        "    correct = 0\n",
        "    t1 = time.time()\n",
        "    with torch.no_grad():\n",
        "        for images, labels in loader['test']:\n",
        "            images = images.to(device) \n",
        "            labels = labels.to(device)\n",
        "            outputs = Tnet(images,1)\n",
        "            _, predicted = torch.max(outputs.data, 1)\n",
        "            correct += (predicted == labels).sum().item()\n",
        "    t2 = time.time()\n",
        "\n",
        "    Tnet_speed_list.append(t2-t1)\n",
        "    Tnet_accuracy_list.append(correct/10000)\n",
        "\n",
        "Tnet_speed = sum(Tnet_speed_list)/len(Tnet_speed_list)\n",
        "Tnet_accuracy = sum(Tnet_accuracy_list)/len(Tnet_accuracy_list)\n",
        "print(Tnet_speed_list)\n",
        "print(Tnet_accuracy_list)\n",
        "\n",
        "print(Tnet_speed)\n",
        "print(Tnet_accuracy)\n"
      ],
      "execution_count": 15,
      "outputs": [
        {
          "output_type": "stream",
          "text": [
            "Sun Jul 12 22:44:46 2020       \n",
            "+-----------------------------------------------------------------------------+\n",
            "| NVIDIA-SMI 450.36.06    Driver Version: 418.67       CUDA Version: 10.1     |\n",
            "|-------------------------------+----------------------+----------------------+\n",
            "| GPU  Name        Persistence-M| Bus-Id        Disp.A | Volatile Uncorr. ECC |\n",
            "| Fan  Temp  Perf  Pwr:Usage/Cap|         Memory-Usage | GPU-Util  Compute M. |\n",
            "|                               |                      |               MIG M. |\n",
            "|===============================+======================+======================|\n",
            "|   0  Tesla T4            Off  | 00000000:00:04.0 Off |                    0 |\n",
            "| N/A   69C    P0    32W /  70W |   1323MiB / 15079MiB |      0%      Default |\n",
            "|                               |                      |                 ERR! |\n",
            "+-------------------------------+----------------------+----------------------+\n",
            "                                                                               \n",
            "+-----------------------------------------------------------------------------+\n",
            "| Processes:                                                                  |\n",
            "|  GPU   GI   CI        PID   Type   Process name                  GPU Memory |\n",
            "|        ID   ID                                                   Usage      |\n",
            "|=============================================================================|\n",
            "|  No running processes found                                                 |\n",
            "+-----------------------------------------------------------------------------+\n",
            "Files already downloaded and verified\n",
            "Files already downloaded and verified\n",
            "[3.0113093852996826, 2.95312762260437, 2.9210565090179443, 2.957840919494629, 2.9905335903167725, 2.944164752960205, 3.0018765926361084, 2.973438024520874, 2.986205577850342, 2.9888017177581787, 2.952662706375122, 2.938764810562134, 2.9661996364593506, 2.9430670738220215, 2.964144229888916, 2.932269334793091, 2.926590919494629, 2.926395893096924, 2.9469873905181885, 2.9451205730438232]\n",
            "[0.8635, 0.8618, 0.861, 0.8615, 0.86, 0.8629, 0.8621, 0.8611, 0.861, 0.8618, 0.8633, 0.8616, 0.8609, 0.8619, 0.8631, 0.863, 0.8615, 0.8618, 0.8612, 0.8622]\n",
            "2.9585278630256653\n",
            "0.8618600000000001\n"
          ],
          "name": "stdout"
        }
      ]
    },
    {
      "cell_type": "markdown",
      "metadata": {
        "id": "kh69E-YO7RT2",
        "colab_type": "text"
      },
      "source": [
        "# **生徒モデル**"
      ]
    },
    {
      "cell_type": "code",
      "metadata": {
        "id": "9jH7Xk7D6a2K",
        "colab_type": "code",
        "colab": {}
      },
      "source": [
        "class CreateVGG_2(torch.nn.Module):\n",
        "    def __init__(self, VGG_model_list):\n",
        "        super(CreateVGG_2, self).__init__()\n",
        "        self.count = 0\n",
        "\n",
        "        PRE_FILTER = 3\n",
        "        for i in range(len(VGG_model_list)):\n",
        "            if VGG_model_list[i]!=0:\n",
        "                FILTER = VGG_model_list[i]\n",
        "                self._modules[\"fc\"+str(i+1)] = nn.Sequential (\n",
        "                nn.Conv2d(PRE_FILTER, FILTER, kernel_size=3, padding=1),\n",
        "                nn.BatchNorm2d(FILTER),\n",
        "                nn.ReLU(inplace=True),\n",
        "                )\n",
        "                PRE_FILTER=FILTER\n",
        "\n",
        "        self.classifier = nn.Sequential(\n",
        "            nn.Linear(PRE_FILTER, PRE_FILTER), \n",
        "            nn.ReLU(True),\n",
        "            nn.Linear(PRE_FILTER, PRE_FILTER//2 ), \n",
        "            nn.ReLU(True),\n",
        "            nn.Linear(PRE_FILTER//2, 10), \n",
        "        )\n",
        "        self.pool = torch.nn.MaxPool2d(2, 2) \n",
        "        \n",
        "\n",
        "    def forward(self, x, T):\n",
        "        for i in range(1,14):\n",
        "            if \"fc\"+str(i) in self._modules:\n",
        "                x = f.relu(self._modules[\"fc\"+str(i)](x))\n",
        "                # print(x.size())\n",
        "            if i==2 or i==4 or i==7 or i==10 or i==13:\n",
        "                x = self.pool(x)\n",
        "                # print(x.size())\n",
        "        x = x.view(x.size(0), -1)\n",
        "        # print(x.size())\n",
        "        x = self.classifier(x)\n",
        "        # print(x.size())\n",
        "        x = x/T\n",
        "        return x"
      ],
      "execution_count": 13,
      "outputs": []
    },
    {
      "cell_type": "markdown",
      "metadata": {
        "id": "rc18tib37bgv",
        "colab_type": "text"
      },
      "source": [
        "# **最適モデル①0.5-0.5**\n",
        "## [2, 2, 3, 2, 0, 0, 4, 0, 3, 5, 3, 0, 0]"
      ]
    },
    {
      "cell_type": "code",
      "metadata": {
        "id": "lNrC9Hak7bne",
        "colab_type": "code",
        "colab": {
          "base_uri": "https://localhost:8080/",
          "height": 547
        },
        "outputId": "a4b8842b-0b35-4789-b4b1-614666410af2"
      },
      "source": [
        "!nvidia-smi\n",
        "model_gane=[]\n",
        "gane_number=[0,16,32,64,128,256,512,1024]\n",
        "gane_in = [2, 2, 3, 2, 0, 0, 4, 0, 3, 5, 3, 0, 0]\n",
        "for i in gane_in:\n",
        "    if gane_number[i]!=0:\n",
        "        model_gane.append(gane_number[i])\n",
        "\n",
        "net: torch.nn.Module = CreateVGG_2(model_gane)\n",
        "device = torch.device('cuda:0')\n",
        "net.to(device)\n",
        "\n",
        "param = torch.load('/content/gdrive/My Drive/コード/ランダムモデルの蒸留学習/GPU評価/VGG_最適モデル_soft_05-05_2.pth')\n",
        "net.load_state_dict(param)\n",
        "loader = load_cifar10()\n",
        "\n",
        "\n",
        "saiteki_1_speed_list = []\n",
        "saiteki_1_accuracy_list = []\n",
        "\n",
        "saiteki_1_speed = 0\n",
        "correct = 0\n",
        "saiteki_1_accuracy = 0\n",
        "for i in range(20):\n",
        "    correct = 0\n",
        "    t1 = time.time()\n",
        "    with torch.no_grad():\n",
        "        for images, labels in loader['test']:\n",
        "            images = images.to(device) \n",
        "            labels = labels.to(device)\n",
        "            outputs = net(images,1)\n",
        "            _, predicted = torch.max(outputs.data, 1)\n",
        "            correct += (predicted == labels).sum().item()\n",
        "    t2 = time.time()\n",
        "\n",
        "    saiteki_1_speed_list.append(t2-t1)\n",
        "    saiteki_1_accuracy_list.append(correct/10000)\n",
        "\n",
        "saiteki_1_speed = sum(saiteki_1_speed_list)/len(saiteki_1_speed_list)\n",
        "saiteki_1_accuracy = sum(saiteki_1_accuracy_list)/len(saiteki_1_accuracy_list)\n",
        "print(saiteki_1_speed_list)\n",
        "print(saiteki_1_accuracy_list)\n",
        "print(speed_acc_normalization(Tnet_speed,0,saiteki_1_speed,Tnet_accuracy,0,saiteki_1_accuracy))"
      ],
      "execution_count": 16,
      "outputs": [
        {
          "output_type": "stream",
          "text": [
            "Sun Jul 12 22:46:09 2020       \n",
            "+-----------------------------------------------------------------------------+\n",
            "| NVIDIA-SMI 450.36.06    Driver Version: 418.67       CUDA Version: 10.1     |\n",
            "|-------------------------------+----------------------+----------------------+\n",
            "| GPU  Name        Persistence-M| Bus-Id        Disp.A | Volatile Uncorr. ECC |\n",
            "| Fan  Temp  Perf  Pwr:Usage/Cap|         Memory-Usage | GPU-Util  Compute M. |\n",
            "|                               |                      |               MIG M. |\n",
            "|===============================+======================+======================|\n",
            "|   0  Tesla T4            Off  | 00000000:00:04.0 Off |                    0 |\n",
            "| N/A   69C    P0    32W /  70W |   1325MiB / 15079MiB |      0%      Default |\n",
            "|                               |                      |                 ERR! |\n",
            "+-------------------------------+----------------------+----------------------+\n",
            "                                                                               \n",
            "+-----------------------------------------------------------------------------+\n",
            "| Processes:                                                                  |\n",
            "|  GPU   GI   CI        PID   Type   Process name                  GPU Memory |\n",
            "|        ID   ID                                                   Usage      |\n",
            "|=============================================================================|\n",
            "|  No running processes found                                                 |\n",
            "+-----------------------------------------------------------------------------+\n",
            "Files already downloaded and verified\n",
            "Files already downloaded and verified\n",
            "[2.263479232788086, 2.29300856590271, 2.358710527420044, 2.328624725341797, 2.3208200931549072, 2.310137987136841, 2.2654967308044434, 2.2400014400482178, 2.2651617527008057, 2.2593557834625244, 2.2502665519714355, 2.274933338165283, 2.2425382137298584, 2.2590160369873047, 2.287774085998535, 2.27978777885437, 2.296002149581909, 2.2634453773498535, 2.2461912631988525, 2.2466185092926025]\n",
            "[0.8508, 0.8508, 0.8508, 0.8508, 0.8508, 0.8508, 0.8508, 0.8508, 0.8508, 0.8508, 0.8508, 0.8508, 0.8508, 0.8508, 0.8508, 0.8508, 0.8508, 0.8508, 0.8508, 0.8508]\n",
            "--------------------------------------------------------------------------------\n",
            "速度:2.277568507194519 ,精度:0.8507999999999998\n",
            "速度評価値:0.28408712603978004 ,精度評価値:0.49358364467546917\n",
            "評価指標:0.7776707707152493\n",
            "--------------------------------------------------------------------------------\n",
            "0.7776707707152493\n"
          ],
          "name": "stdout"
        }
      ]
    },
    {
      "cell_type": "markdown",
      "metadata": {
        "id": "4BNsv75q7b1A",
        "colab_type": "text"
      },
      "source": [
        "# **最適モデル①0.75-0.25**\n",
        "## [3, 1, 1, 1, 4, 2, 0, 0, 0, 2, 3, 0, 3]"
      ]
    },
    {
      "cell_type": "code",
      "metadata": {
        "id": "LUhqtSXm7b61",
        "colab_type": "code",
        "colab": {
          "base_uri": "https://localhost:8080/",
          "height": 547
        },
        "outputId": "8a2c5270-2445-4d71-8f13-0b08a00aa1f8"
      },
      "source": [
        "!nvidia-smi\n",
        "model_gane=[]\n",
        "gane_number=[0,16,32,64,128,256,512,1024]\n",
        "gane_in = [3, 1, 1, 1, 4, 2, 0, 0, 0, 2, 3, 0, 3]\n",
        "for i in gane_in:\n",
        "    if gane_number[i]!=0:\n",
        "        model_gane.append(gane_number[i])\n",
        "\n",
        "net: torch.nn.Module = CreateVGG_2(model_gane)\n",
        "device = torch.device('cuda:0')\n",
        "net.to(device)\n",
        "\n",
        "param = torch.load('/content/gdrive/My Drive/コード/ランダムモデルの蒸留学習/GPU評価/VGG_最適モデル_soft_075-025_2.pth')\n",
        "net.load_state_dict(param)\n",
        "loader = load_cifar10()\n",
        "\n",
        "\n",
        "saiteki_2_speed_list = []\n",
        "saiteki_2_accuracy_list = []\n",
        "\n",
        "saiteki_2_speed = 0\n",
        "correct = 0\n",
        "saiteki_2_accuracy = 0\n",
        "for i in range(20):\n",
        "    correct = 0\n",
        "    t1 = time.time()\n",
        "    with torch.no_grad():\n",
        "        for images, labels in loader['test']:\n",
        "            images = images.to(device) \n",
        "            labels = labels.to(device)\n",
        "            outputs = net(images,1)\n",
        "            _, predicted = torch.max(outputs.data, 1)\n",
        "            correct += (predicted == labels).sum().item()\n",
        "    t2 = time.time()\n",
        "\n",
        "    saiteki_2_speed_list.append(t2-t1)\n",
        "    saiteki_2_accuracy_list.append(correct/10000)\n",
        "\n",
        "saiteki_2_speed = sum(saiteki_2_speed_list)/len(saiteki_2_speed_list)\n",
        "saiteki_2_accuracy = sum(saiteki_2_accuracy_list)/len(saiteki_2_accuracy_list)\n",
        "print(saiteki_2_speed_list)\n",
        "print(saiteki_2_accuracy_list)\n",
        "print(speed_acc_normalization(Tnet_speed,0,saiteki_2_speed,Tnet_accuracy,0,saiteki_2_accuracy))"
      ],
      "execution_count": 19,
      "outputs": [
        {
          "output_type": "stream",
          "text": [
            "Sun Jul 12 22:48:32 2020       \n",
            "+-----------------------------------------------------------------------------+\n",
            "| NVIDIA-SMI 450.36.06    Driver Version: 418.67       CUDA Version: 10.1     |\n",
            "|-------------------------------+----------------------+----------------------+\n",
            "| GPU  Name        Persistence-M| Bus-Id        Disp.A | Volatile Uncorr. ECC |\n",
            "| Fan  Temp  Perf  Pwr:Usage/Cap|         Memory-Usage | GPU-Util  Compute M. |\n",
            "|                               |                      |               MIG M. |\n",
            "|===============================+======================+======================|\n",
            "|   0  Tesla T4            Off  | 00000000:00:04.0 Off |                    0 |\n",
            "| N/A   74C    P0    33W /  70W |   1325MiB / 15079MiB |      0%      Default |\n",
            "|                               |                      |                 ERR! |\n",
            "+-------------------------------+----------------------+----------------------+\n",
            "                                                                               \n",
            "+-----------------------------------------------------------------------------+\n",
            "| Processes:                                                                  |\n",
            "|  GPU   GI   CI        PID   Type   Process name                  GPU Memory |\n",
            "|        ID   ID                                                   Usage      |\n",
            "|=============================================================================|\n",
            "|  No running processes found                                                 |\n",
            "+-----------------------------------------------------------------------------+\n",
            "Files already downloaded and verified\n",
            "Files already downloaded and verified\n",
            "[2.2641255855560303, 2.211635112762451, 2.211594581604004, 2.2157106399536133, 2.230193853378296, 2.215195894241333, 2.2198750972747803, 2.237701654434204, 2.256169080734253, 2.2342188358306885, 2.237483501434326, 2.2462427616119385, 2.2558016777038574, 2.229869842529297, 2.2415847778320312, 2.205608367919922, 2.214369773864746, 2.1989407539367676, 2.208038330078125, 2.210089921951294]\n",
            "[0.8049, 0.8049, 0.8049, 0.8049, 0.8049, 0.8049, 0.8049, 0.8049, 0.8049, 0.8049, 0.8049, 0.8049, 0.8049, 0.8049, 0.8049, 0.8049, 0.8049, 0.8049, 0.8049, 0.8049]\n",
            "--------------------------------------------------------------------------------\n",
            "速度:2.227222502231598 ,精度:0.8049\n",
            "速度評価値:0.2925957504796784 ,精度評価値:0.4669551899380409\n",
            "評価指標:0.7595509404177193\n",
            "--------------------------------------------------------------------------------\n",
            "0.7595509404177193\n"
          ],
          "name": "stdout"
        }
      ]
    },
    {
      "cell_type": "markdown",
      "metadata": {
        "id": "fTfXKGXj7cD8",
        "colab_type": "text"
      },
      "source": [
        "# **最適モデル③0.25-0.75**\n",
        "## [0, 2, 3, 5, 5, 5, 6, 4, 3, 0, 6, 1, 6]"
      ]
    },
    {
      "cell_type": "code",
      "metadata": {
        "id": "NAV1j7oH7cIx",
        "colab_type": "code",
        "colab": {
          "base_uri": "https://localhost:8080/",
          "height": 547
        },
        "outputId": "e82857fd-122d-41c6-830d-ffdb2e0b5745"
      },
      "source": [
        "!nvidia-smi\n",
        "model_gane=[]\n",
        "gane_number=[0,16,32,64,128,256,512,1024]\n",
        "gane_in = [2, 2, 3, 2, 5, 2, 3, 5, 3, 0, 6, 1, 6]\n",
        "for i in gane_in:\n",
        "    if gane_number[i]!=0:\n",
        "        model_gane.append(gane_number[i])\n",
        "\n",
        "net: torch.nn.Module = CreateVGG_2(model_gane)\n",
        "device = torch.device('cuda:0')\n",
        "net.to(device)\n",
        "\n",
        "param = torch.load('/content/gdrive/My Drive/コード/ランダムモデルの蒸留学習/GPU評価/VGG_最適モデル_soft_025-075_2.pth')\n",
        "net.load_state_dict(param)\n",
        "loader = load_cifar10()\n",
        "\n",
        "\n",
        "\n",
        "saiteki_3_speed_list = []\n",
        "saiteki_3_accuracy_list = []\n",
        "\n",
        "saiteki_3_speed = 0\n",
        "correct = 0\n",
        "saiteki_3_accuracy = 0\n",
        "\n",
        "\n",
        "for i in range(20):\n",
        "    correct = 0\n",
        "    t1 = time.time()\n",
        "    with torch.no_grad():\n",
        "        for images, labels in loader['test']:\n",
        "            images = images.to(device) \n",
        "            labels = labels.to(device)\n",
        "            outputs = net(images,1)\n",
        "            _, predicted = torch.max(outputs.data, 1)\n",
        "            correct += (predicted == labels).sum().item()\n",
        "    t2 = time.time()\n",
        "\n",
        "    saiteki_3_speed_list.append(t2-t1)\n",
        "    saiteki_3_accuracy_list.append(correct/10000)\n",
        "\n",
        "saiteki_3_speed = sum(saiteki_3_speed_list)/len(saiteki_3_speed_list)\n",
        "saiteki_3_accuracy = sum(saiteki_3_accuracy_list)/len(saiteki_3_accuracy_list)\n",
        "print(saiteki_3_speed_list)\n",
        "print(saiteki_3_accuracy_list)\n",
        "print(speed_acc_normalization(Tnet_speed,0,saiteki_3_speed,Tnet_accuracy,0,saiteki_3_accuracy))"
      ],
      "execution_count": 34,
      "outputs": [
        {
          "output_type": "stream",
          "text": [
            "Sun Jul 12 23:50:37 2020       \n",
            "+-----------------------------------------------------------------------------+\n",
            "| NVIDIA-SMI 450.36.06    Driver Version: 418.67       CUDA Version: 10.1     |\n",
            "|-------------------------------+----------------------+----------------------+\n",
            "| GPU  Name        Persistence-M| Bus-Id        Disp.A | Volatile Uncorr. ECC |\n",
            "| Fan  Temp  Perf  Pwr:Usage/Cap|         Memory-Usage | GPU-Util  Compute M. |\n",
            "|                               |                      |               MIG M. |\n",
            "|===============================+======================+======================|\n",
            "|   0  Tesla T4            Off  | 00000000:00:04.0 Off |                    0 |\n",
            "| N/A   73C    P0    33W /  70W |   2533MiB / 15079MiB |      0%      Default |\n",
            "|                               |                      |                 ERR! |\n",
            "+-------------------------------+----------------------+----------------------+\n",
            "                                                                               \n",
            "+-----------------------------------------------------------------------------+\n",
            "| Processes:                                                                  |\n",
            "|  GPU   GI   CI        PID   Type   Process name                  GPU Memory |\n",
            "|        ID   ID                                                   Usage      |\n",
            "|=============================================================================|\n",
            "|  No running processes found                                                 |\n",
            "+-----------------------------------------------------------------------------+\n",
            "Files already downloaded and verified\n",
            "Files already downloaded and verified\n",
            "[2.5809614658355713, 2.5640597343444824, 2.5677754878997803, 2.557180166244507, 2.57312273979187, 2.558875799179077, 2.568321466445923, 2.55739688873291, 2.573075294494629, 2.5258212089538574, 2.5439536571502686, 2.5511021614074707, 2.577611207962036, 2.544367790222168, 2.528575897216797, 2.523829221725464, 2.5422964096069336, 2.537548065185547, 2.5624871253967285, 2.5383918285369873]\n",
            "[0.8398, 0.8398, 0.8398, 0.8398, 0.8398, 0.8398, 0.8398, 0.8398, 0.8398, 0.8398, 0.8398, 0.8398, 0.8398, 0.8398, 0.8398, 0.8398, 0.8398, 0.8398, 0.8398, 0.8398]\n",
            "--------------------------------------------------------------------------------\n",
            "速度:2.5538376808166503 ,精度:0.8398000000000001\n",
            "速度評価値:0.23739681477470495 ,精度評価値:0.48720209778850393\n",
            "評価指標:0.7245989125632089\n",
            "--------------------------------------------------------------------------------\n",
            "0.7245989125632089\n"
          ],
          "name": "stdout"
        }
      ]
    },
    {
      "cell_type": "markdown",
      "metadata": {
        "id": "jrKoFD4_-gsn",
        "colab_type": "text"
      },
      "source": [
        "# **フィルム数1/2モデル**\n",
        "## [2, 2, 3, 3, 4, 4, 4, 5, 5, 5, 5 ,5, 5]"
      ]
    },
    {
      "cell_type": "code",
      "metadata": {
        "id": "EXoCLZgC-gx1",
        "colab_type": "code",
        "colab": {
          "base_uri": "https://localhost:8080/",
          "height": 547
        },
        "outputId": "e0dd2d09-66ea-4c69-9c0c-2ff9389962d2"
      },
      "source": [
        "!nvidia-smi\n",
        "model_gane=[]\n",
        "gane_number=[0,16,32,64,128,256,512,1024]\n",
        "gane_in = [2, 2, 3, 3, 4, 4, 4, 5, 5, 5, 5 ,5, 5]\n",
        "for i in gane_in:\n",
        "    if gane_number[i]!=0:\n",
        "        model_gane.append(gane_number[i])\n",
        "\n",
        "net: torch.nn.Module = CreateVGG_2(model_gane)\n",
        "device = torch.device('cuda:0')\n",
        "net.to(device)\n",
        "\n",
        "param = torch.load('/content/gdrive/My Drive/コード/ランダムモデルの蒸留学習/GPU評価/半フィルモデル.pth')\n",
        "net.load_state_dict(param)\n",
        "loader = load_cifar10()\n",
        "\n",
        "\n",
        "\n",
        "han_speed_list = []\n",
        "han_accuracy_list = []\n",
        "\n",
        "han_speed = 0\n",
        "correct = 0\n",
        "han_accuracy = 0\n",
        "for i in range(20):\n",
        "    correct = 0\n",
        "    t1 = time.time()\n",
        "    with torch.no_grad():\n",
        "        for images, labels in loader['test']:\n",
        "            images = images.to(device) \n",
        "            labels = labels.to(device)\n",
        "            outputs = net(images,1)\n",
        "            _, predicted = torch.max(outputs.data, 1)\n",
        "            correct += (predicted == labels).sum().item()\n",
        "    t2 = time.time()\n",
        "\n",
        "    han_speed_list.append(t2-t1)\n",
        "    han_accuracy_list.append(correct/10000)\n",
        "\n",
        "han_speed = sum(han_speed_list)/len(han_speed_list)\n",
        "han_accuracy = sum(han_accuracy_list)/len(han_accuracy_list)\n",
        "print(han_speed_list)\n",
        "print(han_accuracy_list)\n",
        "print(speed_acc_normalization(Tnet_speed,0,han_speed,Tnet_accuracy,0,han_accuracy))"
      ],
      "execution_count": 24,
      "outputs": [
        {
          "output_type": "stream",
          "text": [
            "Sun Jul 12 22:51:08 2020       \n",
            "+-----------------------------------------------------------------------------+\n",
            "| NVIDIA-SMI 450.36.06    Driver Version: 418.67       CUDA Version: 10.1     |\n",
            "|-------------------------------+----------------------+----------------------+\n",
            "| GPU  Name        Persistence-M| Bus-Id        Disp.A | Volatile Uncorr. ECC |\n",
            "| Fan  Temp  Perf  Pwr:Usage/Cap|         Memory-Usage | GPU-Util  Compute M. |\n",
            "|                               |                      |               MIG M. |\n",
            "|===============================+======================+======================|\n",
            "|   0  Tesla T4            Off  | 00000000:00:04.0 Off |                    0 |\n",
            "| N/A   77C    P0    34W /  70W |   1325MiB / 15079MiB |      0%      Default |\n",
            "|                               |                      |                 ERR! |\n",
            "+-------------------------------+----------------------+----------------------+\n",
            "                                                                               \n",
            "+-----------------------------------------------------------------------------+\n",
            "| Processes:                                                                  |\n",
            "|  GPU   GI   CI        PID   Type   Process name                  GPU Memory |\n",
            "|        ID   ID                                                   Usage      |\n",
            "|=============================================================================|\n",
            "|  No running processes found                                                 |\n",
            "+-----------------------------------------------------------------------------+\n",
            "Files already downloaded and verified\n",
            "Files already downloaded and verified\n",
            "[2.7261056900024414, 2.6761443614959717, 2.667447090148926, 2.66342830657959, 2.665782928466797, 2.7140750885009766, 2.7369208335876465, 2.6878976821899414, 2.7177720069885254, 2.662214756011963, 2.6885201930999756, 2.7163662910461426, 2.6897404193878174, 2.6445136070251465, 2.643239974975586, 2.632341146469116, 2.6311824321746826, 2.644904613494873, 2.65354323387146, 2.7028615474700928]\n",
            "[0.8573, 0.8573, 0.8573, 0.8573, 0.8573, 0.8573, 0.8573, 0.8573, 0.8573, 0.8573, 0.8573, 0.8573, 0.8573, 0.8573, 0.8573, 0.8573, 0.8573, 0.8573, 0.8573, 0.8573]\n",
            "--------------------------------------------------------------------------------\n",
            "速度:2.6782501101493836 ,精度:0.8573000000000002\n",
            "速度評価値:0.2163707445308544 ,精度評価値:0.49735455874503987\n",
            "評価指標:0.7137253032758942\n",
            "--------------------------------------------------------------------------------\n",
            "0.7137253032758942\n"
          ],
          "name": "stdout"
        }
      ]
    },
    {
      "cell_type": "markdown",
      "metadata": {
        "id": "X6eTATKq-g36",
        "colab_type": "text"
      },
      "source": [
        "# **ランダムモデル①**\n",
        "## [5, 2, 2, 3, 4, 2, 6, 0, 6, 1, 3, 1, 1]"
      ]
    },
    {
      "cell_type": "code",
      "metadata": {
        "id": "MXW45nff-g8K",
        "colab_type": "code",
        "colab": {
          "base_uri": "https://localhost:8080/",
          "height": 547
        },
        "outputId": "a5e66056-3c65-40e1-ce21-4b255a3681a7"
      },
      "source": [
        "!nvidia-smi\n",
        "model_gane=[]\n",
        "gane_number=[0,16,32,64,128,256,512,1024]\n",
        "gane_in = [5, 2, 2, 3, 4, 2, 6, 0, 6, 1, 3, 1, 1]\n",
        "for i in gane_in:\n",
        "    if gane_number[i]!=0:\n",
        "        model_gane.append(gane_number[i])\n",
        "\n",
        "net: torch.nn.Module = CreateVGG_2(model_gane)\n",
        "device = torch.device('cuda:0')\n",
        "net.to(device)\n",
        "\n",
        "param = torch.load('/content/gdrive/My Drive/コード/ランダムモデルの蒸留学習/GPU評価/ランダムモデル①.pth')\n",
        "net.load_state_dict(param)\n",
        "loader = load_cifar10()\n",
        "\n",
        "\n",
        "randam_1_speed_list = []\n",
        "randam_1_accuracy_list = []\n",
        "\n",
        "randam_1_speed = 0\n",
        "correct = 0\n",
        "randam_1_accuracy = 0\n",
        "for i in range(20):\n",
        "    correct = 0\n",
        "    t1 = time.time()\n",
        "    with torch.no_grad():\n",
        "        for images, labels in loader['test']:\n",
        "            images = images.to(device) \n",
        "            labels = labels.to(device)\n",
        "            outputs = net(images,1)\n",
        "            _, predicted = torch.max(outputs.data, 1)\n",
        "            correct += (predicted == labels).sum().item()\n",
        "    t2 = time.time()\n",
        "\n",
        "    randam_1_speed_list.append(t2-t1)\n",
        "    randam_1_accuracy_list.append(correct/10000)\n",
        "\n",
        "randam_1_speed = sum(randam_1_speed_list)/len(randam_1_speed_list)\n",
        "randam_1_accuracy = sum(randam_1_accuracy_list)/len(randam_1_accuracy_list)\n",
        "print(randam_1_speed_list)\n",
        "print(randam_1_accuracy_list)\n",
        "print(speed_acc_normalization(Tnet_speed,0,randam_1_speed,Tnet_accuracy,0,randam_1_accuracy))"
      ],
      "execution_count": 27,
      "outputs": [
        {
          "output_type": "stream",
          "text": [
            "Sun Jul 12 22:56:11 2020       \n",
            "+-----------------------------------------------------------------------------+\n",
            "| NVIDIA-SMI 450.36.06    Driver Version: 418.67       CUDA Version: 10.1     |\n",
            "|-------------------------------+----------------------+----------------------+\n",
            "| GPU  Name        Persistence-M| Bus-Id        Disp.A | Volatile Uncorr. ECC |\n",
            "| Fan  Temp  Perf  Pwr:Usage/Cap|         Memory-Usage | GPU-Util  Compute M. |\n",
            "|                               |                      |               MIG M. |\n",
            "|===============================+======================+======================|\n",
            "|   0  Tesla T4            Off  | 00000000:00:04.0 Off |                    0 |\n",
            "| N/A   75C    P0    33W /  70W |   1325MiB / 15079MiB |      0%      Default |\n",
            "|                               |                      |                 ERR! |\n",
            "+-------------------------------+----------------------+----------------------+\n",
            "                                                                               \n",
            "+-----------------------------------------------------------------------------+\n",
            "| Processes:                                                                  |\n",
            "|  GPU   GI   CI        PID   Type   Process name                  GPU Memory |\n",
            "|        ID   ID                                                   Usage      |\n",
            "|=============================================================================|\n",
            "|  No running processes found                                                 |\n",
            "+-----------------------------------------------------------------------------+\n",
            "Files already downloaded and verified\n",
            "Files already downloaded and verified\n",
            "[3.1609015464782715, 3.110001564025879, 3.097011089324951, 3.0952415466308594, 3.1500651836395264, 3.1370275020599365, 3.1390910148620605, 3.108820676803589, 3.1155929565429688, 3.096158981323242, 3.101320743560791, 3.1073687076568604, 3.0930583477020264, 3.102806329727173, 3.1160011291503906, 3.1128649711608887, 3.1120033264160156, 3.1311275959014893, 3.0790462493896484, 3.0990400314331055]\n",
            "[0.8494, 0.8494, 0.8494, 0.8494, 0.8494, 0.8494, 0.8494, 0.8494, 0.8494, 0.8494, 0.8494, 0.8494, 0.8494, 0.8494, 0.8494, 0.8494, 0.8494, 0.8494, 0.8494, 0.8494]\n",
            "--------------------------------------------------------------------------------\n",
            "速度:3.1132274746894835 ,精度:0.8493999999999996\n",
            "速度評価値:0 ,精度評価値:0.4927714477989462\n",
            "評価指標:0.4927714477989462\n",
            "--------------------------------------------------------------------------------\n",
            "0.4927714477989462\n"
          ],
          "name": "stdout"
        }
      ]
    },
    {
      "cell_type": "markdown",
      "metadata": {
        "id": "1E2Bj5erATmu",
        "colab_type": "text"
      },
      "source": [
        "# **ランダムモデル②**\n",
        "## [3, 2, 5, 1, 3, 1, 3, 6, 3, 2, 3, 5, 3]"
      ]
    },
    {
      "cell_type": "code",
      "metadata": {
        "id": "MGvUePAtATs7",
        "colab_type": "code",
        "colab": {
          "base_uri": "https://localhost:8080/",
          "height": 547
        },
        "outputId": "6ca121e6-c7e8-4f72-9212-4e9b81d6de1b"
      },
      "source": [
        "!nvidia-smi\n",
        "model_gane=[]\n",
        "gane_number=[0,16,32,64,128,256,512,1024]\n",
        "gane_in = [3, 2, 5, 1, 3, 1, 3, 6, 3, 2, 3, 5, 3]\n",
        "for i in gane_in:\n",
        "    if gane_number[i]!=0:\n",
        "        model_gane.append(gane_number[i])\n",
        "\n",
        "net: torch.nn.Module = CreateVGG_2(model_gane)\n",
        "device = torch.device('cuda:0')\n",
        "net.to(device)\n",
        "\n",
        "param = torch.load('/content/gdrive/My Drive/コード/ランダムモデルの蒸留学習/GPU評価/ランダムモデル②.pth')\n",
        "net.load_state_dict(param)\n",
        "loader = load_cifar10()\n",
        "\n",
        "\n",
        "randam_2_speed_list = []\n",
        "randam_2_accuracy_list = []\n",
        "\n",
        "randam_2_speed = 0\n",
        "correct = 0\n",
        "randam_2_accuracy = 0\n",
        "for i in range(20):\n",
        "    correct = 0\n",
        "    t1 = time.time()\n",
        "    with torch.no_grad():\n",
        "        for images, labels in loader['test']:\n",
        "            images = images.to(device) \n",
        "            labels = labels.to(device)\n",
        "            outputs = net(images,1)\n",
        "            _, predicted = torch.max(outputs.data, 1)\n",
        "            correct += (predicted == labels).sum().item()\n",
        "    t2 = time.time()\n",
        "\n",
        "    randam_2_speed_list.append(t2-t1)\n",
        "    randam_2_accuracy_list.append(correct/10000)\n",
        "\n",
        "randam_2_speed = sum(randam_2_speed_list)/len(randam_2_speed_list)\n",
        "randam_2_accuracy = sum(randam_2_accuracy_list)/len(randam_2_accuracy_list)\n",
        "print(randam_2_speed_list)\n",
        "print(randam_2_accuracy_list)\n",
        "print(speed_acc_normalization(Tnet_speed,0,randam_2_speed,Tnet_accuracy,0,randam_2_accuracy))"
      ],
      "execution_count": 29,
      "outputs": [
        {
          "output_type": "stream",
          "text": [
            "Sun Jul 12 22:58:54 2020       \n",
            "+-----------------------------------------------------------------------------+\n",
            "| NVIDIA-SMI 450.36.06    Driver Version: 418.67       CUDA Version: 10.1     |\n",
            "|-------------------------------+----------------------+----------------------+\n",
            "| GPU  Name        Persistence-M| Bus-Id        Disp.A | Volatile Uncorr. ECC |\n",
            "| Fan  Temp  Perf  Pwr:Usage/Cap|         Memory-Usage | GPU-Util  Compute M. |\n",
            "|                               |                      |               MIG M. |\n",
            "|===============================+======================+======================|\n",
            "|   0  Tesla T4            Off  | 00000000:00:04.0 Off |                    0 |\n",
            "| N/A   72C    P0    32W /  70W |   1949MiB / 15079MiB |      0%      Default |\n",
            "|                               |                      |                 ERR! |\n",
            "+-------------------------------+----------------------+----------------------+\n",
            "                                                                               \n",
            "+-----------------------------------------------------------------------------+\n",
            "| Processes:                                                                  |\n",
            "|  GPU   GI   CI        PID   Type   Process name                  GPU Memory |\n",
            "|        ID   ID                                                   Usage      |\n",
            "|=============================================================================|\n",
            "|  No running processes found                                                 |\n",
            "+-----------------------------------------------------------------------------+\n",
            "Files already downloaded and verified\n",
            "Files already downloaded and verified\n",
            "[2.650904893875122, 2.5988612174987793, 2.5966954231262207, 2.6466152667999268, 2.6131527423858643, 2.618191957473755, 2.5900847911834717, 2.607903003692627, 2.6311652660369873, 2.634683132171631, 2.6270906925201416, 2.6095237731933594, 2.6216180324554443, 2.60609769821167, 2.612482786178589, 2.590977907180786, 2.6302528381347656, 2.6126534938812256, 2.6056301593780518, 2.6253018379211426]\n",
            "[0.8305, 0.8305, 0.8305, 0.8305, 0.8305, 0.8305, 0.8305, 0.8305, 0.8305, 0.8305, 0.8305, 0.8305, 0.8305, 0.8305, 0.8305, 0.8305, 0.8305, 0.8305, 0.8305, 0.8305]\n",
            "--------------------------------------------------------------------------------\n",
            "速度:2.616494345664978 ,精度:0.8305000000000003\n",
            "速度評価値:0.22680765223353336 ,精度評価値:0.4818067899658879\n",
            "評価指標:0.7086144421994213\n",
            "--------------------------------------------------------------------------------\n",
            "0.7086144421994213\n"
          ],
          "name": "stdout"
        }
      ]
    },
    {
      "cell_type": "code",
      "metadata": {
        "id": "m9O3ks6ehYgH",
        "colab_type": "code",
        "colab": {}
      },
      "source": [
        ""
      ],
      "execution_count": null,
      "outputs": []
    }
  ]
}