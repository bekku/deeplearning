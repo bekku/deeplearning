{
  "nbformat": 4,
  "nbformat_minor": 0,
  "metadata": {
    "colab": {
      "name": "2020-6月2周目-温度付きsoftmaxによる蒸留実験.ipynb",
      "provenance": [],
      "collapsed_sections": [],
      "mount_file_id": "1Rfwpgkh2-CADJgA2MXNQjImxdlIa6A44",
      "authorship_tag": "ABX9TyPx8imsSyuPXymapKSUc8fc",
      "include_colab_link": true
    },
    "kernelspec": {
      "name": "python3",
      "display_name": "Python 3"
    },
    "accelerator": "GPU"
  },
  "cells": [
    {
      "cell_type": "markdown",
      "metadata": {
        "id": "view-in-github",
        "colab_type": "text"
      },
      "source": [
        "<a href=\"https://colab.research.google.com/github/bekku/deeplearning/blob/master/2020_6%E6%9C%882%E5%91%A8%E7%9B%AE_%E6%B8%A9%E5%BA%A6%E4%BB%98%E3%81%8Dsoftmax%E3%81%AB%E3%82%88%E3%82%8B%E8%92%B8%E7%95%99%E5%AE%9F%E9%A8%93.ipynb\" target=\"_parent\"><img src=\"https://colab.research.google.com/assets/colab-badge.svg\" alt=\"Open In Colab\"/></a>"
      ]
    },
    {
      "cell_type": "markdown",
      "metadata": {
        "id": "sSgZlDW7LHXB",
        "colab_type": "text"
      },
      "source": [
        "**ドライブとの連携**"
      ]
    },
    {
      "cell_type": "code",
      "metadata": {
        "id": "l7HZ--ubJThS",
        "colab_type": "code",
        "colab": {
          "base_uri": "https://localhost:8080/",
          "height": 34
        },
        "outputId": "2b6e38ef-bc7c-43c6-adfe-f16e437459ca"
      },
      "source": [
        "from google.colab import drive #インポート\n",
        "drive.mount('/content/gdrive') #GoogleDriveのマウント"
      ],
      "execution_count": 12,
      "outputs": [
        {
          "output_type": "stream",
          "text": [
            "Mounted at /content/gdrive\n"
          ],
          "name": "stdout"
        }
      ]
    },
    {
      "cell_type": "markdown",
      "metadata": {
        "id": "FWYI8fWGS0y7",
        "colab_type": "text"
      },
      "source": [
        "**インポート**"
      ]
    },
    {
      "cell_type": "code",
      "metadata": {
        "id": "rJ8YuSTRKph4",
        "colab_type": "code",
        "colab": {}
      },
      "source": [
        "import torch\n",
        "import torch.nn.functional as f\n",
        "from torch.utils.data import DataLoader\n",
        "from torchvision import datasets, transforms\n",
        "import matplotlib.pyplot as plt\n",
        "import numpy as np\n",
        "from torch.autograd import Function"
      ],
      "execution_count": 0,
      "outputs": []
    },
    {
      "cell_type": "markdown",
      "metadata": {
        "id": "i9Q3Ey6LS4PS",
        "colab_type": "text"
      },
      "source": [
        "**GPU確認**"
      ]
    },
    {
      "cell_type": "code",
      "metadata": {
        "id": "dEDw1lboOMoQ",
        "colab_type": "code",
        "colab": {
          "base_uri": "https://localhost:8080/",
          "height": 34
        },
        "outputId": "09af69a4-fa77-41ba-9852-e3adb81db9a1"
      },
      "source": [
        "torch.cuda.is_available()"
      ],
      "execution_count": 14,
      "outputs": [
        {
          "output_type": "execute_result",
          "data": {
            "text/plain": [
              "True"
            ]
          },
          "metadata": {
            "tags": []
          },
          "execution_count": 14
        }
      ]
    },
    {
      "cell_type": "markdown",
      "metadata": {
        "id": "t47vnEHsL228",
        "colab_type": "text"
      },
      "source": [
        "**cifarロード**"
      ]
    },
    {
      "cell_type": "code",
      "metadata": {
        "id": "a5pqGtAFL1Jo",
        "colab_type": "code",
        "colab": {}
      },
      "source": [
        "def load_cifar10(batch=128):\n",
        "    train_loader = DataLoader(\n",
        "        datasets.CIFAR10('./data',\n",
        "                         train=True,\n",
        "                         download=True,\n",
        "                         transform=transforms.Compose([\n",
        "                             transforms.ToTensor(),\n",
        "                             transforms.Normalize(\n",
        "                                [0.5, 0.5, 0.5],  # RGB 平均\n",
        "                                [0.5, 0.5, 0.5]   # RGB 標準偏差\n",
        "                                )\n",
        "                         ])),\n",
        "        batch_size=batch,\n",
        "        shuffle=True\n",
        "    )\n",
        "\n",
        "    test_loader = DataLoader(\n",
        "        datasets.CIFAR10('./data',\n",
        "                         train=False,\n",
        "                         download=True,\n",
        "                         transform=transforms.Compose([\n",
        "                             transforms.ToTensor(),\n",
        "                             transforms.Normalize(\n",
        "                                 [0.5, 0.5, 0.5],  # RGB 平均\n",
        "                                 [0.5, 0.5, 0.5]  # RGB 標準偏差\n",
        "                             )\n",
        "                         ])),\n",
        "        batch_size=batch,\n",
        "    )\n",
        "\n",
        "    return {'train': train_loader, 'test': test_loader}"
      ],
      "execution_count": 0,
      "outputs": []
    },
    {
      "cell_type": "markdown",
      "metadata": {
        "id": "juJ0cQwhS9wD",
        "colab_type": "text"
      },
      "source": [
        "**教師モデルの定義**"
      ]
    },
    {
      "cell_type": "code",
      "metadata": {
        "id": "Ldm-K21LLV5r",
        "colab_type": "code",
        "colab": {}
      },
      "source": [
        "class CNN(torch.nn.Module):\n",
        "    def __init__(self):\n",
        "        super(CNN, self).__init__()\n",
        "#         self.conv1 = torch.nn.Conv2d(3,  # チャネル入力\n",
        "#                                      6,  # チャンネル出力\n",
        "#                                      5,  # カーネルサイズ\n",
        "#                                      1,  # ストライド (デフォルトは1)\n",
        "#                                      0,  # パディング (デフォルトは0)\n",
        "#                                      )\n",
        "        self.conv1 = torch.nn.Conv2d(3, 32, 3, 1, 0)\n",
        "        self.conv2 = torch.nn.Conv2d(32, 32, 3)\n",
        "        self.conv3 = torch.nn.Conv2d(32, 64, 3)\n",
        "        self.conv4 = torch.nn.Conv2d(64, 64, 3)\n",
        "        \n",
        "        self.dropout1 = torch.nn.Dropout2d(p=0.25)\n",
        "        self.dropout2 = torch.nn.Dropout2d(p=0.5)\n",
        "\n",
        "        self.pool = torch.nn.MaxPool2d(2, 2) \n",
        "\n",
        "        self.fc1 = torch.nn.Linear(64 * 5 * 5, 512)\n",
        "        self.fc2 = torch.nn.Linear(512, 10)\n",
        "\n",
        "    def forward(self, x):\n",
        "        x = f.relu(self.conv1(x))\n",
        "        x = f.relu(self.conv2(x))\n",
        "        x = self.pool(x)\n",
        "        x = self.dropout1(x)\n",
        "        \n",
        "        x = f.relu(self.conv3(x))\n",
        "        x = f.relu(self.conv4(x))\n",
        "        x = self.pool(x)\n",
        "        x = self.dropout1(x)\n",
        "        x = x.view(-1, 64 * 5 * 5)\n",
        "        x = f.relu(self.fc1(x))\n",
        "        x = self.dropout2(x)\n",
        "        x = self.fc2(x)\n",
        "\n",
        "        return  f.log_softmax(x)"
      ],
      "execution_count": 0,
      "outputs": []
    },
    {
      "cell_type": "markdown",
      "metadata": {
        "id": "8815yWDuls-d",
        "colab_type": "text"
      },
      "source": [
        "教師モデルの学習はT=1で問題ない？\n",
        "蒸留モデル作成時に教師モデルを推論するときに温度を上げ強調するという形でよいのだろうか。"
      ]
    },
    {
      "cell_type": "code",
      "metadata": {
        "id": "VPqS_ThKLxWW",
        "colab_type": "code",
        "colab": {}
      },
      "source": [
        "if __name__ == '__main__':\n",
        "    epoch = 130\n",
        "    loader = load_cifar10()\n",
        "\n",
        "    net: CNN = CNN()\n",
        "    criterion = torch.nn.CrossEntropyLoss() \n",
        "    optimizer = torch.optim.SGD(params=net.parameters(), lr=0.001, momentum=0.9)\n",
        "    device = torch.device('cuda:0' if torch.cuda.is_available() else 'cpu')\n",
        "    net.to(device)\n",
        "\n",
        "    history = {\n",
        "        'train_loss': [],\n",
        "        'train_acc': [],\n",
        "        'test_acc': []\n",
        "    }\n",
        "\n",
        "    for e in range(epoch):\n",
        "        \n",
        "        ################################### 学習 #################################\n",
        "        \n",
        "        net.train()\n",
        "        loss = None\n",
        "        for i, (images, labels) in enumerate(loader['train']):\n",
        "            images = images.to(device) \n",
        "            labels = labels.to(device)\n",
        "\n",
        "            optimizer.zero_grad()\n",
        "            output = net(images)\n",
        "            loss = criterion(output, labels)\n",
        "            loss.backward()\n",
        "            optimizer.step()\n",
        "\n",
        "        history['train_loss'].append(loss.item())\n",
        "        print('Training log: {} epoch：Loss: {}'.format(e + 1,loss.item()))\n",
        "               ################################### 推論 #################################\n",
        "              \n",
        "        net.eval()\n",
        "        correct = 0\n",
        "        with torch.no_grad():\n",
        "            for i, (images, labels) in enumerate(loader['train']):\n",
        "                images = images.to(device) \n",
        "                labels = labels.to(device)\n",
        "                outputs = net(images)\n",
        "                _, predicted = torch.max(outputs.data, 1)\n",
        "                correct += (predicted == labels).sum().item()\n",
        "\n",
        "        acc = float(correct / 50000)\n",
        "        print('train accuracy:{}'.format(acc))\n",
        "        history['train_acc'].append(acc)\n",
        "\n",
        "        correct = 0\n",
        "        with torch.no_grad():\n",
        "            for i, (images, labels) in enumerate(loader['test']):\n",
        "                images = images.to(device)\n",
        "                labels = labels.to(device)\n",
        "                outputs = net(images)\n",
        "                _, predicted = torch.max(outputs.data, 1)\n",
        "                correct += (predicted == labels).sum().item()\n",
        "\n",
        "        acc = float(correct / 10000)\n",
        "        print('test accuracy:{}'.format(acc))\n",
        "        history['test_acc'].append(acc)\n",
        "        \n",
        "    #====== 保存 =======\n",
        "    path = \"/content/gdrive/My Drive/コード/teacher_model_weight.pth\" # 保存先pathの設定\n",
        "    torch.save(net.state_dict(), path) # 保存\n",
        "\n",
        "    # 結果をプロット\n",
        "    plt.figure()\n",
        "    plt.plot(range(1, epoch+1), history['train_loss'])\n",
        "    plt.title('Training Loss [CIFAR10]')\n",
        "    plt.xlabel('epoch')\n",
        "    plt.ylabel('loss')\n",
        "    plt.savefig('cifar10_loss.png')\n",
        "    \n",
        "    \n",
        "    plt.figure()\n",
        "    plt.plot(range(1, epoch + 1), history['train_acc'], label='train_acc')\n",
        "    plt.plot(range(1, epoch + 1), history['test_acc'], label='test_acc')\n",
        "    plt.title('Accuracies [CIFAR10]')\n",
        "    plt.xlabel('epoch')\n",
        "    plt.ylabel('accuracy')\n",
        "    plt.legend()\n",
        "    plt.savefig('cifar10_acc.png')"
      ],
      "execution_count": 0,
      "outputs": []
    },
    {
      "cell_type": "markdown",
      "metadata": {
        "id": "62yDa-2nnjpc",
        "colab_type": "text"
      },
      "source": [
        "**温度付きSoftmaxは、蒸留モデル作成時の損失計算時に用いられるため。既に作成されたモデルのTをいじるという考え方で正しいと認識**"
      ]
    },
    {
      "cell_type": "code",
      "metadata": {
        "id": "6ZzVILsXM3Wm",
        "colab_type": "code",
        "colab": {}
      },
      "source": [
        "#####ドロップアウトを除いた推論用モデル#######\n",
        "#ここで温度を変更して、softターゲットとする。\n",
        "\n",
        "\n",
        "class T_CNN(torch.nn.Module):\n",
        "    def __init__(self):\n",
        "        super(T_CNN, self).__init__()\n",
        "\n",
        "        self.conv1 = torch.nn.Conv2d(3, 32, 3, 1, 0)\n",
        "        self.conv2 = torch.nn.Conv2d(32, 32, 3)\n",
        "        self.conv3 = torch.nn.Conv2d(32, 64, 3)\n",
        "        self.conv4 = torch.nn.Conv2d(64, 64, 3)\n",
        "        \n",
        "        self.dropout1 = torch.nn.Dropout2d(p=0.25)\n",
        "        self.dropout2 = torch.nn.Dropout2d(p=0.5)\n",
        "\n",
        "        self.pool = torch.nn.MaxPool2d(2, 2)\n",
        "\n",
        "        self.fc1 = torch.nn.Linear(64 * 5 * 5, 512) \n",
        "        self.fc2 = torch.nn.Linear(512, 10)\n",
        "\n",
        "    def forward(self, x, T):\n",
        "        x = f.relu(self.conv1(x))\n",
        "        x = f.relu(self.conv2(x))\n",
        "        x = self.pool(x)\n",
        "        \n",
        "        x = f.relu(self.conv3(x))\n",
        "        x = f.relu(self.conv4(x))\n",
        "        x = self.pool(x)\n",
        "        x = x.view(-1, 64 * 5 * 5)\n",
        "        x = f.relu(self.fc1(x))\n",
        "        x = self.fc2(x)\n",
        "        x = x/T\n",
        "\n",
        "        return f.softmax(x)\n",
        "\n",
        "class MyNet(torch.nn.Module):\n",
        "    def __init__(self):\n",
        "        super(MyNet, self).__init__()\n",
        "        self.fc1 = torch.nn.Linear(32 * 32 * 3, 1024)\n",
        "        self.fc2 = torch.nn.Linear(1024, 10)\n",
        "\n",
        "    def forward(self, x, T):\n",
        "        x = f.relu(self.fc1(x))\n",
        "        x = self.fc2(x)\n",
        "        x = x/T\n",
        "        return f.log_softmax(x)"
      ],
      "execution_count": 0,
      "outputs": []
    },
    {
      "cell_type": "markdown",
      "metadata": {
        "id": "6CxYiGtDkbIK",
        "colab_type": "text"
      },
      "source": [
        "**教師モデルと生徒モデルのcross_entropyの損失関数の定義**"
      ]
    },
    {
      "cell_type": "code",
      "metadata": {
        "id": "zAABDZo7OuPm",
        "colab_type": "code",
        "colab": {}
      },
      "source": [
        "class T_S_Closs_entropy(torch.nn.Module):\n",
        "    def __init__(self):\n",
        "        super(T_S_Closs_entropy, self).__init__()\n",
        "\n",
        "    def forward(self, p, q):\n",
        "        #pが教師モデル、qが生徒モデルの出力値(既に対数化してます)です。\n",
        "        # c = torch.max(q)\n",
        "        loss = p*q\n",
        "        loss = torch.sum(loss)\n",
        "        loss*=-1\n",
        "        return loss\n",
        "\n",
        "\n",
        "# class LossFunction(nn.Module):\n",
        "#     def __init__(self):\n",
        "#       super(LossFunction, self).__init__()\n",
        "#     def forward(self, inputs, targets):\n",
        "#       loss = function(inputs, targets)\n",
        "#       return loss\n",
        "\n",
        "#softmaxの出力に0が含まれることで、logがnanを出していた。\n",
        "#Pytorchでsoftmax -> logとする場合は、torch.nn.functional.log_softmaxを使うことで、nanを防ぐことができる。\n",
        "\n",
        "#つまり今回の場合、生徒モデルが対数を取ることとなっていたので蒸留される生徒モデルにのみlog_softmaxを使う。"
      ],
      "execution_count": 0,
      "outputs": []
    },
    {
      "cell_type": "markdown",
      "metadata": {
        "id": "q4fGtuc6CLQx",
        "colab_type": "text"
      },
      "source": [
        "**保存した教師モデルの読み込み**"
      ]
    },
    {
      "cell_type": "code",
      "metadata": {
        "id": "AxPoqoiQOuWb",
        "colab_type": "code",
        "colab": {
          "base_uri": "https://localhost:8080/",
          "height": 34
        },
        "outputId": "fe2e0578-27e4-43df-c5c6-21bdc8a41e19"
      },
      "source": [
        "Tnet: T_CNN = T_CNN()\n",
        "    \n",
        "# 保存したモデルのパラメータ\n",
        "param = torch.load('/content/gdrive/My Drive/コード/teacher_model_weight.pth')\n",
        "\n",
        "# 保存したモデルにパラメータを当てはめる\n",
        "Tnet.load_state_dict(param)"
      ],
      "execution_count": 20,
      "outputs": [
        {
          "output_type": "execute_result",
          "data": {
            "text/plain": [
              "<All keys matched successfully>"
            ]
          },
          "metadata": {
            "tags": []
          },
          "execution_count": 20
        }
      ]
    },
    {
      "cell_type": "markdown",
      "metadata": {
        "id": "bSCuOVQ_HIh4",
        "colab_type": "text"
      },
      "source": [
        "**教師モデルの精度と速度の確認(動かしたいならGPU解除しような)**"
      ]
    },
    {
      "cell_type": "code",
      "metadata": {
        "id": "AZl4lZ7iHHfs",
        "colab_type": "code",
        "colab": {
          "base_uri": "https://localhost:8080/",
          "height": 122
        },
        "outputId": "edb5a5ca-b905-4e0e-80f3-104e1b6dd14b"
      },
      "source": [
        "import time\n",
        "loader = load_cifar10()\n",
        "t1 = time.time()\n",
        "\n",
        "correct = 0\n",
        "with torch.no_grad():\n",
        "    for images, labels in loader['test']:\n",
        "        outputs = Tnet(images,1)\n",
        "        _, predicted = torch.max(outputs.data, 1)\n",
        "        correct += (predicted == labels).sum().item()\n",
        "\n",
        "acc = float(correct / 10000)\n",
        "print(acc)\n",
        "\n",
        "\n",
        "t2 = time.time()\n",
        "elapsed_time = t2-t1\n",
        "print(f\"経過時間：{elapsed_time}\")"
      ],
      "execution_count": 21,
      "outputs": [
        {
          "output_type": "stream",
          "text": [
            "Files already downloaded and verified\n",
            "Files already downloaded and verified\n"
          ],
          "name": "stdout"
        },
        {
          "output_type": "stream",
          "text": [
            "/usr/local/lib/python3.6/dist-packages/ipykernel_launcher.py:35: UserWarning: Implicit dimension choice for softmax has been deprecated. Change the call to include dim=X as an argument.\n"
          ],
          "name": "stderr"
        },
        {
          "output_type": "stream",
          "text": [
            "0.7364\n",
            "経過時間：10.576042652130127\n"
          ],
          "name": "stdout"
        }
      ]
    },
    {
      "cell_type": "markdown",
      "metadata": {
        "id": "9II3PSPuCPrT",
        "colab_type": "text"
      },
      "source": [
        "**温度ごとにおける生徒モデルの学習(のみ)**"
      ]
    },
    {
      "cell_type": "code",
      "metadata": {
        "id": "v7fr4L-1Oua2",
        "colab_type": "code",
        "colab": {
          "base_uri": "https://localhost:8080/",
          "height": 1000
        },
        "outputId": "807daef9-57b7-44a2-d5ec-965d94882ff1"
      },
      "source": [
        "for i in range(0,21,5):\n",
        "    if i==0:\n",
        "      temp=0.1\n",
        "    else:\n",
        "      temp = i/10\n",
        "    if __name__ == '__main__':\n",
        "        # 学習回数\n",
        "        history = {\n",
        "          'train_loss': [],\n",
        "          'test_loss': [],\n",
        "          'test_acc': [],\n",
        "          }\n",
        "        epoch = 50\n",
        "\n",
        "        net: MyNet = MyNet()\n",
        "        loaders = load_cifar10()\n",
        "\n",
        "        criterion = T_S_Closs_entropy()\n",
        "\n",
        "        optimizer = torch.optim.Adam(params=net.parameters(), lr=0.001)\n",
        "        device = torch.device('cuda:0' if torch.cuda.is_available() else 'cpu')\n",
        "        net.to(device)\n",
        "        Tnet.to(device)\n",
        "\n",
        "        for e in range(1,epoch+1):\n",
        "\n",
        "            \"\"\" Training Part\"\"\"\n",
        "            loss = None\n",
        "            net.train()\n",
        "            for data, target in loaders['train']:\n",
        "                \n",
        "                data = data.to(device)\n",
        "                target = target.to(device)\n",
        "\n",
        "                max_model_outputs = Tnet(data,temp)\n",
        "                data = data.view(-1, 32 * 32 * 3)\n",
        "                output = net(data,temp)\n",
        "\n",
        "                optimizer.zero_grad()\n",
        "\n",
        "                loss = criterion(max_model_outputs,output)\n",
        "\n",
        "                loss.backward()\n",
        "                optimizer.step()\n",
        "\n",
        "\n",
        "            net.eval()\n",
        "            correct = 0\n",
        "            test_loss = 0\n",
        "            correct = 0\n",
        "            with torch.no_grad():\n",
        "                for data, target in loaders['test']:\n",
        "                    data = data.to(device) \n",
        "                    target = target.to(device)\n",
        "                    data = data.view(-1, 32 * 32 * 3)\n",
        "                    output = net(data,temp)\n",
        "                    test_loss += f.nll_loss(f.log_softmax(output, dim=1), target, reduction='sum').item()\n",
        "                    pred = output.argmax(dim=1, keepdim=True)\n",
        "                    correct += pred.eq(target.view_as(pred)).sum().item()\n",
        "            history['test_acc'].append(correct / 10000)\n",
        "\n",
        "            if e%10==0:\n",
        "              print('temp: {} ,Training log: {} ,epoch：Loss: {}'.format(temp,e ,loss.item()))\n",
        "              acc = float(correct / 10000)\n",
        "              print(acc)\n",
        "        \n",
        "        #====== 保存 =======\n",
        "        path = '/content/gdrive/My Drive/コード/weight_distillationNN_gc'+str(temp)+'.pth' # 保存先pathの設定\n",
        "        torch.save(net.state_dict(), path) # 保存\n",
        "\n",
        "        plt.figure()\n",
        "        plt.plot(range(1, epoch+1), history['test_acc'])\n",
        "        plt.title('test accuracy')\n",
        "        plt.xlabel('epoch')\n",
        "        plt.savefig('test_acc.png')"
      ],
      "execution_count": 25,
      "outputs": [
        {
          "output_type": "stream",
          "text": [
            "Files already downloaded and verified\n",
            "Files already downloaded and verified\n"
          ],
          "name": "stdout"
        },
        {
          "output_type": "stream",
          "text": [
            "/usr/local/lib/python3.6/dist-packages/ipykernel_launcher.py:35: UserWarning: Implicit dimension choice for softmax has been deprecated. Change the call to include dim=X as an argument.\n",
            "/usr/local/lib/python3.6/dist-packages/ipykernel_launcher.py:47: UserWarning: Implicit dimension choice for log_softmax has been deprecated. Change the call to include dim=X as an argument.\n"
          ],
          "name": "stderr"
        },
        {
          "output_type": "stream",
          "text": [
            "temp: 0.1 ,Training log: 10 ,epoch：Loss: 132.35552978515625\n",
            "0.484\n",
            "temp: 0.1 ,Training log: 20 ,epoch：Loss: 147.4191131591797\n",
            "0.502\n",
            "temp: 0.1 ,Training log: 30 ,epoch：Loss: 68.90742492675781\n",
            "0.4942\n",
            "temp: 0.1 ,Training log: 40 ,epoch：Loss: 57.61478042602539\n",
            "0.4974\n",
            "temp: 0.1 ,Training log: 50 ,epoch：Loss: 101.80387878417969\n",
            "0.4978\n",
            "Files already downloaded and verified\n",
            "Files already downloaded and verified\n",
            "temp: 0.5 ,Training log: 10 ,epoch：Loss: 82.12960815429688\n",
            "0.5301\n",
            "temp: 0.5 ,Training log: 20 ,epoch：Loss: 57.57966613769531\n",
            "0.5296\n",
            "temp: 0.5 ,Training log: 30 ,epoch：Loss: 45.96782302856445\n",
            "0.5408\n",
            "temp: 0.5 ,Training log: 40 ,epoch：Loss: 53.003684997558594\n",
            "0.5389\n",
            "temp: 0.5 ,Training log: 50 ,epoch：Loss: 44.36888122558594\n",
            "0.5404\n",
            "Files already downloaded and verified\n",
            "Files already downloaded and verified\n",
            "temp: 1.0 ,Training log: 10 ,epoch：Loss: 83.99095153808594\n",
            "0.5165\n",
            "temp: 1.0 ,Training log: 20 ,epoch：Loss: 66.637939453125\n",
            "0.5419\n",
            "temp: 1.0 ,Training log: 30 ,epoch：Loss: 72.99449157714844\n",
            "0.5504\n",
            "temp: 1.0 ,Training log: 40 ,epoch：Loss: 62.12818908691406\n",
            "0.5549\n",
            "temp: 1.0 ,Training log: 50 ,epoch：Loss: 64.02413940429688\n",
            "0.5518\n",
            "Files already downloaded and verified\n",
            "Files already downloaded and verified\n",
            "temp: 1.5 ,Training log: 10 ,epoch：Loss: 114.93553161621094\n",
            "0.5574\n",
            "temp: 1.5 ,Training log: 20 ,epoch：Loss: 102.87342071533203\n",
            "0.5522\n",
            "temp: 1.5 ,Training log: 30 ,epoch：Loss: 106.63835906982422\n",
            "0.5677\n",
            "temp: 1.5 ,Training log: 40 ,epoch：Loss: 90.43872833251953\n",
            "0.5641\n",
            "temp: 1.5 ,Training log: 50 ,epoch：Loss: 85.66917419433594\n",
            "0.552\n",
            "Files already downloaded and verified\n",
            "Files already downloaded and verified\n",
            "temp: 2.0 ,Training log: 10 ,epoch：Loss: 124.1922607421875\n",
            "0.5461\n",
            "temp: 2.0 ,Training log: 20 ,epoch：Loss: 112.58767700195312\n",
            "0.5517\n",
            "temp: 2.0 ,Training log: 30 ,epoch：Loss: 117.99256896972656\n",
            "0.5512\n",
            "temp: 2.0 ,Training log: 40 ,epoch：Loss: 115.48538208007812\n",
            "0.5687\n",
            "temp: 2.0 ,Training log: 50 ,epoch：Loss: 112.20848083496094\n",
            "0.5682\n"
          ],
          "name": "stdout"
        },
        {
          "output_type": "display_data",
          "data": {
            "image/png": "[encoded data removed]",
            "text/plain": [
              "<Figure size 432x288 with 1 Axes>"
            ]
          },
          "metadata": {
            "tags": [],
            "needs_background": "light"
          }
        },
        {
          "output_type": "display_data",
          "data": {
            "image/png": "[encoded data removed]",
            "text/plain": [
              "<Figure size 432x288 with 1 Axes>"
            ]
          },
          "metadata": {
            "tags": [],
            "needs_background": "light"
          }
        },
        {
          "output_type": "display_data",
          "data": {
            "image/png": "[encoded data removed]",
            "text/plain": [
              "<Figure size 432x288 with 1 Axes>"
            ]
          },
          "metadata": {
            "tags": [],
            "needs_background": "light"
          }
        },
        {
          "output_type": "display_data",
          "data": {
            "image/png": "[encoded data removed]",
            "text/plain": [
              "<Figure size 432x288 with 1 Axes>"
            ]
          },
          "metadata": {
            "tags": [],
            "needs_background": "light"
          }
        },
        {
          "output_type": "display_data",
          "data": {
            "image/png": "[encoded data removed]",
            "text/plain": [
              "<Figure size 432x288 with 1 Axes>"
            ]
          },
          "metadata": {
            "tags": [],
            "needs_background": "light"
          }
        }
      ]
    },
    {
      "cell_type": "markdown",
      "metadata": {
        "id": "Oj-hX51KUlQD",
        "colab_type": "text"
      },
      "source": [
        "感想\n",
        "温度が低すぎると、正解ラベルと同じような分布の比較となる。\n",
        "しかし、学習する正解ラベルは精度72%の精度の低い正解モデルのため蒸留されるモデルも精度が低くなる。\n",
        "\n",
        "一方で、0.1,0.5,1,1.5,2　の場合温度が高くなるにつれ、精度も高まっている印象を受ける。\n",
        "\n",
        "温度の最善はあるのかどうかは不明。温度を高くしすぎるとソフトになりすぎて学習できる特徴が減るため、問題は生じると予想はしておく。"
      ]
    },
    {
      "cell_type": "code",
      "metadata": {
        "id": "nc63sKbkJd9R",
        "colab_type": "code",
        "colab": {}
      },
      "source": [
        ""
      ],
      "execution_count": 0,
      "outputs": []
    }
  ]
}