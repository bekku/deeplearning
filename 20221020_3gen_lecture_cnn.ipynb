{
  "nbformat": 4,
  "nbformat_minor": 0,
  "metadata": {
    "colab": {
      "provenance": [],
      "collapsed_sections": [],
      "authorship_tag": "ABX9TyNglCP1GXCJjkuCxpqty3u4"
    },
    "kernelspec": {
      "name": "python3",
      "display_name": "Python 3"
    },
    "language_info": {
      "name": "python"
    }
  },
  "cells": [
    {
      "cell_type": "code",
      "execution_count": 57,
      "metadata": {
        "id": "mOeD9Bn4G0Y6"
      },
      "outputs": [],
      "source": [
        "# pythonでよく使われるライブラリ\n",
        "import os\n",
        "import random\n",
        "import numpy as np\n",
        "import pandas as pd\n",
        "import matplotlib.pyplot as plt\n",
        "\n",
        "# ニューラルネットワーク構築でよく使うライブラリ、他にもtfやkerasなど\n",
        "import torch\n",
        "import torch.nn as nn\n",
        "import torchvision\n",
        "\n",
        "# 画像分野でよく使われるライブラリ、他にopencvなどいろいろ\n",
        "from PIL import Image\n",
        "from IPython.display import display\n",
        "\n",
        "torch.cuda.is_available()\n",
        "def set_seed(seed):\n",
        "    torch.manual_seed(seed)\n",
        "    torch.cuda.manual_seed_all(seed)\n",
        "    torch.backends.cudnn.deterministic = True\n",
        "    torch.backends.cudnn.benchmark = False\n",
        "    np.random.seed(seed)\n",
        "    random.seed(seed)\n",
        "    os.environ['PYTHONHASHSEED'] = str(seed)\n",
        "set_seed(1)\n",
        "os.environ['CUDA_LAUNCH_BLOCKING'] = \"1\""
      ]
    },
    {
      "cell_type": "markdown",
      "source": [
        "# 1.  データ準備"
      ],
      "metadata": {
        "id": "pCO3jZINJSJj"
      }
    },
    {
      "cell_type": "code",
      "source": [
        "transform = torchvision.transforms.Compose([\n",
        "    torchvision.transforms.ToTensor()\n",
        "    ])\n",
        "\n",
        "# MNISTデータの取得\n",
        "# https://pytorch.org/vision/stable/generated/torchvision.datasets.MNIST.html#torchvision.datasets.MNIST\n",
        "# 学習用\n",
        "train_dataset = torchvision.datasets.MNIST(\n",
        "    './data',               # データの保存先\n",
        "    train = True,           # 学習用データを取得する\n",
        "    download = True,        # データが無い時にダウンロードする\n",
        "    transform = transform   # テンソルへの変換など\n",
        "    )\n",
        "# 評価用\n",
        "test_dataset = torchvision.datasets.MNIST(\n",
        "    './data', \n",
        "    train = False,\n",
        "    transform = transform\n",
        "    )\n",
        "\n",
        "# データローダー\n",
        "train_dataloader = torch.utils.data.DataLoader(\n",
        "    train_dataset,\n",
        "    batch_size = 128,\n",
        "    shuffle = True)\n",
        "test_dataloader = torch.utils.data.DataLoader(\n",
        "    test_dataset,     \n",
        "    batch_size = 128,\n",
        "    shuffle = True)"
      ],
      "metadata": {
        "id": "xDkZv3qLHyaq"
      },
      "execution_count": 39,
      "outputs": []
    },
    {
      "cell_type": "markdown",
      "source": [
        "### データセットの0番目を可視化"
      ],
      "metadata": {
        "id": "vbPCPAL8MDsa"
      }
    },
    {
      "cell_type": "code",
      "source": [
        "# データセット\n",
        "data_0 = train_dataset[0]\n",
        "image = data_0[0]\n",
        "label = data_0[1]\n",
        "\n",
        "tensor_to_pil = torchvision.transforms.ToPILImage()\n",
        "img = tensor_to_pil(image)\n",
        "display(img)\n",
        "print(\"ラベル名称　： \", label)"
      ],
      "metadata": {
        "colab": {
          "base_uri": "https://localhost:8080/",
          "height": 63
        },
        "id": "AL1qPRjMKiLR",
        "outputId": "94d2987a-b10a-42d2-e6e9-ffd2d8ff1c7f"
      },
      "execution_count": 115,
      "outputs": [
        {
          "output_type": "display_data",
          "data": {
            "text/plain": [
              "<PIL.Image.Image image mode=L size=28x28 at 0x7F36C328CD90>"
            ],
            "image/png": "[encoded data removed]"
          },
          "metadata": {}
        },
        {
          "output_type": "stream",
          "name": "stdout",
          "text": [
            "ラベル名称　：  5\n"
          ]
        }
      ]
    },
    {
      "cell_type": "markdown",
      "source": [
        "## 2.  モデル作成・定義"
      ],
      "metadata": {
        "id": "jtJS3uZVMPiw"
      }
    },
    {
      "cell_type": "code",
      "source": [
        "class CNN(nn.Module):\n",
        "    def __init__(self): # , num_classes):\n",
        "        super(CNN, self).__init__()\n",
        "        self.conv_0 = nn.Conv2d(1, 16, kernel_size=3, padding=1)\n",
        "        self.sigmoid = nn.Sigmoid()\n",
        "        self.classifier = nn.Linear(16*28*28, 10)\n",
        "\n",
        "    def forward(self, x):\n",
        "        x0 = self.conv_0(x)\n",
        "        x0 = self.sigmoid(x0)\n",
        "        x_view = x0.view(x0.size(0), -1)\n",
        "        output = self.classifier(x_view)\n",
        "        return output"
      ],
      "metadata": {
        "id": "cq_mfT69HRXq"
      },
      "execution_count": 116,
      "outputs": []
    },
    {
      "cell_type": "code",
      "source": [
        "device = torch.device('cuda:0' if torch.cuda.is_available() else 'cpu')\n",
        "net = CNN().to(device)"
      ],
      "metadata": {
        "id": "0d5M_vUzIsLu"
      },
      "execution_count": 117,
      "outputs": []
    },
    {
      "cell_type": "code",
      "source": [
        "# 画像をバッチ化(ただの画像、一番最初に次元を一つ追加する必要がある)\n",
        "image_batch = image.unsqueeze(0)\n",
        "print(image.size(), \"から\", image_batch.size(), \"\\n\")\n",
        "# 出力結果\n",
        "net(image_batch.to(device)).tolist()"
      ],
      "metadata": {
        "colab": {
          "base_uri": "https://localhost:8080/"
        },
        "id": "wy_PRDB9TIDL",
        "outputId": "375da2ad-3af1-47f2-f62c-75a358e43baf"
      },
      "execution_count": 125,
      "outputs": [
        {
          "output_type": "stream",
          "name": "stdout",
          "text": [
            "torch.Size([1, 28, 28]) から torch.Size([1, 1, 28, 28]) \n",
            "\n"
          ]
        },
        {
          "output_type": "execute_result",
          "data": {
            "text/plain": [
              "[[0.13378402590751648,\n",
              "  0.046661507338285446,\n",
              "  -0.4594731628894806,\n",
              "  0.01540127769112587,\n",
              "  0.25467240810394287,\n",
              "  -0.1130208894610405,\n",
              "  -0.7830095291137695,\n",
              "  -0.2249649465084076,\n",
              "  0.22108715772628784,\n",
              "  -0.24429981410503387]]"
            ]
          },
          "metadata": {},
          "execution_count": 125
        }
      ]
    },
    {
      "cell_type": "markdown",
      "source": [
        "# 3. CNN学習"
      ],
      "metadata": {
        "id": "98fVnbjcMSeB"
      }
    },
    {
      "cell_type": "code",
      "source": [
        "def CNNlearning(net, train_dataloader, epoch):\n",
        "    set_seed(1)\n",
        "    device = torch.device('cuda:0' if torch.cuda.is_available() else 'cpu')\n",
        "\n",
        "    # 学習率\n",
        "    lr_set = 0.001\n",
        "    # ロス関数\n",
        "    criterion = torch.nn.CrossEntropyLoss()\n",
        "    # 最適化アルゴリズム\n",
        "    optimizer = torch.optim.SGD(net.parameters(), lr=lr_set)\n",
        "    # ロスの減少を確認するためのリスト\n",
        "    train_loss= []\n",
        "\n",
        "    net.train()\n",
        "    for e in range(epoch):\n",
        "        loss = None\n",
        "        net.zero_grad()\n",
        "        optimizer.zero_grad()\n",
        "        for i, (images, labels) in enumerate(train_dataloader):\n",
        "            images = images.to(device) \n",
        "            labels = labels.to(device)\n",
        "\n",
        "            # モデルに画像を入力して、出力(output)\n",
        "            output = net(images)\n",
        "\n",
        "            # モデルの出力とラベルでロス(誤差)を計算\n",
        "            loss = criterion(output, labels)\n",
        "\n",
        "            # 誤差から、最適なパラメータを求めに行く\n",
        "            loss.backward()\n",
        "            optimizer.step()\n",
        "\n",
        "        # Lossの値を出力とリストへ追加 \n",
        "        print(e, \"epochのロス : \", loss.item())\n",
        "        train_loss.append(loss.item())\n",
        "\n",
        "    # 結果をプロット\n",
        "    plt.figure()\n",
        "    plt.plot(range(1, len(train_loss)+1), train_loss)\n",
        "    plt.title('Training Loss')\n",
        "    plt.xlabel('epoch')\n",
        "    plt.ylabel('loss')\n",
        "    return net"
      ],
      "metadata": {
        "id": "ThsPp1-zMZNY"
      },
      "execution_count": 177,
      "outputs": []
    },
    {
      "cell_type": "code",
      "source": [
        "cnn = CNN().to(device)\n",
        "trained_cnn = CNNlearning(cnn, train_dataloader, epoch=5)"
      ],
      "metadata": {
        "colab": {
          "base_uri": "https://localhost:8080/",
          "height": 384
        },
        "id": "O3VeuCWYNzgN",
        "outputId": "f47fac4e-9bc3-4205-b33f-82a244e81f3b"
      },
      "execution_count": 178,
      "outputs": [
        {
          "output_type": "stream",
          "name": "stdout",
          "text": [
            "0 epochのロス :  0.6168243885040283\n",
            "1 epochのロス :  0.5317970514297485\n",
            "2 epochのロス :  0.23817168176174164\n",
            "3 epochのロス :  0.34340253472328186\n",
            "4 epochのロス :  0.3479878902435303\n"
          ]
        },
        {
          "output_type": "display_data",
          "data": {
            "text/plain": [
              "<Figure size 432x288 with 1 Axes>"
            ],
            "image/png": "[encoded data removed]"
          },
          "metadata": {
            "needs_background": "light"
          }
        }
      ]
    },
    {
      "cell_type": "markdown",
      "source": [
        "# 4. CNNを推論"
      ],
      "metadata": {
        "id": "fDKWpvJAVgFn"
      }
    },
    {
      "cell_type": "code",
      "source": [
        "# データセット\n",
        "data_0 = train_dataset[0]\n",
        "image = data_0[0]\n",
        "label = data_0[1]\n",
        "\n",
        "tensor_to_pil = torchvision.transforms.ToPILImage()\n",
        "img = tensor_to_pil(image)\n",
        "display(img)\n",
        "print(\"ラベル名称　： \", label)\n",
        "\n",
        "# 画像をバッチ化(ただの画像、一番最初に次元を一つ追加する必要がある)\n",
        "image_batch = image.unsqueeze(0)\n",
        "# 出力結果\n",
        "pred_output = trained_cnn(image_batch.to(device))\n",
        "print(\"本当の出力 : \", pred_output.tolist())\n",
        "print(\"推論結果 : \", torch.max(pred_output.data, 1)[1].item())"
      ],
      "metadata": {
        "colab": {
          "base_uri": "https://localhost:8080/",
          "height": 119
        },
        "id": "xQCaD5IxWBPF",
        "outputId": "fdd49b41-7254-43a5-c344-9b6e955bfab6"
      },
      "execution_count": 182,
      "outputs": [
        {
          "output_type": "display_data",
          "data": {
            "text/plain": [
              "<PIL.Image.Image image mode=L size=28x28 at 0x7F36C29954D0>"
            ],
            "image/png": "[encoded data removed]"
          },
          "metadata": {}
        },
        {
          "output_type": "stream",
          "name": "stdout",
          "text": [
            "ラベル名称　：  5\n",
            "本当の出力 :  [[-5.090204238891602, -3.6124279499053955, -9.53685188293457, 14.663860321044922, -7.253535270690918, 16.443328857421875, -11.356602668762207, 0.8943508267402649, 1.189014196395874, 3.7971625328063965]]\n",
            "推論結果 :  5\n"
          ]
        }
      ]
    },
    {
      "cell_type": "markdown",
      "source": [
        "# 5. 性能を評価"
      ],
      "metadata": {
        "id": "t2kvzeqVVacc"
      }
    },
    {
      "cell_type": "code",
      "source": [
        "from sklearn.metrics import accuracy_score, precision_score, recall_score, f1_score, confusion_matrix\n",
        "def eval_func(net, test_dataloader):\n",
        "  device = torch.device('cuda:0' if torch.cuda.is_available() else 'cpu')\n",
        "  set_seed(1)\n",
        "  net.eval()\n",
        "\n",
        "  predlist = []\n",
        "  labelist = []\n",
        "  with torch.no_grad():\n",
        "      set_seed(1)\n",
        "      for i, (images, labels) in enumerate(test_dataloader):\n",
        "          images = images.to(device)\n",
        "          labels = labels.to(device)\n",
        "          outputs = net(images)\n",
        "          _, predicted = torch.max(outputs.data, 1)\n",
        "          labelist += labels.tolist()\n",
        "          predlist += predicted.tolist()\n",
        "  acc = accuracy_score(predlist, labelist)\n",
        "  return acc"
      ],
      "metadata": {
        "id": "XJQAdTCvNzRZ"
      },
      "execution_count": 186,
      "outputs": []
    },
    {
      "cell_type": "code",
      "source": [
        "\"正解率\", eval_func(trained_cnn, test_dataloader=train_dataloader)*100, \"%\""
      ],
      "metadata": {
        "colab": {
          "base_uri": "https://localhost:8080/"
        },
        "id": "eyolh3H7VE0U",
        "outputId": "a558ff64-dfee-4317-cc5b-1d7f19542e3d"
      },
      "execution_count": 187,
      "outputs": [
        {
          "output_type": "execute_result",
          "data": {
            "text/plain": [
              "('正解率', 90.25, '%')"
            ]
          },
          "metadata": {},
          "execution_count": 187
        }
      ]
    },
    {
      "cell_type": "code",
      "source": [
        "\"正解率\", eval_func(trained_cnn, test_dataloader=test_dataloader)*100, \"%\""
      ],
      "metadata": {
        "colab": {
          "base_uri": "https://localhost:8080/"
        },
        "id": "QJpC4C-KVOtB",
        "outputId": "d2e4fdc7-0f28-4484-8456-2542837a7b3b"
      },
      "execution_count": 188,
      "outputs": [
        {
          "output_type": "execute_result",
          "data": {
            "text/plain": [
              "('正解率', 90.27, '%')"
            ]
          },
          "metadata": {},
          "execution_count": 188
        }
      ]
    },
    {
      "cell_type": "markdown",
      "source": [
        "# 6. 論文の貢献部分を実装"
      ],
      "metadata": {
        "id": "cft0tBg7YirZ"
      }
    },
    {
      "cell_type": "code",
      "source": [
        "class update_CNN(nn.Module):\n",
        "    def __init__(self): # , num_classes):\n",
        "        super(update_CNN, self).__init__()\n",
        "        self.conv_0 = nn.Conv2d(1, 16, kernel_size=3, padding=1)\n",
        "        self.classifier = nn.Linear(16*28*28, 10)\n",
        "\n",
        "        self.conv_1 = nn.Conv2d(16, 16, kernel_size=3, padding=1)\n",
        "        self.relu = nn.ReLU()\n",
        "        self.dropout = nn.Dropout()\n",
        "\n",
        "    def forward(self, x):\n",
        "        x0 = self.conv_0(x)\n",
        "        x0 = self.relu(x0)\n",
        "        x1 = self.conv_1(x0)\n",
        "        x1 = self.relu(x1)\n",
        "        x_view = x1.view(x1.size(0), -1)\n",
        "        x_view_dropout = self.dropout(x_view)\n",
        "        output = self.classifier(x_view_dropout)\n",
        "        return output"
      ],
      "metadata": {
        "id": "brize9POVUIG"
      },
      "execution_count": 189,
      "outputs": []
    },
    {
      "cell_type": "code",
      "source": [
        "update_cnn = update_CNN().to(device)\n",
        "trained_update_cnn = CNNlearning(update_cnn, train_dataloader, epoch=5)"
      ],
      "metadata": {
        "colab": {
          "base_uri": "https://localhost:8080/",
          "height": 384
        },
        "id": "s4eKSl8mbf2z",
        "outputId": "ec434508-e6a0-489d-c036-e68732c14870"
      },
      "execution_count": 190,
      "outputs": [
        {
          "output_type": "stream",
          "name": "stdout",
          "text": [
            "0 epochのロス :  0.3475196361541748\n",
            "1 epochのロス :  0.26881399750709534\n",
            "2 epochのロス :  0.14105449616909027\n",
            "3 epochのロス :  0.2044583559036255\n",
            "4 epochのロス :  0.20866991579532623\n"
          ]
        },
        {
          "output_type": "display_data",
          "data": {
            "text/plain": [
              "<Figure size 432x288 with 1 Axes>"
            ],
            "image/png": "[encoded data removed]"
          },
          "metadata": {
            "needs_background": "light"
          }
        }
      ]
    },
    {
      "cell_type": "markdown",
      "source": [
        "# 7. もう一度、性能を評価"
      ],
      "metadata": {
        "id": "GYw89krxa2R_"
      }
    },
    {
      "cell_type": "code",
      "source": [
        "\"正解率\", eval_func(trained_update_cnn, test_dataloader=train_dataloader)*100, \"%\""
      ],
      "metadata": {
        "colab": {
          "base_uri": "https://localhost:8080/"
        },
        "id": "U9X6H6ukarlW",
        "outputId": "3d0efc32-5049-4bdc-f1b7-4b1a6607e542"
      },
      "execution_count": 191,
      "outputs": [
        {
          "output_type": "execute_result",
          "data": {
            "text/plain": [
              "('正解率', 97.36833333333334, '%')"
            ]
          },
          "metadata": {},
          "execution_count": 191
        }
      ]
    },
    {
      "cell_type": "code",
      "source": [
        "\"正解率\", eval_func(trained_update_cnn, test_dataloader=test_dataloader)*100, \"%\""
      ],
      "metadata": {
        "colab": {
          "base_uri": "https://localhost:8080/"
        },
        "id": "ejfR73OnbhwU",
        "outputId": "2ec2073f-98e9-4588-d7c9-59db3aa48e8a"
      },
      "execution_count": 192,
      "outputs": [
        {
          "output_type": "execute_result",
          "data": {
            "text/plain": [
              "('正解率', 97.43, '%')"
            ]
          },
          "metadata": {},
          "execution_count": 192
        }
      ]
    },
    {
      "cell_type": "code",
      "source": [],
      "metadata": {
        "id": "j4zH0Y79biOr"
      },
      "execution_count": null,
      "outputs": []
    }
  ]
}